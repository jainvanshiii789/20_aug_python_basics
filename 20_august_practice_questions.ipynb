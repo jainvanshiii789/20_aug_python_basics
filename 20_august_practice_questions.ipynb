{
 "cells": [
  {
   "cell_type": "markdown",
   "id": "a5101936-217f-411b-9b53-0472a4db8267",
   "metadata": {},
   "source": [
    "# 20 AUGUST ASSIGNMENT:"
   ]
  },
  {
   "cell_type": "markdown",
   "id": "0c34f077-43c8-49a3-b656-60202559fd24",
   "metadata": {},
   "source": [
    "## STRING BASED QUESTIONS:"
   ]
  },
  {
   "cell_type": "markdown",
   "id": "69c7ac1f-1b8c-46f4-a7b3-3b02bb7f7b2c",
   "metadata": {},
   "source": [
    "Q.1.REVERSE THE STRING;"
   ]
  },
  {
   "cell_type": "code",
   "execution_count": 1,
   "id": "9d607995-96cc-4ad8-8784-22def31e776e",
   "metadata": {},
   "outputs": [],
   "source": [
    "#let the string is,\n",
    "s = \"harry potter\""
   ]
  },
  {
   "cell_type": "code",
   "execution_count": 2,
   "id": "4b094559-71ea-4711-a634-1f7f80ab0ebe",
   "metadata": {},
   "outputs": [
    {
     "data": {
      "text/plain": [
       "str"
      ]
     },
     "execution_count": 2,
     "metadata": {},
     "output_type": "execute_result"
    }
   ],
   "source": [
    "type(s)"
   ]
  },
  {
   "cell_type": "code",
   "execution_count": 3,
   "id": "09a995e9-d92c-43bd-902a-b1d65af193b0",
   "metadata": {},
   "outputs": [],
   "source": [
    "#reverse the string;\n",
    "reverse = s[::-1]"
   ]
  },
  {
   "cell_type": "code",
   "execution_count": 8,
   "id": "fb0e1d5a-7409-4aec-9faf-8dd7795bc62f",
   "metadata": {},
   "outputs": [
    {
     "name": "stdout",
     "output_type": "stream",
     "text": [
      "rettop yrrah\n"
     ]
    }
   ],
   "source": [
    "print(reverse)"
   ]
  },
  {
   "cell_type": "markdown",
   "id": "3b50c20c-9719-4c25-8c90-254f5a4f70c5",
   "metadata": {},
   "source": [
    "or"
   ]
  },
  {
   "cell_type": "code",
   "execution_count": 5,
   "id": "4da14291-9ccb-4aaa-9e2f-5122c691dcc6",
   "metadata": {},
   "outputs": [],
   "source": [
    "def reverse_string(input_string):\n",
    "    reversed_string = \"\"\n",
    "    for char in input_string:\n",
    "        reversed_string = char + reversed_string\n",
    "    return reversed_string    \n",
    "    \n",
    "    "
   ]
  },
  {
   "cell_type": "code",
   "execution_count": 7,
   "id": "82d5b841-80ca-4300-ad59-1e4ea1f383a6",
   "metadata": {},
   "outputs": [
    {
     "name": "stdout",
     "output_type": "stream",
     "text": [
      "ammum\n"
     ]
    }
   ],
   "source": [
    "input_str = \"mumma\"\n",
    "reversed_string = reverse_string(input_str)\n",
    "print(reversed_string)"
   ]
  },
  {
   "cell_type": "markdown",
   "id": "43a72cde-44bd-4856-8bb3-0283aa1395df",
   "metadata": {},
   "source": [
    "Q.2.STRING IS PALINDROME OR NOT"
   ]
  },
  {
   "cell_type": "code",
   "execution_count": 10,
   "id": "2bac2a45-01b3-46ad-ae11-e2da22736f95",
   "metadata": {},
   "outputs": [
    {
     "data": {
      "text/plain": [
       "'harry potter'"
      ]
     },
     "execution_count": 10,
     "metadata": {},
     "output_type": "execute_result"
    }
   ],
   "source": [
    "#2.string is palindrome or not;\n",
    "s"
   ]
  },
  {
   "cell_type": "code",
   "execution_count": 11,
   "id": "f3f1fa2c-cdfb-42ba-a697-b33d89bc6fc8",
   "metadata": {},
   "outputs": [
    {
     "data": {
      "text/plain": [
       "'rettop yrrah'"
      ]
     },
     "execution_count": 11,
     "metadata": {},
     "output_type": "execute_result"
    }
   ],
   "source": [
    "reverse"
   ]
  },
  {
   "cell_type": "code",
   "execution_count": 12,
   "id": "e3d83188-8754-435c-8707-b4c4ceb5312d",
   "metadata": {},
   "outputs": [
    {
     "name": "stdout",
     "output_type": "stream",
     "text": [
      "string is not palindrome\n"
     ]
    }
   ],
   "source": [
    "if s == reverse:\n",
    "   print(\"string is palindrome\")\n",
    "else:\n",
    "    print(\"string is not palindrome\")"
   ]
  },
  {
   "cell_type": "raw",
   "id": "64cdf769-9e8f-4351-8920-b6f70b071839",
   "metadata": {},
   "source": [
    "OR"
   ]
  },
  {
   "cell_type": "code",
   "execution_count": 5,
   "id": "455fe6d0-0421-493a-b6e5-d5117ddd8596",
   "metadata": {},
   "outputs": [],
   "source": [
    "def is_palindrome(s):\n",
    "    #convert the string into lowercase,\n",
    "      s = s.lower()\n",
    "    #remove spaces and punctuation from the string,    \n",
    "      s = ''.join(e for e in s if e.isalnum())\n",
    "        \n",
    "    #compare the original string with its reverse,\n",
    "      return s == s[::-1]\n"
   ]
  },
  {
   "cell_type": "code",
   "execution_count": 7,
   "id": "d05e4ce4-9b71-4eda-aecc-84a342da7279",
   "metadata": {},
   "outputs": [
    {
     "name": "stdout",
     "output_type": "stream",
     "text": [
      "True\n",
      "False\n"
     ]
    }
   ],
   "source": [
    "print(is_palindrome(\"PAAP\"))\n",
    "print(is_palindrome(\"love\"))"
   ]
  },
  {
   "cell_type": "markdown",
   "id": "6916337e-9d31-4f97-b7e5-fc08354d56d0",
   "metadata": {},
   "source": [
    "Q.3.convert a string into uppercase,"
   ]
  },
  {
   "cell_type": "markdown",
   "id": "5a8b4df5-aa85-4f79-840e-a1a104e45220",
   "metadata": {},
   "source": [
    "OR"
   ]
  },
  {
   "cell_type": "code",
   "execution_count": 10,
   "id": "d62eb351-2998-4ccf-93ea-77b8513cecce",
   "metadata": {},
   "outputs": [
    {
     "name": "stdin",
     "output_type": "stream",
     "text": [
      "Enter a string here: lovely\n"
     ]
    },
    {
     "name": "stdout",
     "output_type": "stream",
     "text": [
      "uppercase of lovely is LOVELY.\n"
     ]
    }
   ],
   "source": [
    "input_string = input(\"Enter a string here:\")\n",
    "#get input from user,\n",
    "uppercase_string = input_string.upper()\n",
    "#covert the string to uppercase,\n",
    "print(f\"uppercase of {input_string} is {uppercase_string}.\")\n",
    "#print the uppercase string."
   ]
  },
  {
   "cell_type": "markdown",
   "id": "430a023c-c970-4d54-9e44-d1bb8396ffb2",
   "metadata": {},
   "source": [
    "Q.4.convert the string into lower case;"
   ]
  },
  {
   "cell_type": "code",
   "execution_count": 12,
   "id": "e3a22dd2-3494-490c-bc3f-4e1717e04126",
   "metadata": {},
   "outputs": [
    {
     "name": "stdin",
     "output_type": "stream",
     "text": [
      "Enter a string here: PW skills\n"
     ]
    },
    {
     "name": "stdout",
     "output_type": "stream",
     "text": [
      "lowercase of PW skills is pw skills\n"
     ]
    }
   ],
   "source": [
    "input_string = input(\"Enter a string here:\")\n",
    "# get input from user.\n",
    "lowercase_str = input_string.lower()\n",
    "#convert the string to lowercase.\n",
    "print(\"lowercase of {} is {}\".format(input_string,lowercase_str))\n",
    "#print the lowercase string."
   ]
  },
  {
   "cell_type": "code",
   "execution_count": null,
   "id": "d9912a08-d767-46b7-8e56-01a34d0de70a",
   "metadata": {},
   "outputs": [],
   "source": []
  },
  {
   "cell_type": "markdown",
   "id": "694cb15b-9781-4782-b5b8-a6b9e6e1a34d",
   "metadata": {},
   "source": [
    "Q.5.count the no. of vowels in the string;"
   ]
  },
  {
   "cell_type": "code",
   "execution_count": 21,
   "id": "daebf571-8170-483f-b8b6-9425b362f582",
   "metadata": {},
   "outputs": [],
   "source": [
    "def count_vowels(string):\n",
    "    #initialize a variable,\n",
    "    vowel_count = 0\n",
    "    #convert the string to lowecase for case sensitive comparision,\n",
    "    string = string.lower()\n",
    "    #define a set of vowels,\n",
    "    vowels = set(\"aeiou\")\n",
    "    #iterate through each character in the string.\n",
    "    for char in string:\n",
    "        #check if the char is vowel,\n",
    "        if char in vowels:\n",
    "            #increment in vowel count if char is vowel.\n",
    "            vowel_count += 1\n",
    "    #return the final vowel count.        \n",
    "    return vowel_count      \n",
    "    "
   ]
  },
  {
   "cell_type": "code",
   "execution_count": 22,
   "id": "b340f3ba-954c-4d4f-b9fe-fe0265e139ad",
   "metadata": {},
   "outputs": [
    {
     "name": "stdout",
     "output_type": "stream",
     "text": [
      "the number of vowels is: 3\n"
     ]
    }
   ],
   "source": [
    "#test the function.\n",
    "input_string = \"Hello,world!\"\n",
    "result = count_vowels(input_string)\n",
    "print(\"the number of vowels is:\",result)\n"
   ]
  },
  {
   "cell_type": "markdown",
   "id": "44f81cfc-5592-47f5-bcbc-b5821002cdd7",
   "metadata": {},
   "source": [
    "Q.6. count the number of consonants in the string."
   ]
  },
  {
   "cell_type": "code",
   "execution_count": 26,
   "id": "50aaa7a9-73e7-45cc-9f2b-f467ac991d1d",
   "metadata": {},
   "outputs": [],
   "source": [
    "def count_consonants(string):\n",
    "    #initialize a variable,\n",
    "    cons_count = 0\n",
    "    #convert the string into lowercase,\n",
    "    string = string.lower()\n",
    "    # define a set of consonants.\n",
    "    cons = set(\"bcdfghjklmnpqrstvwxyz\")\n",
    "    #iterate through each char in the string,\n",
    "    for char in string:\n",
    "        #check if char is cons.\n",
    "        if char in cons:\n",
    "            #increse cons count with one if char is cons.\n",
    "            cons_count += 1\n",
    "    #return the final result.        \n",
    "    return cons_count        "
   ]
  },
  {
   "cell_type": "code",
   "execution_count": 27,
   "id": "d5377178-6b48-416b-b92d-1dc130b8b693",
   "metadata": {},
   "outputs": [
    {
     "name": "stdout",
     "output_type": "stream",
     "text": [
      "count of consonanats is: 7\n"
     ]
    }
   ],
   "source": [
    "#test the function:\n",
    "input_string = \"Hello,world!\"\n",
    "result = count_consonants(input_string)\n",
    "print(\"count of consonanats is:\",result)"
   ]
  },
  {
   "cell_type": "markdown",
   "id": "793d907d-341e-4ce8-9599-105ae8baf84a",
   "metadata": {},
   "source": [
    "Q.7.removing all whitespaces:"
   ]
  },
  {
   "cell_type": "code",
   "execution_count": 16,
   "id": "b219be03-8402-4376-847f-fe8982eef960",
   "metadata": {},
   "outputs": [],
   "source": [
    "s = \"my name is vanshika\""
   ]
  },
  {
   "cell_type": "code",
   "execution_count": 17,
   "id": "7690a3b4-9894-43d9-84f6-e003de7d79cd",
   "metadata": {},
   "outputs": [
    {
     "data": {
      "text/plain": [
       "str"
      ]
     },
     "execution_count": 17,
     "metadata": {},
     "output_type": "execute_result"
    }
   ],
   "source": [
    "type(s)"
   ]
  },
  {
   "cell_type": "code",
   "execution_count": 19,
   "id": "be6eb172-96ee-47ba-b404-9a8147122417",
   "metadata": {},
   "outputs": [],
   "source": [
    "a = s.replace(\" \",\"\")"
   ]
  },
  {
   "cell_type": "code",
   "execution_count": 20,
   "id": "d15d8acc-1fdc-4ed8-a5d1-ea220350b0af",
   "metadata": {},
   "outputs": [
    {
     "name": "stdout",
     "output_type": "stream",
     "text": [
      "mynameisvanshika\n"
     ]
    }
   ],
   "source": [
    "print(a)"
   ]
  },
  {
   "cell_type": "markdown",
   "id": "e660f8cc-0bc0-4378-98bb-71b679ba4830",
   "metadata": {},
   "source": [
    "or"
   ]
  },
  {
   "cell_type": "code",
   "execution_count": 31,
   "id": "f3ca2523-0ee3-40aa-aa30-ddbed110396d",
   "metadata": {},
   "outputs": [],
   "source": [
    "def remove_whitespaces(input_string):\n",
    "    # initialize an empty string ,\n",
    "    result = \"\"\n",
    "    \n",
    "    #Iterate through each char of the string.\n",
    "    for char in input_string:\n",
    "        #check if char is a whitespace.\n",
    "        if char !=\" \":\n",
    "            #if char is not a whitespace,append it to the result string.\n",
    "            result += char\n",
    "    #return the result.\n",
    "    return result"
   ]
  },
  {
   "cell_type": "code",
   "execution_count": 32,
   "id": "7e0fb6f4-94ca-4dec-912a-e104409a3c7e",
   "metadata": {},
   "outputs": [
    {
     "name": "stdout",
     "output_type": "stream",
     "text": [
      "Helloeveryone,howareyou?\n"
     ]
    }
   ],
   "source": [
    "input_string = \"Hello everyone,how are you?\"\n",
    "output = remove_whitespaces(input_string)\n",
    "print(output)"
   ]
  },
  {
   "cell_type": "markdown",
   "id": "e5136902-0216-4c0a-9c15-f0c92a5fdd26",
   "metadata": {},
   "source": [
    "Q.8.finding lengthof the string"
   ]
  },
  {
   "cell_type": "code",
   "execution_count": 34,
   "id": "6d743860-39c1-4bcf-8f0f-9f47061c7b7e",
   "metadata": {},
   "outputs": [
    {
     "name": "stdin",
     "output_type": "stream",
     "text": [
      " vanshika\n"
     ]
    },
    {
     "name": "stdout",
     "output_type": "stream",
     "text": [
      "the length of the string is: 8\n"
     ]
    }
   ],
   "source": [
    "input_string = input()\n",
    "#initialize a variable,\n",
    "count = 0\n",
    "for char in input_string:\n",
    "#iterate through each char in the string,    \n",
    "    count += 1\n",
    "    #increase the count variable by 1 for each char.\n",
    "print(\"the length of the string is:\",count)\n",
    "#print the final count i.e. length of the string."
   ]
  },
  {
   "cell_type": "markdown",
   "id": "bbb9a1f8-d2fa-47ed-9657-adf5b6dc5a63",
   "metadata": {},
   "source": [
    "Q.9.string contains specific word:"
   ]
  },
  {
   "cell_type": "code",
   "execution_count": 35,
   "id": "223d35a3-5c61-4611-b547-ed5c655146f9",
   "metadata": {},
   "outputs": [
    {
     "name": "stdin",
     "output_type": "stream",
     "text": [
      "Enter a string:  are you aware of the new policy?\n",
      "Enter the specific word to check for:  of\n"
     ]
    },
    {
     "name": "stdout",
     "output_type": "stream",
     "text": [
      "The string contains the word 'of'.\n"
     ]
    }
   ],
   "source": [
    "# Step 1: Input the string and the specific word\n",
    "input_string = input(\"Enter a string: \")\n",
    "specific_word = input(\"Enter the specific word to check for: \")\n",
    "\n",
    "# Step 2: Check if the specific word is present in the string using the 'in' keyword\n",
    "if specific_word in input_string:\n",
    "    # Step 3: Print message if word is present\n",
    "    print(f\"The string contains the word '{specific_word}'.\")\n",
    "else:\n",
    "    # Step 3: Print message if word is not present\n",
    "    print(f\"The string does not contain the word '{specific_word}'.\")"
   ]
  },
  {
   "cell_type": "markdown",
   "id": "f6b18421-1cbd-4cf3-8f86-9c09af73b166",
   "metadata": {},
   "source": [
    "Q. 10.replacing a word in string with another word:"
   ]
  },
  {
   "cell_type": "code",
   "execution_count": 36,
   "id": "101233b6-982a-469c-8b60-a8b189782a30",
   "metadata": {},
   "outputs": [
    {
     "name": "stdin",
     "output_type": "stream",
     "text": [
      "Enter a sentence:  please,help me!\n",
      "Enter the word to be replaced:  help\n",
      "Enter the new word:  save\n"
     ]
    },
    {
     "name": "stdout",
     "output_type": "stream",
     "text": [
      "Modified string: please,save me!\n"
     ]
    }
   ],
   "source": [
    " #Step 1: Accept the input string\n",
    "input_string = input(\"Enter a sentence: \")\n",
    "\n",
    "# Step 2: Accept the old word and the new word\n",
    "old_word = input(\"Enter the word to be replaced: \")\n",
    "new_word = input(\"Enter the new word: \")\n",
    "\n",
    "# Step 3: Replace the old word with the new word using string.replace() method\n",
    "modified_string = input_string.replace(old_word, new_word)\n",
    "\n",
    "# Step 4: Print the modified string\n",
    "print(\"Modified string:\", modified_string)"
   ]
  },
  {
   "cell_type": "markdown",
   "id": "bc9a3f7f-58a6-47bb-99fb-f5a5fcb7f388",
   "metadata": {},
   "source": [
    "Q.11.counting the occurence of the word:"
   ]
  },
  {
   "cell_type": "code",
   "execution_count": 39,
   "id": "b6354e87-c762-49a7-b249-0b2b6a5cd79b",
   "metadata": {},
   "outputs": [
    {
     "name": "stdout",
     "output_type": "stream",
     "text": [
      "The word 'is' appears 1 times in the input string.\n"
     ]
    }
   ],
   "source": [
    "def count_word_occurrences(input_string, target_word):\n",
    "    # Step 1: Initialize a variable to keep track of the word count\n",
    "    word_count = 0\n",
    "\n",
    "    # Step 2: Split the input string into a list of words\n",
    "    words = input_string.split()\n",
    "\n",
    "    # Step 3: Iterate through each word in the list\n",
    "    for word in words:\n",
    "        # Step 4: Check if the current word matches the target word\n",
    "        if word == target_word:\n",
    "            # Step 5: Increment the word count if the words match\n",
    "            word_count += 1\n",
    "\n",
    "    # Step 6: Return the final word count\n",
    "    return word_count\n",
    "\n",
    "# Input string\n",
    "input_string = \"pw skills is best platform to learn.\"\n",
    "\n",
    "# Target word to count\n",
    "target_word = \"is\"\n",
    "\n",
    "# Call the function and print the result\n",
    "result = count_word_occurrences(input_string, target_word)\n",
    "print(f\"The word '{target_word}' appears {result} times in the input string.\")"
   ]
  },
  {
   "cell_type": "markdown",
   "id": "3066e4c6-641f-4e8e-9a5a-83982447868b",
   "metadata": {},
   "source": [
    "Q.12. finding the first occurence of the word"
   ]
  },
  {
   "cell_type": "code",
   "execution_count": 41,
   "id": "53095f3b-ae40-4790-a905-2e56fc0d875f",
   "metadata": {},
   "outputs": [
    {
     "name": "stdout",
     "output_type": "stream",
     "text": [
      "Index of the first occurrence: 20\n"
     ]
    }
   ],
   "source": [
    "def find_first_occurrence(text, word):\n",
    "    # Step 1: Find the index of the first occurrence of the word in the text.\n",
    "    index = text.find(word)\n",
    "\n",
    "    # Step 2: Check if the index is -1, indicating that the word was not found.\n",
    "    if index == -1:\n",
    "        return None  # Return None if the word is not found.\n",
    "\n",
    "    # Step 3: Return the index of the first occurrence of the word.\n",
    "    return index\n",
    "\n",
    "# Example usage\n",
    "text = \"are you really that silly or my question is silly?\"\n",
    "word = \"silly\"\n",
    "result = find_first_occurrence(text, word)\n",
    "print(\"Index of the first occurrence:\", result)"
   ]
  },
  {
   "cell_type": "markdown",
   "id": "e547733a-31de-40a3-a48d-6d3f15717543",
   "metadata": {},
   "source": [
    "Q.13. finding the last occurence of a word"
   ]
  },
  {
   "cell_type": "code",
   "execution_count": 42,
   "id": "56b6f856-1a01-4592-a236-6e490c50f951",
   "metadata": {},
   "outputs": [
    {
     "name": "stdout",
     "output_type": "stream",
     "text": [
      "Index of the last occurrence: 66\n"
     ]
    }
   ],
   "source": [
    "def find_last_occurrence(text, word):\n",
    "    # Step 1: Find the index of the last occurrence of the word in the text.\n",
    "    index = text.rfind(word)\n",
    "\n",
    "    # Step 2: Check if the index is -1, indicating that the word was not found.\n",
    "    if index == -1:\n",
    "        return None  # Return None if the word is not found.\n",
    "\n",
    "    # Step 3: Return the index of the last occurrence of the word.\n",
    "    return index\n",
    "\n",
    "# Example usage\n",
    "text = \"This is an example sentence. This sentence also contains the word example.\"\n",
    "word = \"example\"\n",
    "result = find_last_occurrence(text, word)\n",
    "print(\"Index of the last occurrence:\", result)"
   ]
  },
  {
   "cell_type": "code",
   "execution_count": null,
   "id": "07e06066-7ce3-46df-bc69-1d8d8deeb27d",
   "metadata": {},
   "outputs": [],
   "source": []
  },
  {
   "cell_type": "markdown",
   "id": "d55514e6-dda0-40ee-b4c1-b4361d111e64",
   "metadata": {},
   "source": [
    "Q.14.splitting the string"
   ]
  },
  {
   "cell_type": "code",
   "execution_count": 44,
   "id": "9bca1dfe-afaa-41bc-9bb7-38f1b32c4fac",
   "metadata": {},
   "outputs": [
    {
     "name": "stdout",
     "output_type": "stream",
     "text": [
      "List of words: ['welcome', 'to', 'the', 'jungle.']\n"
     ]
    }
   ],
   "source": [
    "def split_string_into_words(text):\n",
    "    # Step 1: Use the split() method to split the text into a list of words.\n",
    "    words_list = text.split()\n",
    "\n",
    "    # Step 2: Return the list of words.\n",
    "    return words_list\n",
    "\n",
    "# Example usage\n",
    "text = \"welcome to the jungle.\"\n",
    "words = split_string_into_words(text)\n",
    "print(\"List of words:\", words)"
   ]
  },
  {
   "cell_type": "markdown",
   "id": "714061e5-0048-4dfc-89d0-41f43775cddb",
   "metadata": {},
   "source": [
    "Q.15.join a list of words into the string"
   ]
  },
  {
   "cell_type": "code",
   "execution_count": 45,
   "id": "c80dec7d-03f1-4dc1-acbf-9d72e1e03d57",
   "metadata": {},
   "outputs": [
    {
     "name": "stdout",
     "output_type": "stream",
     "text": [
      "Joined string: welcome to the jungle\n"
     ]
    }
   ],
   "source": [
    "def join_words_into_string(words_list):\n",
    "    # Step 1: Use the join() method to join the words in the list into a single string.\n",
    "    joined_string = ' '.join(words_list)\n",
    "\n",
    "    # Step 2: Return the joined string.\n",
    "    return joined_string\n",
    "\n",
    "# Example usage\n",
    "words = [\"welcome\",\"to\",\"the\",\"jungle\"]\n",
    "text = join_words_into_string(words)\n",
    "print(\"Joined string:\", text)"
   ]
  },
  {
   "cell_type": "code",
   "execution_count": null,
   "id": "4c64f714-cd11-43ac-83aa-592da430e677",
   "metadata": {},
   "outputs": [],
   "source": []
  },
  {
   "cell_type": "markdown",
   "id": "0c4439fb-5ea4-4e03-bfb2-5b0d3be8b1ca",
   "metadata": {},
   "source": [
    "Q.16.converting string's spaces with underscores:"
   ]
  },
  {
   "cell_type": "code",
   "execution_count": 46,
   "id": "6b6caa42-994c-4f3a-ad33-1b2ccbe4c10b",
   "metadata": {},
   "outputs": [
    {
     "name": "stdout",
     "output_type": "stream",
     "text": [
      "Converted text: This_is_my_work.\n"
     ]
    }
   ],
   "source": [
    "def convert_to_underscore_separated(text):\n",
    "    # Step 1: Use the replace() method to replace spaces with underscores.\n",
    "    underscore_separated = text.replace(\" \", \"_\")\n",
    "\n",
    "    # Step 2: Return the converted string.\n",
    "    return underscore_separated\n",
    "\n",
    "# Example usage\n",
    "text = \"This is my work.\"\n",
    "converted_text = convert_to_underscore_separated(text)\n",
    "print(\"Converted text:\", converted_text)"
   ]
  },
  {
   "cell_type": "code",
   "execution_count": null,
   "id": "1b438824-98e3-4e1a-939c-9d6b9d2a0169",
   "metadata": {},
   "outputs": [],
   "source": []
  },
  {
   "cell_type": "markdown",
   "id": "71ab1de1-42af-4e19-bfe9-32d7f5117d2f",
   "metadata": {},
   "source": [
    "Q.17.checking if the string startswith the specific word"
   ]
  },
  {
   "cell_type": "code",
   "execution_count": 47,
   "id": "ab6dd453-b907-4ca9-933d-597a408a2df7",
   "metadata": {},
   "outputs": [
    {
     "name": "stdout",
     "output_type": "stream",
     "text": [
      "The text starts with the prefix.\n"
     ]
    }
   ],
   "source": [
    "def starts_with(text, prefix):\n",
    "    # Step 1: Use the startswith() method to check if the text starts with the specified prefix.\n",
    "    is_start = text.startswith(prefix)\n",
    "\n",
    "    # Step 2: Return the result of the check.\n",
    "    return is_start\n",
    "\n",
    "# Example usage\n",
    "text = \"black pink and bts\"\n",
    "prefix = \"black\"\n",
    "result = starts_with(text, prefix)\n",
    "if result:\n",
    "    print(\"The text starts with the prefix.\")\n",
    "else:\n",
    "    print(\"The text does not start with the prefix.\")"
   ]
  },
  {
   "cell_type": "markdown",
   "id": "6e32d515-9f4e-45c5-873e-c4c49a1600ce",
   "metadata": {},
   "source": [
    "Q.18.checking if the word endswith the specific word:"
   ]
  },
  {
   "cell_type": "code",
   "execution_count": 48,
   "id": "08e30ae3-796c-453a-b1c2-79d34f92dc55",
   "metadata": {},
   "outputs": [
    {
     "name": "stdout",
     "output_type": "stream",
     "text": [
      "The text ends with the suffix.\n"
     ]
    }
   ],
   "source": [
    "def ends_with(text, suffix):\n",
    "    # Step 1: Use the endswith() method to check if the text ends with the specified suffix.\n",
    "    is_end = text.endswith(suffix)\n",
    "\n",
    "    # Step 2: Return the result of the check.\n",
    "    return is_end\n",
    "\n",
    "# Example usage\n",
    "text = \"jungkook is muscle man\"\n",
    "suffix = \"man\"\n",
    "result = ends_with(text, suffix)\n",
    "if result:\n",
    "    print(\"The text ends with the suffix.\")\n",
    "else:\n",
    "    print(\"The text does not end with the suffix.\")"
   ]
  },
  {
   "cell_type": "code",
   "execution_count": null,
   "id": "47d1650d-431b-4a14-9362-cd4a5c373156",
   "metadata": {},
   "outputs": [],
   "source": []
  },
  {
   "cell_type": "markdown",
   "id": "e1bb93a0-c7b3-4629-ad89-21db01c4e198",
   "metadata": {},
   "source": [
    "Q.19. converting string into titlecase:"
   ]
  },
  {
   "cell_type": "code",
   "execution_count": 50,
   "id": "4815f2b8-60fa-4844-b732-a13cb90a14b9",
   "metadata": {},
   "outputs": [
    {
     "name": "stdout",
     "output_type": "stream",
     "text": [
      "Title case: Sundara Sun Jara\n"
     ]
    }
   ],
   "source": [
    "def convert_to_title_case(text):\n",
    "    # Step 1: Use the title() method to convert the text to title case.\n",
    "    title_case_text = text.title()\n",
    "\n",
    "    # Step 2: Return the converted text.\n",
    "    return title_case_text\n",
    "\n",
    "# Example usage\n",
    "text = \"sundara sun jara\"\n",
    "title_case_result = convert_to_title_case(text)\n",
    "print(\"Title case:\", title_case_result)"
   ]
  },
  {
   "cell_type": "markdown",
   "id": "7e87ae09-db2d-4fb9-9654-5652c628a90c",
   "metadata": {},
   "source": [
    "Q.20. finding longest word in the string:"
   ]
  },
  {
   "cell_type": "code",
   "execution_count": 51,
   "id": "bad438b4-1f8c-43b2-9ad3-62677020ee8f",
   "metadata": {},
   "outputs": [
    {
     "name": "stdout",
     "output_type": "stream",
     "text": [
      "Longest word: longest\n"
     ]
    }
   ],
   "source": [
    "def find_longest_word(text):\n",
    "    # Step 1: Use the split() method to split the text into a list of words.\n",
    "    words = text.split()\n",
    "\n",
    "    # Step 2: Initialize variables to keep track of the longest word and its length.\n",
    "    longest_word = \"\"\n",
    "    max_length = 0\n",
    "\n",
    "    # Step 3: Iterate through the list of words.\n",
    "    for word in words:\n",
    "        # Check if the length of the current word is greater than the current max_length.\n",
    "        if len(word) > max_length:\n",
    "            max_length = len(word)\n",
    "            longest_word = word\n",
    "\n",
    "    # Step 4: Return the longest word.\n",
    "    return longest_word\n",
    "\n",
    "# Example usage\n",
    "text = \"the longest word is very long.\"\n",
    "longest_word = find_longest_word(text)\n",
    "print(\"Longest word:\", longest_word)"
   ]
  },
  {
   "cell_type": "markdown",
   "id": "f0d39fef-81f2-4a01-a946-94d235e44035",
   "metadata": {},
   "source": [
    "Q.21.Find the shortest word in the string"
   ]
  },
  {
   "cell_type": "code",
   "execution_count": 57,
   "id": "ff8d9545-afdd-49f7-9cc4-30d061d26194",
   "metadata": {},
   "outputs": [],
   "source": [
    "def find_shortest_word(text):\n",
    "    words = text.split()\n",
    "    shortest_word = None\n",
    "    min_length = float('inf')\n",
    "\n",
    "    for word in words:\n",
    "        if len(word) < min_length:\n",
    "            min_length = len(word)\n",
    "            shortest_word = word\n",
    "    return shortest_word        "
   ]
  },
  {
   "cell_type": "code",
   "execution_count": 59,
   "id": "b72ae820-5be6-48d7-9512-642281ff1c77",
   "metadata": {},
   "outputs": [
    {
     "name": "stdout",
     "output_type": "stream",
     "text": [
      "shortest word: this\n"
     ]
    }
   ],
   "source": [
    "text = \"this sentence contain some short words\"\n",
    "shortest_word = find_shortest_word(text)\n",
    "print(\"shortest word:\",shortest_word)"
   ]
  },
  {
   "cell_type": "markdown",
   "id": "772ea2c2-753e-46ef-9d24-9f6933a6ccd8",
   "metadata": {},
   "source": [
    "Q.22.Reverse the order of words in the string:"
   ]
  },
  {
   "cell_type": "code",
   "execution_count": 6,
   "id": "024801a1-4d76-4822-8c81-f23ed6a8b914",
   "metadata": {},
   "outputs": [
    {
     "name": "stdout",
     "output_type": "stream",
     "text": [
      "original string :  Welcome to python programming.\n",
      "After reversing the order of words the string is: programming. python to Welcome \n"
     ]
    }
   ],
   "source": [
    "# Example string:\n",
    "string = \" Welcome to python programming.\"\n",
    "print(\"original string :\",string)\n",
    "words = string.split(\" \")\n",
    "#now reverse the strings in word:\n",
    "reverse = words[-1::-1]\n",
    "#now join the words to obtain the reversed string:\n",
    "output = ' '.join(reverse)\n",
    "print(\"After reversing the order of words the string is:\",output)\n",
    "    \n"
   ]
  },
  {
   "cell_type": "code",
   "execution_count": null,
   "id": "16dd56e3-79b1-49d6-a323-b580a0807515",
   "metadata": {},
   "outputs": [],
   "source": []
  },
  {
   "cell_type": "code",
   "execution_count": null,
   "id": "b7d615bf-8d5c-4d69-812f-51b0e8b154ee",
   "metadata": {},
   "outputs": [],
   "source": []
  },
  {
   "cell_type": "markdown",
   "id": "2f248391-4060-4680-9e8a-419d2e4a3535",
   "metadata": {},
   "source": [
    "Q.23. check if a string is alphanumeric:"
   ]
  },
  {
   "cell_type": "code",
   "execution_count": 1,
   "id": "a41843f3-10b3-4d81-bd99-f0c62594f465",
   "metadata": {},
   "outputs": [
    {
     "name": "stdout",
     "output_type": "stream",
     "text": [
      "The string is alphanumeric.\n"
     ]
    }
   ],
   "source": [
    "def is_alphanumeric(text):\n",
    "    # Step 1: Use the isalnum() method to check if the string is alphanumeric.\n",
    "    return text.isalnum()\n",
    "\n",
    "# Example usage\n",
    "text = \"Hello123\"\n",
    "result = is_alphanumeric(text)\n",
    "if result:\n",
    "    print(\"The string is alphanumeric.\")\n",
    "else:\n",
    "    print(\"The string is not alphanumeric.\")"
   ]
  },
  {
   "cell_type": "markdown",
   "id": "7a48be30-5b93-479a-be9b-76a1bc213cec",
   "metadata": {},
   "source": [
    " Q.24. extract all digits from a string:"
   ]
  },
  {
   "cell_type": "code",
   "execution_count": 2,
   "id": "bba50abe-c25e-4ed2-8285-13ac3623008f",
   "metadata": {},
   "outputs": [
    {
     "name": "stdout",
     "output_type": "stream",
     "text": [
      "Extracted digits: 123456\n"
     ]
    }
   ],
   "source": [
    "def extract_digits(text):\n",
    "    # Step 1: Initialize an empty string to store the extracted digits.\n",
    "    digits = \"\"\n",
    "\n",
    "    # Step 2: Iterate through each character in the text.\n",
    "    for char in text:\n",
    "        # Check if the character is a digit using the isdigit() method.\n",
    "        if char.isdigit():\n",
    "            # Append the digit to the digits string.\n",
    "            digits += char\n",
    "\n",
    "    # Step 3: Return the extracted digits.\n",
    "    return digits\n",
    "\n",
    "# Example usage\n",
    "text = \"Hello123World456\"\n",
    "extracted_digits = extract_digits(text)\n",
    "print(\"Extracted digits:\", extracted_digits)"
   ]
  },
  {
   "cell_type": "markdown",
   "id": "b16d19ab-8a32-4e6f-ad73-3cab9a1fb4f3",
   "metadata": {},
   "source": [
    "Q.25.Extract all alphabets from a string:"
   ]
  },
  {
   "cell_type": "code",
   "execution_count": 3,
   "id": "89986dd4-3b4c-4b2a-98f1-36459993eec1",
   "metadata": {},
   "outputs": [
    {
     "name": "stdout",
     "output_type": "stream",
     "text": [
      "H e l l o W o r l d\n"
     ]
    }
   ],
   "source": [
    "def extract_alphabets(input_string):\n",
    "    alphabets = ' '.join([char for char in input_string if char.isalpha()])\n",
    "    return alphabets\n",
    "\n",
    "# Example input string\n",
    "input_string = \"Hello123World456\"\n",
    "result = extract_alphabets(input_string)\n",
    "print(result)"
   ]
  },
  {
   "cell_type": "markdown",
   "id": "39d7ebe3-7798-4646-aba9-779946d940ef",
   "metadata": {},
   "source": [
    "Q.26.Count the number of uppercase in a string:"
   ]
  },
  {
   "cell_type": "code",
   "execution_count": 5,
   "id": "2651e04b-5bd5-48fb-973d-ec50951af359",
   "metadata": {},
   "outputs": [
    {
     "name": "stdout",
     "output_type": "stream",
     "text": [
      "6\n"
     ]
    }
   ],
   "source": [
    "def count_uppercase(input_string):\n",
    "    uppercase_count = sum(1 for char in input_string if char.isupper())\n",
    "    return uppercase_count\n",
    "\n",
    "# Example input string\n",
    "input_string = \"HelloWORLD\"\n",
    "result = count_uppercase(input_string)\n",
    "print(result)"
   ]
  },
  {
   "cell_type": "markdown",
   "id": "5c72d869-e60e-4f2b-a835-96e26f8f2f2b",
   "metadata": {},
   "source": [
    "Q.27.Count the number of lowercase in a string:"
   ]
  },
  {
   "cell_type": "code",
   "execution_count": 6,
   "id": "7affcada-f70e-457e-92ee-45f8bdcb48b4",
   "metadata": {},
   "outputs": [
    {
     "name": "stdout",
     "output_type": "stream",
     "text": [
      "4\n"
     ]
    }
   ],
   "source": [
    "def count_lowercase(input_string):\n",
    "    lowercase_count = sum(1 for char in input_string if char.islower())\n",
    "    return lowercase_count\n",
    "\n",
    "# Example input string\n",
    "input_string = \"HelloWORLD\"\n",
    "result = count_lowercase(input_string)\n",
    "print(result)"
   ]
  },
  {
   "cell_type": "markdown",
   "id": "18fab3a7-dd3a-4097-982b-23ac416a9ec3",
   "metadata": {},
   "source": [
    "Q.28.Swap the case of each character in a string:"
   ]
  },
  {
   "cell_type": "code",
   "execution_count": 7,
   "id": "f6e8f4f8-6305-4b61-9284-6d0b095cdf83",
   "metadata": {},
   "outputs": [
    {
     "name": "stdout",
     "output_type": "stream",
     "text": [
      "hELLOworld\n"
     ]
    }
   ],
   "source": [
    "def swap_case(input_string):\n",
    "    swapped_string = input_string.swapcase()\n",
    "    return swapped_string\n",
    "\n",
    "# Example input string\n",
    "input_string = \"HelloWORLD\"\n",
    "result = swap_case(input_string)\n",
    "print(result)"
   ]
  },
  {
   "cell_type": "markdown",
   "id": "aef76043-846a-4497-8eee-e41170c264dc",
   "metadata": {},
   "source": [
    "Q.29.Remove a specific word from a string:"
   ]
  },
  {
   "cell_type": "code",
   "execution_count": 8,
   "id": "7f50e43a-ffde-4333-9432-312ed012fe67",
   "metadata": {},
   "outputs": [
    {
     "name": "stdout",
     "output_type": "stream",
     "text": [
      "Hello world, welcome to the of programming.\n"
     ]
    }
   ],
   "source": [
    "def remove_word(input_string, word_to_remove):\n",
    "    words = input_string.split()  # Split the input string into a list of words\n",
    "    filtered_words = [word for word in words if word != word_to_remove]  # Create a new list excluding the word to remove\n",
    "    modified_string = ' '.join(filtered_words)  # Join the filtered words back into a string\n",
    "    return modified_string\n",
    "\n",
    "# Example input string and word to remove\n",
    "input_string = \"Hello world, welcome to the world of programming.\"\n",
    "word_to_remove = \"world\"\n",
    "result = remove_word(input_string, word_to_remove)\n",
    "print(result)"
   ]
  },
  {
   "cell_type": "markdown",
   "id": "9150a36d-12bf-41d7-8f86-306483ee6796",
   "metadata": {},
   "source": [
    "Q.30 Check if a string is a valid e-mail address:"
   ]
  },
  {
   "cell_type": "code",
   "execution_count": 9,
   "id": "60895c15-665a-45cf-91f5-05a1f2ee3db0",
   "metadata": {},
   "outputs": [
    {
     "name": "stdout",
     "output_type": "stream",
     "text": [
      "True\n",
      "False\n"
     ]
    }
   ],
   "source": [
    "import re  # Import the regular expression module\n",
    "\n",
    "def is_valid_email(email):\n",
    "    pattern = r'^[\\w\\.-]+@[\\w\\.-]+\\.\\w+$'  # Regular expression pattern for a basic email validation\n",
    "    if re.match(pattern, email):\n",
    "        return True\n",
    "    else:\n",
    "        return False\n",
    "\n",
    "# Example email addresses\n",
    "email1 = \"example@email.com\"\n",
    "email2 = \"invalid-email\"\n",
    "result1 = is_valid_email(email1)\n",
    "result2 = is_valid_email(email2)\n",
    "print(result1)\n",
    "print(result2)"
   ]
  },
  {
   "cell_type": "markdown",
   "id": "d2114c32-3c28-41af-8692-2a46051ffffe",
   "metadata": {},
   "source": [
    "Q.31.Extract the username from an e-mail address string:"
   ]
  },
  {
   "cell_type": "code",
   "execution_count": 10,
   "id": "4d88b6f3-e680-4f27-a45f-8f343947a928",
   "metadata": {},
   "outputs": [
    {
     "name": "stdout",
     "output_type": "stream",
     "text": [
      "example\n"
     ]
    }
   ],
   "source": [
    "def extract_username(email):\n",
    "    username = email.split('@')[0]  # Split the email address at \"@\" and take the first part\n",
    "    return username\n",
    "\n",
    "# Example email address\n",
    "email = \"example@email.com\"\n",
    "result = extract_username(email)\n",
    "print(result)"
   ]
  },
  {
   "cell_type": "markdown",
   "id": "1afc0e9d-ab26-45b1-978a-9634296eb654",
   "metadata": {},
   "source": [
    "Q.32.Extract the domain name from email address string:"
   ]
  },
  {
   "cell_type": "code",
   "execution_count": 11,
   "id": "a609b874-6cc7-4a45-83aa-96d65820c550",
   "metadata": {},
   "outputs": [
    {
     "name": "stdout",
     "output_type": "stream",
     "text": [
      "email.com\n"
     ]
    }
   ],
   "source": [
    "def extract_domain(email):\n",
    "    domain = email.split('@')[1]  # Split the email address at \"@\" and take the second part\n",
    "    return domain\n",
    "\n",
    "# Example email address\n",
    "email = \"example@email.com\"\n",
    "result = extract_domain(email)\n",
    "print(result)"
   ]
  },
  {
   "cell_type": "markdown",
   "id": "8e1512dd-fe43-48e8-b312-59e6928f8a32",
   "metadata": {},
   "source": [
    "Q.33.Replace multiple spaces in a string with single space:"
   ]
  },
  {
   "cell_type": "code",
   "execution_count": 12,
   "id": "3ff02e17-3f05-4fb7-b62b-0a4571c48df5",
   "metadata": {},
   "outputs": [
    {
     "name": "stdout",
     "output_type": "stream",
     "text": [
      "Hello world! How are you?\n"
     ]
    }
   ],
   "source": [
    "def replace_multiple_spaces(input_string):\n",
    "    cleaned_string = ' '.join(input_string.split())  # Split the string at spaces and then join using a single space\n",
    "    return cleaned_string\n",
    "\n",
    "# Example input string with multiple spaces\n",
    "input_string = \"Hello     world!   How   are   you?\"\n",
    "result = replace_multiple_spaces(input_string) \n",
    "print(result)"
   ]
  },
  {
   "cell_type": "markdown",
   "id": "1ff9f59e-8264-4be2-bcf6-81b2ca451395",
   "metadata": {},
   "source": [
    "Q.34.Check if a string is a valid URL:"
   ]
  },
  {
   "cell_type": "code",
   "execution_count": 13,
   "id": "0afdd7e1-2717-4c10-be60-961abb7fba9a",
   "metadata": {},
   "outputs": [
    {
     "name": "stdout",
     "output_type": "stream",
     "text": [
      "True\n",
      "False\n"
     ]
    }
   ],
   "source": [
    "from urllib.parse import urlparse\n",
    "\n",
    "def is_valid_url(url):\n",
    "    try:\n",
    "        result = urlparse(url)\n",
    "        return all([result.scheme, result.netloc])  # Check if both scheme and netloc are present\n",
    "    except ValueError:\n",
    "        return False\n",
    "\n",
    "# Example URLs\n",
    "url1 = \"https://www.example.com\"\n",
    "url2 = \"invalid-url\"\n",
    "result1 = is_valid_url(url1)\n",
    "result2 = is_valid_url(url2)\n",
    "print(result1)  # Should print True\n",
    "print(result2)  # Should print False"
   ]
  },
  {
   "cell_type": "markdown",
   "id": "0eb37b73-5cbe-4aa2-b5cd-183333f53bf1",
   "metadata": {},
   "source": [
    "Q.35.Extract the protocol(http or https) from a URL string:"
   ]
  },
  {
   "cell_type": "code",
   "execution_count": 14,
   "id": "097ede54-06d3-46c8-bd03-260dfb1a1676",
   "metadata": {},
   "outputs": [
    {
     "name": "stdout",
     "output_type": "stream",
     "text": [
      "Protocol 1: https\n",
      "Protocol 2: http\n",
      "Protocol 3: ftp\n"
     ]
    }
   ],
   "source": [
    "def extract_protocol(url):\n",
    "    # Find the index of the first occurrence of \"://\"\n",
    "    protocol_end = url.find(\"://\")\n",
    "\n",
    "    if protocol_end != -1:\n",
    "        # Extract the protocol from the URL\n",
    "        protocol = url[:protocol_end]\n",
    "        return protocol\n",
    "    else:\n",
    "        return None\n",
    "\n",
    "# Example URL strings\n",
    "url1 = \"https://www.example.com\"\n",
    "url2 = \"http://google.com\"\n",
    "url3 = \"ftp://ftp.example.com\"\n",
    "\n",
    "# Extract protocols\n",
    "protocol1 = extract_protocol(url1)\n",
    "protocol2 = extract_protocol(url2)\n",
    "protocol3 = extract_protocol(url3)\n",
    "\n",
    "# Print extracted protocols\n",
    "print(\"Protocol 1:\", protocol1)\n",
    "print(\"Protocol 2:\", protocol2)\n",
    "print(\"Protocol 3:\", protocol3)"
   ]
  },
  {
   "cell_type": "markdown",
   "id": "4a9c8a21-49a7-4c21-84be-2ceceb095cf8",
   "metadata": {},
   "source": [
    "Q.36.Find the frequency of each character in string:"
   ]
  },
  {
   "cell_type": "code",
   "execution_count": 15,
   "id": "68914537-4b80-4a94-985b-0dd37a1dc734",
   "metadata": {},
   "outputs": [
    {
     "name": "stdout",
     "output_type": "stream",
     "text": [
      "Character: 'h', Frequency: 1\n",
      "Character: 'e', Frequency: 1\n",
      "Character: 'l', Frequency: 3\n",
      "Character: 'o', Frequency: 2\n",
      "Character: ' ', Frequency: 1\n",
      "Character: 'w', Frequency: 1\n",
      "Character: 'r', Frequency: 1\n",
      "Character: 'd', Frequency: 1\n"
     ]
    }
   ],
   "source": [
    "def character_frequency(input_string):\n",
    "    frequency = {}  # Create an empty dictionary to store character frequencies\n",
    "\n",
    "    for char in input_string:\n",
    "        if char in frequency:\n",
    "            frequency[char] += 1  # Increment the frequency count if the character is already in the dictionary\n",
    "        else:\n",
    "            frequency[char] = 1   # Initialize the frequency count to 1 if the character is not in the dictionary\n",
    "\n",
    "    return frequency\n",
    "\n",
    "# Example string\n",
    "input_str = \"hello world\"\n",
    "\n",
    "# Calculate character frequencies\n",
    "char_freq = character_frequency(input_str)\n",
    "\n",
    "# Print character frequencies\n",
    "for char, freq in char_freq.items():\n",
    "    print(f\"Character: '{char}', Frequency: {freq}\")"
   ]
  },
  {
   "cell_type": "markdown",
   "id": "0c2ae977-881b-404e-9098-55232f9fa937",
   "metadata": {},
   "source": [
    "Q.37.Remove all punctuation from a string:"
   ]
  },
  {
   "cell_type": "code",
   "execution_count": 16,
   "id": "5dba0920-6fe3-40e3-8283-91db2dd0bf2e",
   "metadata": {},
   "outputs": [
    {
     "name": "stdout",
     "output_type": "stream",
     "text": [
      "Original string: Hello, world! How's it going?\n",
      "Cleaned string: Hello world Hows it going\n"
     ]
    }
   ],
   "source": [
    "import string\n",
    "\n",
    "def remove_punctuation(input_string):\n",
    "    # Create a translation table to remove punctuation\n",
    "    translator = str.maketrans(\"\", \"\", string.punctuation)\n",
    "\n",
    "    # Use the translation table to remove punctuation from the input string\n",
    "    clean_string = input_string.translate(translator)\n",
    "\n",
    "    return clean_string\n",
    "\n",
    "# Example string with punctuation\n",
    "input_str = \"Hello, world! How's it going?\"\n",
    "\n",
    "# Remove punctuation\n",
    "cleaned_str = remove_punctuation(input_str)\n",
    "\n",
    "# Print the cleaned string\n",
    "print(\"Original string:\", input_str)\n",
    "print(\"Cleaned string:\", cleaned_str)"
   ]
  },
  {
   "cell_type": "markdown",
   "id": "b4c7d6dc-979e-413e-88d9-11cda7779a8c",
   "metadata": {},
   "source": [
    "Q.38.Check if a string contains only digits:"
   ]
  },
  {
   "cell_type": "code",
   "execution_count": 17,
   "id": "efb21e88-12e6-4a9e-99e6-2ddd6d38e207",
   "metadata": {},
   "outputs": [
    {
     "name": "stdout",
     "output_type": "stream",
     "text": [
      "'12345' contains only digits: True\n",
      "'Hello123' contains only digits: False\n",
      "'456.789' contains only digits: False\n"
     ]
    }
   ],
   "source": [
    "def contains_only_digits(input_string):\n",
    "    # Check if all characters in the string are digits\n",
    "    return input_string.isdigit()\n",
    "\n",
    "# Example strings\n",
    "string1 = \"12345\"\n",
    "string2 = \"Hello123\"\n",
    "string3 = \"456.789\"\n",
    "\n",
    "# Check if strings contain only digits\n",
    "result1 = contains_only_digits(string1)\n",
    "result2 = contains_only_digits(string2)\n",
    "result3 = contains_only_digits(string3)\n",
    "\n",
    "# Print the results\n",
    "print(f\"'{string1}' contains only digits:\", result1)\n",
    "print(f\"'{string2}' contains only digits:\", result2)\n",
    "print(f\"'{string3}' contains only digits:\", result3)"
   ]
  },
  {
   "cell_type": "markdown",
   "id": "f97cb39e-0777-48de-8da6-d9ec0f73380d",
   "metadata": {},
   "source": [
    "Q.39.Check if a string contains only alphabets:"
   ]
  },
  {
   "cell_type": "code",
   "execution_count": 18,
   "id": "46829fb5-b1e1-4d92-af58-3af14a9816c1",
   "metadata": {},
   "outputs": [
    {
     "name": "stdout",
     "output_type": "stream",
     "text": [
      "'Hello' contains only alphabets: True\n",
      "'Hello123' contains only alphabets: False\n",
      "'12345' contains only alphabets: False\n"
     ]
    }
   ],
   "source": [
    "def contains_only_alphabets(input_string):\n",
    "    # Check if all characters in the string are alphabetic\n",
    "    return input_string.isalpha()\n",
    "\n",
    "# Example strings\n",
    "string1 = \"Hello\"\n",
    "string2 = \"Hello123\"\n",
    "string3 = \"12345\"\n",
    "\n",
    "# Check if strings contain only alphabets\n",
    "result1 = contains_only_alphabets(string1)\n",
    "result2 = contains_only_alphabets(string2)\n",
    "result3 = contains_only_alphabets(string3)\n",
    "\n",
    "# Print the results\n",
    "print(f\"'{string1}' contains only alphabets:\", result1)\n",
    "print(f\"'{string2}' contains only alphabets:\", result2)\n",
    "print(f\"'{string3}' contains only alphabets:\", result3)"
   ]
  },
  {
   "cell_type": "raw",
   "id": "ae10067a-c480-450b-8f77-d7e2454631bf",
   "metadata": {},
   "source": [
    "Q.40.Convert a string to a list of characters:"
   ]
  },
  {
   "cell_type": "code",
   "execution_count": 19,
   "id": "3ddc2861-b74b-4757-9037-9571c605b84e",
   "metadata": {},
   "outputs": [
    {
     "name": "stdout",
     "output_type": "stream",
     "text": [
      "Original string: Hello, world!\n",
      "List of characters: ['H', 'e', 'l', 'l', 'o', ',', ' ', 'w', 'o', 'r', 'l', 'd', '!']\n"
     ]
    }
   ],
   "source": [
    "def string_to_list(input_string):\n",
    "    # Use list() constructor to convert the string to a list of characters\n",
    "    char_list = list(input_string)\n",
    "    return char_list\n",
    "\n",
    "# Example string\n",
    "input_str = \"Hello, world!\"\n",
    "\n",
    "# Convert the string to a list of characters\n",
    "char_list = string_to_list(input_str)\n",
    "\n",
    "# Print the list of characters\n",
    "print(\"Original string:\", input_str)\n",
    "print(\"List of characters:\", char_list)"
   ]
  },
  {
   "cell_type": "markdown",
   "id": "9a80f356-77b6-4ca6-9175-9fc35485c120",
   "metadata": {},
   "source": [
    "Q.41.Check if two strings are anagram:"
   ]
  },
  {
   "cell_type": "code",
   "execution_count": 20,
   "id": "d5d9621d-d33d-44dc-a935-98ff1b6cda58",
   "metadata": {},
   "outputs": [
    {
     "name": "stdout",
     "output_type": "stream",
     "text": [
      "'listen' and 'silent' are anagrams: True\n",
      "'hello' and 'world' are anagrams: False\n"
     ]
    }
   ],
   "source": [
    "def are_anagrams(str1, str2):\n",
    "    # Remove spaces and convert strings to lowercase for accurate comparison\n",
    "    str1 = str1.replace(\" \", \"\").lower()\n",
    "    str2 = str2.replace(\" \", \"\").lower()\n",
    "\n",
    "    # Sort the characters in both strings and compare\n",
    "    return sorted(str1) == sorted(str2)\n",
    "\n",
    "# Example strings\n",
    "string1 = \"listen\"\n",
    "string2 = \"silent\"\n",
    "string3 = \"hello\"\n",
    "string4 = \"world\"\n",
    "\n",
    "# Check if strings are anagrams\n",
    "result1 = are_anagrams(string1, string2)\n",
    "result2 = are_anagrams(string3, string4)\n",
    "\n",
    "# Print the results\n",
    "print(f\"'{string1}' and '{string2}' are anagrams:\", result1)\n",
    "print(f\"'{string3}' and '{string4}' are anagrams:\", result2)"
   ]
  },
  {
   "cell_type": "markdown",
   "id": "1dedc9c2-7d13-4542-ba2e-882c38e8fa5b",
   "metadata": {},
   "source": [
    "Q.42.Encode a string using a caeser cipher:"
   ]
  },
  {
   "cell_type": "code",
   "execution_count": 22,
   "id": "0429e191-d1a9-4829-b387-cb3d39b2750e",
   "metadata": {},
   "outputs": [
    {
     "name": "stdout",
     "output_type": "stream",
     "text": [
      "Encoded text: ehoor, zruog!\n"
     ]
    }
   ],
   "source": [
    "# Define a function named caesar_cipher that encodes a string using a Caesar cipher.\n",
    "def caesar_cipher(text, shift):\n",
    "  \"\"\"\n",
    "  Encodes a string using a Caesar cipher.\n",
    "\n",
    "  Args:\n",
    "    text: The string to encode.\n",
    "    shift: The number of positions to shift each letter.\n",
    "\n",
    "  Returns:\n",
    "    The encoded string.\n",
    "  \"\"\"\n",
    "\n",
    "  # Initialize an empty string to store the encoded text.\n",
    "  encoded_text = \"\"\n",
    "\n",
    "  # Iterate through each character in the input text.\n",
    "  for char in text:\n",
    "    # Check if the character is alphabetic.\n",
    "    if char.isalpha():\n",
    "   # Calculate the encoded character's Unicode code point value by shifting it by the specified amount.\n",
    "      # Ensure the value wraps around within the lowercase alphabet range (a-z).\n",
    "      encoded_char = chr((ord(char) + shift - ord('a')) % 26 + ord('a'))\n",
    "    else:\n",
    "      # Keep non-alphabetic characters unchanged.\n",
    "      encoded_char = char\n",
    "\n",
    "    # Add the encoded character to the encoded text.\n",
    "    encoded_text += encoded_char\n",
    "\n",
    "  # Return the resulting encoded text.\n",
    "  return encoded_text\n",
    "\n",
    "# Define the input text and the shift value for encoding.\n",
    "text = \"Hello, world!\"\n",
    "shift = 3\n",
    "\n",
    "# Call the caesar_cipher function to encode the text using the specified shift.\n",
    "encoded_text = caesar_cipher(text, shift)\n",
    "\n",
    "# Print the encoded text.\n",
    "print(\"Encoded text:\", encoded_text)      "
   ]
  },
  {
   "cell_type": "markdown",
   "id": "a441ecc8-d816-47a9-a692-dd184766d9e8",
   "metadata": {},
   "source": [
    "Q.43.Decode a string using a caeser cipher:"
   ]
  },
  {
   "cell_type": "code",
   "execution_count": 23,
   "id": "a41db9c1-dae0-404c-a2d2-dad26785f254",
   "metadata": {},
   "outputs": [],
   "source": [
    "# Define a function to decode a string using a Caesar cipher\n",
    "def caesar_cipher_decoder(text, shift):\n",
    "    \"\"\"\n",
    "    Decodes a string using a Caesar cipher.\n",
    "\n",
    "    Args:\n",
    "        text: The string to decode.\n",
    "        shift: The number of positions to shift each letter.\n",
    "\n",
    "    Returns:\n",
    "        The decoded string.\n",
    "    \"\"\"\n",
    "\n",
    "    # Initialize an empty string to store the decoded text\n",
    "    decoded_text = \"\"\n",
    "\n",
    "    # Loop through each character in the input text\n",
    "    for char in text:\n",
    "        # Check if the character is an alphabetic character\n",
    "        if char.isalpha():\n",
    "            # Calculate the decoded character using the shift value\n",
    "            decoded_char = chr((ord(char) - shift - ord('a')) % 26 + ord('a'))\n",
    "        else:\n",
    "            # If the character is not alphabetic, keep it unchanged\n",
    "            decoded_char = char\n",
    "\n",
    "        # Add the decoded character to the decoded text\n",
    "        decoded_text += decoded_char\n",
    "        \n",
    "        \n",
    "        \n",
    "        \n"
   ]
  },
  {
   "cell_type": "markdown",
   "id": "8f09094b-34d9-413e-b20a-7f160288bf03",
   "metadata": {},
   "source": [
    "Q.44.Find the most frequent words in string:"
   ]
  },
  {
   "cell_type": "code",
   "execution_count": 29,
   "id": "22aa9080-2ef4-4863-8116-dcdc11ae1c35",
   "metadata": {},
   "outputs": [
    {
     "name": "stdout",
     "output_type": "stream",
     "text": [
      "Most frequent word: hello\n"
     ]
    }
   ],
   "source": [
    "import re\n",
    "from collections import Counter\n",
    "\n",
    "def most_frequent_word(input_string):\n",
    "    # Remove punctuation and convert to lowercase\n",
    "    clean_string = re.sub(r'[^\\w\\s]', '', input_string).lower()\n",
    "\n",
    "    # Split the string into words\n",
    "    words = clean_string.split()\n",
    "\n",
    "    # Use Counter to count word frequencies\n",
    "    word_counter = Counter(words)\n",
    "\n",
    "    # Find the most common word\n",
    "    most_common_word = word_counter.most_common(1)[0][0]\n",
    "\n",
    "\n",
    "\n",
    "\n",
    "    return most_common_word\n",
    "\n",
    "# Example string\n",
    "input_str = \"Hello world, hello there! How's the world?\"\n",
    "\n",
    "# Find the most frequent word\n",
    "most_common = most_frequent_word(input_str)\n",
    "\n",
    "# Print the result\n",
    "print(\"Most frequent word:\", most_common)"
   ]
  },
  {
   "cell_type": "markdown",
   "id": "a7baeb37-aa2e-4fa8-9aef-c782a5385db3",
   "metadata": {},
   "source": [
    "Q,45.Find all unique words in a string:"
   ]
  },
  {
   "cell_type": "code",
   "execution_count": 30,
   "id": "f99ca22a-ab33-4d78-ba5a-2087f24e95c0",
   "metadata": {},
   "outputs": [
    {
     "name": "stdout",
     "output_type": "stream",
     "text": [
      "Unique words: {'there', 'hello', 'hows', 'the', 'world'}\n"
     ]
    }
   ],
   "source": [
    "import re\n",
    "\n",
    "def unique_words(input_string):\n",
    "    # Remove punctuation and convert to lowercase\n",
    "    clean_string = re.sub(r'[^\\w\\s]', '', input_string).lower()\n",
    "\n",
    "    # Split the string into words and convert to a set for uniqueness\n",
    "    words = set(clean_string.split())\n",
    "\n",
    "    return words\n",
    "\n",
    "# Example string\n",
    "input_str = \"Hello world, hello there! How's the world?\"\n",
    "\n",
    "# Find unique words\n",
    "unique_word_set = unique_words(input_str)\n",
    "\n",
    "# Print the result\n",
    "print(\"Unique words:\", unique_word_set)"
   ]
  },
  {
   "cell_type": "markdown",
   "id": "d38cd5bf-5024-4dc0-935b-ba3eb1a52219",
   "metadata": {},
   "source": [
    "Q.46. Count the number of syllables in a string."
   ]
  },
  {
   "cell_type": "code",
   "execution_count": 31,
   "id": "63d3dd56-b078-4ac3-a46e-b9b8d7b867b6",
   "metadata": {},
   "outputs": [
    {
     "name": "stdout",
     "output_type": "stream",
     "text": [
      "'hello' has 2 syllables.\n",
      "'banana' has 3 syllables.\n",
      "'syllable' has 3 syllables.\n"
     ]
    }
   ],
   "source": [
    "import re\n",
    "\n",
    "def count_syllables(word):\n",
    "    # Count vowel groups using regular expression\n",
    "    vowel_groups = re.findall(r'[aeiouy]+', word, re.IGNORECASE)\n",
    "\n",
    "    return len(vowel_groups)\n",
    "\n",
    "# Example words\n",
    "word1 = \"hello\"\n",
    "word2 = \"banana\"\n",
    "word3 = \"syllable\"\n",
    "\n",
    "# Count syllables\n",
    "syllables1 = count_syllables(word1)\n",
    "syllables2 = count_syllables(word2)\n",
    "syllables3 = count_syllables(word3)\n",
    "\n",
    "# Print the results\n",
    "print(f\"'{word1}' has {syllables1} syllables.\")\n",
    "print(f\"'{word2}' has {syllables2} syllables.\")\n",
    "print(f\"'{word3}' has {syllables3} syllables.\")"
   ]
  },
  {
   "cell_type": "markdown",
   "id": "688819c9-038f-4d12-af5e-b24f7c2a25ae",
   "metadata": {},
   "source": [
    "Q.47.Check if a string contains any special characters."
   ]
  },
  {
   "cell_type": "code",
   "execution_count": 32,
   "id": "ca1a51e4-9263-4659-a840-f5939321f8f8",
   "metadata": {},
   "outputs": [
    {
     "name": "stdout",
     "output_type": "stream",
     "text": [
      "'Hello, world!' contains special characters: True\n",
      "'This is a test.' contains special characters: True\n",
      "'Special@Characters' contains special characters: True\n"
     ]
    }
   ],
   "source": [
    "import re\n",
    "\n",
    "def contains_special_characters(input_string):\n",
    "    # Define a regular expression pattern to match special characters\n",
    "    pattern = re.compile(r'[!@#$%^&*()_+{}\\[\\]:;<>,.?~\\\\/]')\n",
    "\n",
    "    # Use the search() method to find a match\n",
    "    match = pattern.search(input_string)\n",
    "\n",
    "    # Return True if a match is found, False otherwise\n",
    "    return bool(match)\n",
    "\n",
    "# Example strings\n",
    "string1 = \"Hello, world!\"\n",
    "string2 = \"This is a test.\"\n",
    "string3 = \"Special@Characters\"\n",
    "\n",
    "# Check if strings contain special characters\n",
    "result1 = contains_special_characters(string1)\n",
    "result2 = contains_special_characters(string2)\n",
    "result3 = contains_special_characters(string3)\n",
    "\n",
    "# Print the results\n",
    "print(f\"'{string1}' contains special characters:\", result1)\n",
    "print(f\"'{string2}' contains special characters:\", result2)\n",
    "print(f\"'{string3}' contains special characters:\", result3)"
   ]
  },
  {
   "cell_type": "markdown",
   "id": "f4825b04-de48-4e62-80cb-ea609de3c942",
   "metadata": {},
   "source": [
    "Q,48.Remove the nth word from a string."
   ]
  },
  {
   "cell_type": "code",
   "execution_count": 33,
   "id": "96a5a771-20f2-41d8-8736-a43286d35bb5",
   "metadata": {},
   "outputs": [
    {
     "name": "stdout",
     "output_type": "stream",
     "text": [
      "Original string: This is an example sentence to test the function.\n",
      "Modified string: This is an sentence to test the function.\n",
      "Removed word: example\n"
     ]
    }
   ],
   "source": [
    "def remove_nth_word(input_string, n):\n",
    "    # Split the input string into words\n",
    "    words = input_string.split()\n",
    "\n",
    "    # Check if n is within a valid range\n",
    "    if n >= 1 and n <= len(words):\n",
    "        # Remove the nth word by excluding it from the words list\n",
    "        removed_word = words.pop(n - 1)\n",
    "\n",
    "        # Join the remaining words to form the modified string\n",
    "        modified_string = ' '.join(words)\n",
    "\n",
    "        return modified_string, removed_word\n",
    "    else:\n",
    "        return None, None\n",
    "\n",
    "# Example string and n value\n",
    "input_str = \"This is an example sentence to test the function.\"\n",
    "n_value = 4\n",
    "\n",
    "# Remove the nth word\n",
    "modified_str, removed_word = remove_nth_word(input_str, n_value)\n",
    "\n",
    "# Print the results\n",
    "print(\"Original string:\", input_str)\n",
    "if modified_str is not None:\n",
    "    print(\"Modified string:\", modified_str)\n",
    "    print(\"Removed word:\", removed_word)\n",
    "else:\n",
    "    print(\"Invalid n value.\")"
   ]
  },
  {
   "cell_type": "code",
   "execution_count": null,
   "id": "7c2e75fa-bb98-4068-b334-68b2adc0a3f9",
   "metadata": {},
   "outputs": [],
   "source": [
    "Q.49. Insert a word at the nth position in a string."
   ]
  },
  {
   "cell_type": "code",
   "execution_count": null,
   "id": "c361d3ec-99b1-41ea-8065-111a56d06825",
   "metadata": {},
   "outputs": [],
   "source": [
    "input_string = \"This is a sentence.\"\n",
    "word_to_insert = \"new\"\n",
    "n = 3 #insert at 3rd position.\n",
    "if n>=0 and n<= len(input_string):\n",
    "    result = input_string[:n] + word_to_insert + \" \" + input_string\n",
    "string.()"
   ]
  },
  {
   "cell_type": "code",
   "execution_count": null,
   "id": "36579eac-df6e-49cc-9077-23b99ae76f3f",
   "metadata": {},
   "outputs": [],
   "source": [
    "Q.50 Convert a CSV string to a list of lists."
   ]
  },
  {
   "cell_type": "code",
   "execution_count": 34,
   "id": "5003405d-69c8-481f-b1e0-f81836c122c0",
   "metadata": {},
   "outputs": [
    {
     "name": "stdout",
     "output_type": "stream",
     "text": [
      "['Name', ' Age', ' Country']\n",
      "['John', ' 25', ' USA']\n",
      "['Alice', ' 30', ' Canada']\n",
      "['Bob', ' 22', ' UK']\n"
     ]
    }
   ],
   "source": [
    "def csv_string_to_list(csv_string):\n",
    "    # Split the CSV string into lines\n",
    "    lines = csv_string.split('\\n')\n",
    "\n",
    "    # Initialize an empty list to store the result\n",
    "    result = []\n",
    "\n",
    "    for line in lines:\n",
    "        # Split each line into fields using comma as the delimiter\n",
    "        fields = line.split(',')\n",
    "\n",
    "        # Append the fields to the result list as a row\n",
    "        result.append(fields)\n",
    "\n",
    "    return result\n",
    "\n",
    "# Example CSV string\n",
    "csv_data = \"Name, Age, Country\\nJohn, 25, USA\\nAlice, 30, Canada\\nBob, 22, UK\"\n",
    " \n",
    "# Convert CSV string to a list of lists\n",
    "list_of_lists = csv_string_to_list(csv_data)\n",
    "\n",
    "# Print the result\n",
    "for row in list_of_lists:\n",
    "    print(row)"
   ]
  },
  {
   "cell_type": "markdown",
   "id": "8f380ccd-999f-4ff7-a90b-5da7a1a88ca9",
   "metadata": {},
   "source": [
    "## list based problems"
   ]
  },
  {
   "cell_type": "markdown",
   "id": "ec678dec-3e85-443e-baab-b4d42febd368",
   "metadata": {},
   "source": [
    "1.create a list from integers 1 to 10"
   ]
  },
  {
   "cell_type": "code",
   "execution_count": 35,
   "id": "feacdd87-dc1b-4220-9e90-4b2d24cb87e6",
   "metadata": {},
   "outputs": [
    {
     "name": "stdout",
     "output_type": "stream",
     "text": [
      "[1, 2, 3, 4, 5, 6, 7, 8, 9, 10]\n"
     ]
    }
   ],
   "source": [
    "# Use a list comprehension to create a list of integers from 1 to 10\n",
    "integer_list = [i for i in range(1, 11)]\n",
    "\n",
    "# Print the list\n",
    "print(integer_list)"
   ]
  },
  {
   "cell_type": "markdown",
   "id": "382930be-91c0-49e4-89fa-2b0652af19c1",
   "metadata": {},
   "source": [
    "2.find the length of list without using len() function:"
   ]
  },
  {
   "cell_type": "code",
   "execution_count": 36,
   "id": "1e829baa-14bc-4b0b-8943-6dd036be70a2",
   "metadata": {},
   "outputs": [
    {
     "name": "stdout",
     "output_type": "stream",
     "text": [
      "Length of the list: 5\n"
     ]
    }
   ],
   "source": [
    "def custom_len(input_list):\n",
    "    count = 0\n",
    "    for _ in input_list:\n",
    "        count += 1\n",
    "    return count\n",
    "\n",
    "# Example list\n",
    "my_list = [10, 20, 30, 40, 50]\n",
    "\n",
    "# Find the length of the list using the custom_len function\n",
    "length = custom_len(my_list)\n",
    "\n",
    "# Print the length of the list\n",
    "print(\"Length of the list:\", length)"
   ]
  },
  {
   "cell_type": "markdown",
   "id": "9575c555-9de9-4af8-bbb9-73bee7438cf3",
   "metadata": {},
   "source": [
    "3. Append an element to the end of a list:"
   ]
  },
  {
   "cell_type": "code",
   "execution_count": 37,
   "id": "e7f1f4d7-537b-4a9c-91ca-65c88ad6529c",
   "metadata": {},
   "outputs": [
    {
     "name": "stdout",
     "output_type": "stream",
     "text": [
      "Updated list: [10, 20, 30, 40]\n"
     ]
    }
   ],
   "source": [
    "# Example list\n",
    "my_list = [10, 20, 30]\n",
    "\n",
    "# Element to append\n",
    "new_element = 40\n",
    "\n",
    "# Append the new element to the end of the list\n",
    "my_list.append(new_element)\n",
    "\n",
    "# Print the updated list\n",
    "print(\"Updated list:\", my_list)"
   ]
  },
  {
   "cell_type": "markdown",
   "id": "325e84aa-22ef-46d7-9c8f-8a087415aff3",
   "metadata": {},
   "source": [
    "4.Insert an element at a specific index of a list:"
   ]
  },
  {
   "cell_type": "code",
   "execution_count": 38,
   "id": "a63e8023-9870-4966-8dce-7218a7353b8d",
   "metadata": {},
   "outputs": [
    {
     "name": "stdout",
     "output_type": "stream",
     "text": [
      "Updated list: [10, 20, 25, 30, 40, 50]\n"
     ]
    }
   ],
   "source": [
    "# Example list\n",
    "my_list = [10, 20, 30, 40, 50]\n",
    "\n",
    "# Element to insert\n",
    "new_element = 25\n",
    "\n",
    "# Index at which to insert the element\n",
    "index_to_insert = 2\n",
    "\n",
    "# Insert the new element at the specified index\n",
    "my_list.insert(index_to_insert, new_element)\n",
    "\n",
    "# Print the updated list\n",
    "print(\"Updated list:\", my_list)"
   ]
  },
  {
   "cell_type": "markdown",
   "id": "8ae846b2-1005-4803-8b82-a094c4a7cd29",
   "metadata": {},
   "source": [
    "5. Remove an element from a list by its value:"
   ]
  },
  {
   "cell_type": "code",
   "execution_count": 39,
   "id": "ad4e818a-19ab-4887-bcce-b1f80eaa5311",
   "metadata": {},
   "outputs": [
    {
     "name": "stdout",
     "output_type": "stream",
     "text": [
      "Updated list: [10, 20, 40, 50]\n"
     ]
    }
   ],
   "source": [
    "my_list = [10, 20, 30, 40, 50]\n",
    "\n",
    "# Element to remove\n",
    "element_to_remove = 30\n",
    "\n",
    "# Remove the element by its value\n",
    "my_list.remove(element_to_remove)\n",
    "\n",
    "# Print the updated list\n",
    "print(\"Updated list:\", my_list)"
   ]
  },
  {
   "cell_type": "markdown",
   "id": "550e2f6c-ec13-4009-830b-77fd3ef623fd",
   "metadata": {},
   "source": [
    "6.Remove an element from a list by its index:"
   ]
  },
  {
   "cell_type": "code",
   "execution_count": 40,
   "id": "a6b2addd-5e8a-429f-865f-e45a4e05819d",
   "metadata": {},
   "outputs": [
    {
     "name": "stdout",
     "output_type": "stream",
     "text": [
      "Updated list: [10, 20, 40, 50]\n",
      "Removed element: 30\n"
     ]
    }
   ],
   "source": [
    "# Example list\n",
    "my_list = [10, 20, 30, 40, 50]\n",
    "\n",
    "# Index of the element to remove\n",
    "index_to_remove = 2\n",
    "\n",
    "# Remove the element at the specified index\n",
    "removed_element = my_list.pop(index_to_remove)\n",
    "\n",
    "# Print the updated list and the removed element\n",
    "print(\"Updated list:\", my_list)\n",
    "print(\"Removed element:\", removed_element)"
   ]
  },
  {
   "cell_type": "markdown",
   "id": "5ea9458f-3969-4219-9900-d70646cefaab",
   "metadata": {},
   "source": [
    "7.Check if an element exists in a list:"
   ]
  },
  {
   "cell_type": "code",
   "execution_count": 41,
   "id": "e768df03-6c49-4082-a4e9-33644a2e47eb",
   "metadata": {},
   "outputs": [
    {
     "name": "stdout",
     "output_type": "stream",
     "text": [
      "30 exists in the list.\n"
     ]
    }
   ],
   "source": [
    "# Example list\n",
    "my_list = [10, 20, 30, 40, 50]\n",
    "\n",
    "# Element to check\n",
    "element_to_check = 30\n",
    "\n",
    "# Check if the element exists in the list\n",
    "if element_to_check in my_list:\n",
    "    print(f\"{element_to_check} exists in the list.\")\n",
    "else:\n",
    "    print(f\"{element_to_check} does not exist in the list.\")"
   ]
  },
  {
   "cell_type": "markdown",
   "id": "8b793ea9-50c8-41d0-8d44-0843f47bfe47",
   "metadata": {},
   "source": [
    "8.find the index of the first occurence of an element in a string:"
   ]
  },
  {
   "cell_type": "code",
   "execution_count": 42,
   "id": "d5ee40de-d962-425d-bbfb-c8f3a6759eac",
   "metadata": {},
   "outputs": [
    {
     "name": "stdout",
     "output_type": "stream",
     "text": [
      "The index of 30 is 2\n"
     ]
    }
   ],
   "source": [
    "# Example list\n",
    "my_list = [10, 20, 30, 40, 50, 30]\n",
    "\n",
    "# Element to find the index of\n",
    "element_to_find = 30\n",
    "\n",
    "# Find the index of the first occurrence of the element\n",
    "index = my_list.index(element_to_find)\n",
    "\n",
    "# Print the index\n",
    "print(f\"The index of {element_to_find} is {index}\")"
   ]
  },
  {
   "cell_type": "markdown",
   "id": "b8783812-d57a-47d5-a6c0-2c32b5339238",
   "metadata": {},
   "source": [
    "9.Count the occurence of an element in a list:"
   ]
  },
  {
   "cell_type": "code",
   "execution_count": 43,
   "id": "76978400-917b-4fae-b87c-1d6a92a5cfcd",
   "metadata": {},
   "outputs": [
    {
     "name": "stdout",
     "output_type": "stream",
     "text": [
      "The element 30 occurs 3 times in the list.\n"
     ]
    }
   ],
   "source": [
    "#Example list\n",
    "my_list = [10, 20, 30, 40, 50, 30, 30]\n",
    "\n",
    "# Element to count occurrences of\n",
    "element_to_count = 30\n",
    "\n",
    "# Count the occurrences of the element\n",
    "count = my_list.count(element_to_count)\n",
    "\n",
    "# Print the count\n",
    "print(f\"The element {element_to_count} occurs {count} times in the list.\") "
   ]
  },
  {
   "cell_type": "markdown",
   "id": "24dc52ac-1cad-4dfc-bf1a-bb833ea2cdac",
   "metadata": {},
   "source": [
    "10.Reverse the order of words in a list:"
   ]
  },
  {
   "cell_type": "code",
   "execution_count": 45,
   "id": "509b134f-6074-435d-950e-d56690622ac9",
   "metadata": {},
   "outputs": [
    {
     "name": "stdout",
     "output_type": "stream",
     "text": [
      "Reversed list: [50, 40, 30, 20, 10]\n"
     ]
    }
   ],
   "source": [
    "#Example list\n",
    "my_list = [10, 20, 30, 40, 50]\n",
    "\n",
    "# Reverse the order of elements in the list\n",
    "my_list.reverse()\n",
    "\n",
    "# Print the reversed list\n",
    "print(\"Reversed list:\", my_list)"
   ]
  },
  {
   "cell_type": "markdown",
   "id": "a816d7c8-6f14-423a-ab47-4733eb686b83",
   "metadata": {},
   "source": [
    "11.Sort a list in ascending order:"
   ]
  },
  {
   "cell_type": "code",
   "execution_count": 46,
   "id": "25365ca8-e1d3-4d64-a5c1-4f6f6e1e4eb7",
   "metadata": {},
   "outputs": [
    {
     "name": "stdout",
     "output_type": "stream",
     "text": [
      "Sorted list in ascending order: [10, 20, 30, 40, 50]\n"
     ]
    }
   ],
   "source": [
    "# Example list\n",
    "my_list = [50, 10, 30, 40, 20]\n",
    "\n",
    "# Sort the list in ascending order\n",
    "my_list.sort()\n",
    "\n",
    "# Print the sorted list\n",
    "print(\"Sorted list in ascending order:\",  my_list)"
   ]
  },
  {
   "cell_type": "markdown",
   "id": "9aa7d8fe-326b-4fba-b793-50657179e182",
   "metadata": {},
   "source": [
    "12.Sort a list in descending order:"
   ]
  },
  {
   "cell_type": "code",
   "execution_count": 47,
   "id": "dbacb84a-e854-474b-a9ff-359477c16dcb",
   "metadata": {},
   "outputs": [
    {
     "name": "stdout",
     "output_type": "stream",
     "text": [
      "Sorted list in descending order: [50, 40, 30, 20, 10]\n"
     ]
    }
   ],
   "source": [
    "# Example list\n",
    "my_list = [50, 10, 30, 40, 20]\n",
    "\n",
    "# Sort the list in descending order\n",
    "my_list.sort(reverse=True)\n",
    "\n",
    "# Print the sorted list\n",
    "print(\"Sorted list in descending order:\", my_list)"
   ]
  },
  {
   "cell_type": "markdown",
   "id": "096d602e-33ea-4a51-a8d6-a8c0941b713b",
   "metadata": {},
   "source": [
    "13. Create a list of even numbers from 1 to 20: "
   ]
  },
  {
   "cell_type": "code",
   "execution_count": 48,
   "id": "6549dc84-cedb-4485-9b8b-e3071685e87f",
   "metadata": {},
   "outputs": [
    {
     "name": "stdout",
     "output_type": "stream",
     "text": [
      "List of even numbers: [2, 4, 6, 8, 10, 12, 14, 16, 18, 20]\n"
     ]
    }
   ],
   "source": [
    "# Use a list comprehension to create a list of even numbers from 1 to 20\n",
    "even_numbers = [x for x in range(2, 21, 2)]\n",
    "\n",
    "# Print the list of even numbers\n",
    "print(\"List of even numbers:\", even_numbers)"
   ]
  },
  {
   "cell_type": "markdown",
   "id": "18963b79-cc5b-4d13-b3ea-e8a56d2485ae",
   "metadata": {},
   "source": [
    "14.create a list of odd numbers from 1 to 20:"
   ]
  },
  {
   "cell_type": "code",
   "execution_count": 1,
   "id": "2fc50132-59a0-4218-ae12-9010528ece9a",
   "metadata": {},
   "outputs": [
    {
     "name": "stdout",
     "output_type": "stream",
     "text": [
      "List of odd numbers:  [1, 3, 5, 7, 9, 11, 13, 15, 17, 19]\n"
     ]
    }
   ],
   "source": [
    "#use a list comprehension:\n",
    "odd_numbers = [x for x in range(1,20,2)]\n",
    "\n",
    "# print the list of odd numbers:\n",
    "print(\"List of odd numbers: \",odd_numbers)\n"
   ]
  },
  {
   "cell_type": "markdown",
   "id": "38821e10-2c9b-4e36-8f0c-e3cea7b8c729",
   "metadata": {},
   "source": [
    "15. Find the sum of all elements in a list:"
   ]
  },
  {
   "cell_type": "code",
   "execution_count": 2,
   "id": "6fe22f87-5877-4264-8c87-59723ef57903",
   "metadata": {},
   "outputs": [
    {
     "name": "stdout",
     "output_type": "stream",
     "text": [
      "the sum of all elements of list is: 2874\n"
     ]
    }
   ],
   "source": [
    "#use a list comprehensio :\n",
    "list = [2,25,258,2589]\n",
    "#calculate the sum of all elements:\n",
    "total_sum = sum(list)\n",
    "#print the sum:\n",
    "print(\"the sum of all elements of list is:\",total_sum)\n"
   ]
  },
  {
   "cell_type": "markdown",
   "id": "cf2b1422-4a65-4090-af8a-069b62a88de2",
   "metadata": {},
   "source": [
    "16. Find the maximum value in a list:"
   ]
  },
  {
   "cell_type": "code",
   "execution_count": 4,
   "id": "e4a770e2-e0da-4cf5-8909-136540d782a3",
   "metadata": {},
   "outputs": [
    {
     "name": "stdout",
     "output_type": "stream",
     "text": [
      "the maximum value of the list is: 85\n"
     ]
    }
   ],
   "source": [
    "#example list,\n",
    "list = [20,63,52,85]\n",
    "#find the maximum value,\n",
    "max_value = max(list)\n",
    "#print the max value:\n",
    "print(\"the maximum value of the list is:\",max_value)"
   ]
  },
  {
   "cell_type": "markdown",
   "id": "2a18325d-5462-4b87-9312-975ca97d5ec6",
   "metadata": {},
   "source": [
    "17. Find the minimum value in the list:"
   ]
  },
  {
   "cell_type": "code",
   "execution_count": 7,
   "id": "ec04108c-0bc0-4838-b349-6420ac41f9c9",
   "metadata": {},
   "outputs": [
    {
     "name": "stdout",
     "output_type": "stream",
     "text": [
      "The minimum value of the list is: 2\n"
     ]
    }
   ],
   "source": [
    "#example list:\n",
    "list = [2,6,85,52,47,10]\n",
    "#find the min value:\n",
    "min_value = min(list)\n",
    "\n",
    "#print min value:\n",
    "print(\"The minimum value of the list is:\",min_value)"
   ]
  },
  {
   "cell_type": "markdown",
   "id": "f31c4b9e-19cc-4629-87a9-660b8f794e9b",
   "metadata": {},
   "source": [
    "18.create a list of squares of numbers from 1 to 10:"
   ]
  },
  {
   "cell_type": "code",
   "execution_count": 6,
   "id": "6bbd3642-61a3-4a71-875a-7123012b0681",
   "metadata": {},
   "outputs": [
    {
     "name": "stdout",
     "output_type": "stream",
     "text": [
      "list of squares [1, 4, 9, 16, 25, 36, 49, 64, 81, 100]\n"
     ]
    }
   ],
   "source": [
    "#use a list comprehension:\n",
    "squares = [x**2 for x in range(1,11)]\n",
    "#print sqares :\n",
    "print(\"list of squares\",squares)"
   ]
  },
  {
   "cell_type": "markdown",
   "id": "ce135f35-99e5-4fb0-a0a6-47dd16916a75",
   "metadata": {},
   "source": [
    "19.Create a list of random numbers:"
   ]
  },
  {
   "cell_type": "code",
   "execution_count": 11,
   "id": "f8b2b361-e501-438e-934c-2362d04539f0",
   "metadata": {},
   "outputs": [
    {
     "name": "stdout",
     "output_type": "stream",
     "text": [
      "list of random integers: [1, 29, 78, 25, 81, 51, 52, 22, 19, 70]\n"
     ]
    }
   ],
   "source": [
    "import random\n",
    "#create a list of random integers:\n",
    "random_integers = [random.randint(1,100) for i in range(10)]\n",
    "#print list of random integers:\n",
    "print(\"list of random integers:\",random_integers)"
   ]
  },
  {
   "cell_type": "markdown",
   "id": "3a4528da-6d69-491b-a644-87ddfa78030b",
   "metadata": {},
   "source": [
    "20.Remove duplicates from the list:"
   ]
  },
  {
   "cell_type": "code",
   "execution_count": 1,
   "id": "54abbd1b-b816-4b77-93ff-4105c011eb7a",
   "metadata": {},
   "outputs": [
    {
     "name": "stdout",
     "output_type": "stream",
     "text": [
      "List without duplicates: [40, 10, 50, 20, 30]\n"
     ]
    }
   ],
   "source": [
    "#Example list with duplicates\n",
    "my_list = [10, 20, 30, 20, 40, 10, 50, 30]\n",
    "\n",
    "# Remove duplicates by converting to a set and back to a list\n",
    "unique_list = list(set(my_list))\n",
    "\n",
    "# Print the list without duplicates\n",
    "print(\"List without duplicates:\", unique_list)"
   ]
  },
  {
   "cell_type": "markdown",
   "id": "5ba2312e-54c8-4cfc-97c2-cb0211f0bc4b",
   "metadata": {},
   "source": [
    "21.Find the common elements between two lists:"
   ]
  },
  {
   "cell_type": "code",
   "execution_count": 9,
   "id": "f5b52bdb-da34-4f50-a9b3-50b6e08ac11f",
   "metadata": {},
   "outputs": [
    {
     "name": "stdout",
     "output_type": "stream",
     "text": [
      "the common elements in lists are: [4, 6]\n"
     ]
    }
   ],
   "source": [
    "#Example list:\n",
    "list1 = [1,2,3,4,6]\n",
    "list2 = [5,6,7,8,4]\n",
    "#convert list to set and find the common elements:\n",
    "common = set(list1).intersection(set(list2))\n",
    "# Convert the obtained set to list:\n",
    "output = list(common)\n",
    "print(\"the common elements in lists are:\",output)"
   ]
  },
  {
   "cell_type": "markdown",
   "id": "75941540-89b2-420c-9e87-0222dfe0bdcd",
   "metadata": {},
   "source": [
    "22.Find the difference between two lists:"
   ]
  },
  {
   "cell_type": "code",
   "execution_count": 3,
   "id": "b6a80efc-7029-4c07-b473-335f8cc77ef3",
   "metadata": {},
   "outputs": [
    {
     "name": "stdout",
     "output_type": "stream",
     "text": [
      "difference between two lists is: [40, 50, 90]\n"
     ]
    }
   ],
   "source": [
    "#create two lists:\n",
    "list1 = [50,40,60,90]\n",
    "list2 = [60,80,10,70]\n",
    "#find difference:\n",
    "difference = list(set(list1).difference(list2))\n",
    "#print difference:\n",
    "print(\"difference between two lists is:\",difference)"
   ]
  },
  {
   "cell_type": "markdown",
   "id": "a7ec3a61-fb62-448c-aed5-56199f897a1d",
   "metadata": {},
   "source": [
    "23.Merge two lists:"
   ]
  },
  {
   "cell_type": "code",
   "execution_count": 5,
   "id": "370baaf8-16e1-4249-828e-60833e69fd00",
   "metadata": {},
   "outputs": [
    {
     "name": "stdout",
     "output_type": "stream",
     "text": [
      "after merging: [23, 56, 89, 52, 63, 41]\n"
     ]
    }
   ],
   "source": [
    "#Example lists:\n",
    "list1 = [23,56,89]\n",
    "list2 = [52,63,41]\n",
    "#merging lists:\n",
    "merged_list = list1 + list2\n",
    "#print the merged lists:\n",
    "print(\"after merging:\",merged_list)"
   ]
  },
  {
   "cell_type": "markdown",
   "id": "ddcf8c34-344a-4777-9ff4-3257a72d7ea4",
   "metadata": {},
   "source": [
    "24.Multiply all elements in a list by 2:"
   ]
  },
  {
   "cell_type": "code",
   "execution_count": 6,
   "id": "cfefff84-4e1f-43f0-8253-41b6d9a02d40",
   "metadata": {},
   "outputs": [
    {
     "name": "stdout",
     "output_type": "stream",
     "text": [
      "the multiplied list is: [42, 62, 82]\n"
     ]
    }
   ],
   "source": [
    "#example list:\n",
    "l = [21,31,41]\n",
    "# using list comprehension:\n",
    "multiplied_list = [x*2 for x in l]\n",
    "print(\"the multiplied list is:\",multiplied_list)"
   ]
  },
  {
   "cell_type": "markdown",
   "id": "cee46031-0eda-4d29-bfde-c518c193cb02",
   "metadata": {},
   "source": [
    "25.Filter out all even numbers from a list:"
   ]
  },
  {
   "cell_type": "code",
   "execution_count": 10,
   "id": "ff11b1a1-3d09-408f-9337-320929918ba5",
   "metadata": {},
   "outputs": [
    {
     "name": "stdout",
     "output_type": "stream",
     "text": [
      "[2, 6, 8, 10]\n"
     ]
    }
   ],
   "source": [
    "def ev_num(number):\n",
    "    ev_list = []\n",
    "    for i in number:\n",
    "        if i%2 == 0:\n",
    "            ev_list.append(i)\n",
    "    return ev_list  \n",
    "number = [1,2,3,45,5,6,7,8,9,10]\n",
    "print(ev_num(number))\n"
   ]
  },
  {
   "cell_type": "code",
   "execution_count": null,
   "id": "435a2ea4-11f1-487f-b894-3c2675f03549",
   "metadata": {},
   "outputs": [],
   "source": []
  },
  {
   "cell_type": "markdown",
   "id": "db2312da-9a45-487f-9aa0-ee141e446e1e",
   "metadata": {},
   "source": [
    "26.Convert a list of strings into list of integers:"
   ]
  },
  {
   "cell_type": "code",
   "execution_count": 8,
   "id": "f5029b5d-c140-409b-8fbe-dedfa3f2d07b",
   "metadata": {},
   "outputs": [
    {
     "name": "stdout",
     "output_type": "stream",
     "text": [
      "List of integers: [10, 20, 30, 40, 50]\n"
     ]
    }
   ],
   "source": [
    "# Example list of strings\n",
    "string_list = [\"10\", \"20\", \"30\", \"40\", \"50\"]\n",
    "\n",
    "# Convert list of strings to list of integers using a list comprehension\n",
    "integer_list = [int(x) for x in string_list]\n",
    "\n",
    "# Print the list of integers\n",
    "print(\"List of integers:\", integer_list)"
   ]
  },
  {
   "cell_type": "markdown",
   "id": "c8ce7213-54e7-491c-b401-646a181b2e4a",
   "metadata": {},
   "source": [
    "27.convert a list of integers into a list of strings:"
   ]
  },
  {
   "cell_type": "code",
   "execution_count": 9,
   "id": "d187ce4f-a765-4ce6-849c-9c7990446776",
   "metadata": {},
   "outputs": [
    {
     "name": "stdout",
     "output_type": "stream",
     "text": [
      "List of strings: ['10', '20', '30', '40', '50']\n"
     ]
    }
   ],
   "source": [
    "# Example list of integers\n",
    "integer_list = [10, 20, 30, 40, 50]\n",
    "\n",
    "# Convert list of integers to list of strings using a list comprehension\n",
    "string_list = [str(x) for x in integer_list]\n",
    "\n",
    "# Print the list of strings\n",
    "print(\"List of strings:\", string_list)"
   ]
  },
  {
   "cell_type": "markdown",
   "id": "d7c27612-c158-402a-a119-8da41bcc90b1",
   "metadata": {},
   "source": [
    "28.Flatten a nested list:"
   ]
  },
  {
   "cell_type": "code",
   "execution_count": 10,
   "id": "b48efbbf-438f-452f-88fd-68cea7e3fb40",
   "metadata": {},
   "outputs": [
    {
     "name": "stdout",
     "output_type": "stream",
     "text": [
      "Flattened list: [1, 2, 3, 4, 5, 6, 7, 8, 9]\n"
     ]
    }
   ],
   "source": [
    "# Example nested list\n",
    "nested_list = [[1, 2, 3], [4, 5], [6, 7, 8, 9]]\n",
    "\n",
    "# Function to flatten a nested list\n",
    "def flatten_list(nested):\n",
    "    flattened = []\n",
    "    for sublist in nested:\n",
    "        if isinstance(sublist, list):\n",
    "            flattened.extend(flatten_list(sublist))\n",
    "        else:\n",
    "            flattened.append(sublist)\n",
    "    return flattened\n",
    "\n",
    "# Flatten the nested list\n",
    "flattened_list = flatten_list(nested_list)\n",
    "\n",
    "# Print the flattened list\n",
    "print(\"Flattened list:\", flattened_list)"
   ]
  },
  {
   "cell_type": "markdown",
   "id": "293da992-3003-4099-b668-65c1a346ca8a",
   "metadata": {},
   "source": [
    "29.Create a list of first 10 Fibonacci numbers:"
   ]
  },
  {
   "cell_type": "code",
   "execution_count": 11,
   "id": "f4b60b97-60b2-4c05-bbfc-8b2f87e22499",
   "metadata": {},
   "outputs": [
    {
     "name": "stdout",
     "output_type": "stream",
     "text": [
      "First 10 Fibonacci numbers: [0, 1]\n"
     ]
    }
   ],
   "source": [
    "#Function to generate the first n Fibonacci numbers\n",
    "def generate_fibonacci(n):\n",
    "    fibonacci_list = [0, 1]  # Initialize the list with the first two Fibonacci numbers\n",
    "\n",
    "    for i in range(2, n):\n",
    "        next_fibonacci = fibonacci_list[i - 1] + fibonacci_list[i - 2]\n",
    "        fibonacci_list.append(next_fibonacci)\n",
    "\n",
    "    return fibonacci_list\n",
    "\n",
    "# Generate the first 10 Fibonacci numbers\n",
    "fibonacci_numbers = generate_fibonacci(2)\n",
    "\n",
    "# Print the list of Fibonacci numbers\n",
    "print(\"First 10 Fibonacci numbers:\", fibonacci_numbers) "
   ]
  },
  {
   "cell_type": "markdown",
   "id": "0361d604-0ac3-4874-bb83-0e57ada66ac8",
   "metadata": {},
   "source": [
    "30.Check if a list is sorted:"
   ]
  },
  {
   "cell_type": "markdown",
   "id": "3bbbc2f6-9963-4110-b18b-0ff6001f5bfe",
   "metadata": {},
   "source": [
    "*checking in ascending order:"
   ]
  },
  {
   "cell_type": "code",
   "execution_count": 12,
   "id": "be863354-348b-4a4f-870b-f5693144a75f",
   "metadata": {},
   "outputs": [
    {
     "name": "stdout",
     "output_type": "stream",
     "text": [
      "The list is sorted in ascending order.\n"
     ]
    }
   ],
   "source": [
    "#Function to check if a list is sorted in ascending order\n",
    "def is_sorted_ascending(lst):\n",
    "    for i in range(1, len(lst)):\n",
    "        if lst[i] < lst[i - 1]:\n",
    "            return False\n",
    "    return True\n",
    "\n",
    "# Example list\n",
    "ascending_list = [10, 20, 30, 40, 50]\n",
    "\n",
    "# Check if the list is sorted in ascending order\n",
    "if is_sorted_ascending(ascending_list):\n",
    "    print(\"The list is sorted in ascending order.\")\n",
    "else:\n",
    "    print(\"The list is not sorted in ascending order.\")"
   ]
  },
  {
   "cell_type": "markdown",
   "id": "8e44ee88-7b36-4ae8-ae4b-d4a6ab319f09",
   "metadata": {},
   "source": [
    "31.Rotate a list to the left by n positions:"
   ]
  },
  {
   "cell_type": "code",
   "execution_count": 14,
   "id": "8c7dfe0b-4b21-4050-b0ce-260bae84a432",
   "metadata": {},
   "outputs": [
    {
     "name": "stdout",
     "output_type": "stream",
     "text": [
      "Rotated list: [3, 4, 5, 6, 1, 2]\n"
     ]
    }
   ],
   "source": [
    "# Function to rotate a list to the left by n positions\n",
    "def rotate_left(lst, n):\n",
    "    n = n % len(lst)  # Normalize n to handle cases where n is larger than the list length\n",
    "    # print(n)\n",
    "    rotated = lst[n:] + lst[:n]\n",
    "    return rotated\n",
    "\n",
    "# Example list\n",
    "my_list = [1, 2, 3, 4, 5, 6]\n",
    "\n",
    "# Number of positions to rotate by\n",
    "n = 2\n",
    "\n",
    "# Rotate the list to the left by n positions\n",
    "rotated_list = rotate_left(my_list, n)\n",
    "\n",
    "# Print the rotated list\n",
    "print(\"Rotated list:\", rotated_list)"
   ]
  },
  {
   "cell_type": "markdown",
   "id": "2f3528c2-def1-439b-bd0e-01b83adfb427",
   "metadata": {},
   "source": [
    "32.Rotate a list to the right by n positions:"
   ]
  },
  {
   "cell_type": "code",
   "execution_count": 15,
   "id": "db26f3bf-ba60-4bda-b1fb-94383733bb2a",
   "metadata": {},
   "outputs": [
    {
     "name": "stdout",
     "output_type": "stream",
     "text": [
      "Rotated list: [5, 6, 1, 2, 3, 4]\n"
     ]
    }
   ],
   "source": [
    "#Function to rotate a list to the right by n positions\n",
    "def rotate_right(lst, n):\n",
    "    n = n % len(lst)  # Normalize n to handle cases where n is larger than the list length\n",
    "    # print(n)\n",
    "    rotated = lst[-n:] + lst[:-n]\n",
    "    return rotated\n",
    "\n",
    "# Example list\n",
    "my_list = [1, 2, 3, 4, 5, 6]\n",
    "\n",
    "# Number of positions to rotate by\n",
    "n = 2\n",
    "\n",
    "# Rotate the list to the right by n positions\n",
    "rotated_list = rotate_right(my_list, n)\n",
    "\n",
    "# Print the rotated list\n",
    "print(\"Rotated list:\", rotated_list)"
   ]
  },
  {
   "cell_type": "markdown",
   "id": "afdeaff7-ded5-49ae-978a-f8fd2393bdfc",
   "metadata": {},
   "source": [
    "33.Create a list of prime numbers up to 50:"
   ]
  },
  {
   "cell_type": "code",
   "execution_count": 16,
   "id": "f630cf1a-d645-4dd5-8ac5-f189f3d7388a",
   "metadata": {},
   "outputs": [
    {
     "name": "stdout",
     "output_type": "stream",
     "text": [
      "5 25\n",
      "5 29\n",
      "List of prime numbers up to 50: [2, 3, 5, 7, 11, 13, 17, 19, 23, 29]\n"
     ]
    }
   ],
   "source": [
    "#Function to check if a number is prime\n",
    "def is_prime(num):\n",
    "    if num <= 1:\n",
    "        return False\n",
    "    if num <= 3:\n",
    "        return True\n",
    "    if num % 2 == 0 or num % 3 == 0:\n",
    "        return False\n",
    "    i = 5\n",
    "    while i * i <= num:\n",
    "      print(i,num)\n",
    "      if num % i == 0 or num % (i + 2) == 0:\n",
    "          return False\n",
    "      i += 6\n",
    "    return True\n",
    "\n",
    "# Create a list of prime numbers up to 50\n",
    "prime_numbers = [num for num in range(2,30) if is_prime(num)]\n",
    "\n",
    "# Print the list of prime numbers\n",
    "print(\"List of prime numbers up to 50:\", prime_numbers)"
   ]
  },
  {
   "cell_type": "markdown",
   "id": "917538d2-5348-4943-9447-f8c1bd4c04ab",
   "metadata": {},
   "source": [
    "34.Split a list of chunks of size n:"
   ]
  },
  {
   "cell_type": "code",
   "execution_count": 17,
   "id": "621d3f73-0e10-4e56-b557-81a96356979e",
   "metadata": {},
   "outputs": [
    {
     "name": "stdout",
     "output_type": "stream",
     "text": [
      "List of prime numbers up to 50: [2, 3, 5, 7, 11, 13, 17, 19, 23, 29, 31, 37, 41, 43, 47]\n"
     ]
    }
   ],
   "source": [
    "#Create a list of prime numbers up to 50 using Sieve of Eratosthenes algorithm\n",
    "def sieve_of_eratosthenes(limit):\n",
    "    primes = []\n",
    "    is_prime = [True] * (limit + 1)\n",
    "    is_prime[0] = is_prime[1] = False\n",
    "\n",
    "    for num in range(2, int(limit ** 0.5) + 1):\n",
    "        if is_prime[num]:\n",
    "            primes.append(num)\n",
    "            for multiple in range(num * num, limit + 1, num):\n",
    "                is_prime[multiple] = False\n",
    "\n",
    "    for num in range(int(limit ** 0.5) + 1, limit + 1):\n",
    "        if is_prime[num]:\n",
    "            primes.append(num)\n",
    "\n",
    "    return primes\n",
    "\n",
    "# Create a list of prime numbers up to 50\n",
    "prime_numbers = sieve_of_eratosthenes(50)\n",
    "\n",
    "# Print the list of prime numbers\n",
    "print(\"List of prime numbers up to 50:\", prime_numbers)"
   ]
  },
  {
   "cell_type": "markdown",
   "id": "107f00a7-1b81-4e4e-b6a7-338b5683577d",
   "metadata": {},
   "source": [
    "35.find the second largest number in the list:"
   ]
  },
  {
   "cell_type": "code",
   "execution_count": 18,
   "id": "95be73ae-e353-43dc-bac4-8b13f1196a6c",
   "metadata": {},
   "outputs": [
    {
     "name": "stdout",
     "output_type": "stream",
     "text": [
      "Second largest number: 25\n"
     ]
    }
   ],
   "source": [
    "#Example list\n",
    "my_list = [10, 5, 20, 15, 30, 25]\n",
    "\n",
    "# Remove duplicates and sort the list in ascending order\n",
    "sorted_list = sorted(set(my_list))\n",
    "\n",
    "# Find the second largest number\n",
    "if len(sorted_list) >= 2:\n",
    "    second_largest = sorted_list[-2]\n",
    "    print(\"Second largest number:\", second_largest)\n",
    "else:\n",
    "    print(\"The list does not contain enough elements.\")"
   ]
  },
  {
   "cell_type": "markdown",
   "id": "6c261e8d-23d7-436b-8f4d-fd1fc7885895",
   "metadata": {},
   "source": [
    "36.replace every element in a list with its square:"
   ]
  },
  {
   "cell_type": "code",
   "execution_count": 19,
   "id": "8fb1d72b-ff9c-4988-afd5-cd9809b1634b",
   "metadata": {},
   "outputs": [
    {
     "name": "stdout",
     "output_type": "stream",
     "text": [
      "Squared list: [4, 16, 36, 64, 100]\n"
     ]
    }
   ],
   "source": [
    "#Example list\n",
    "my_list = [2, 4, 6, 8, 10]\n",
    "\n",
    "# Replace every element with its square using a list comprehension\n",
    "squared_list = [x ** 2 for x in my_list]\n",
    "\n",
    "# Print the squared list\n",
    "print(\"Squared list:\", squared_list) "
   ]
  },
  {
   "cell_type": "markdown",
   "id": "71fb7b91-5514-4db5-8e17-9030a3942b4d",
   "metadata": {},
   "source": [
    "37. Convert a list to a dictionary where list elements become keys and their indices become values."
   ]
  },
  {
   "cell_type": "code",
   "execution_count": 20,
   "id": "8aafb852-6f39-40c6-811e-d932a6f1ddd1",
   "metadata": {},
   "outputs": [
    {
     "name": "stdout",
     "output_type": "stream",
     "text": [
      "Converted dictionary: {'apple': 0, 'banana': 1, 'cherry': 2, 'date': 3, 'elderberry': 4}\n"
     ]
    }
   ],
   "source": [
    "#Example list\n",
    "my_list = ['apple', 'banana', 'cherry', 'date', 'elderberry']\n",
    "\n",
    "# Convert list to dictionary using dictionary comprehension\n",
    "my_dict = {element: index for index, element in enumerate(my_list)}\n",
    "\n",
    "# Print the resulting dictionary\n",
    "print(\"Converted dictionary:\", my_dict) "
   ]
  },
  {
   "cell_type": "markdown",
   "id": "3e3b82f4-9451-480a-b8d9-87dcc5a1912f",
   "metadata": {},
   "source": [
    "38.Shuffle the elements of the list randomly:"
   ]
  },
  {
   "cell_type": "code",
   "execution_count": 21,
   "id": "05b63562-b2ae-45e1-a930-d64567a283e7",
   "metadata": {},
   "outputs": [
    {
     "name": "stdout",
     "output_type": "stream",
     "text": [
      "Shuffled list: [4, 10, 5, 9, 7, 2, 1, 3, 6, 8]\n"
     ]
    }
   ],
   "source": [
    "import random\n",
    "\n",
    "# Example list\n",
    "my_list = [1, 2, 3, 4, 5, 6, 7, 8, 9, 10]\n",
    "\n",
    "# Shuffle the list randomly\n",
    "random.shuffle(my_list)\n",
    "\n",
    "# Print the shuffled list\n",
    "print(\"Shuffled list:\", my_list)"
   ]
  },
  {
   "cell_type": "markdown",
   "id": "f44ffbd6-a2e4-4646-a79f-6e949f08dd75",
   "metadata": {},
   "source": [
    "39.Create a list of first ten factorial numbers:"
   ]
  },
  {
   "cell_type": "code",
   "execution_count": 22,
   "id": "2db330b0-badc-4c13-9297-46ec36689f07",
   "metadata": {},
   "outputs": [
    {
     "name": "stdout",
     "output_type": "stream",
     "text": [
      "List of the first 10 factorial numbers: [1, 1, 2, 6, 24, 120, 720, 5040, 40320, 362880]\n"
     ]
    }
   ],
   "source": [
    "#Function to calculate factorial\n",
    "def factorial(n):\n",
    "    if n == 0 or n == 1:\n",
    "        return 1\n",
    "    else:\n",
    "        return n * factorial(n - 1)\n",
    "\n",
    "# Create a list of the first 10 factorial numbers\n",
    "factorial_numbers = [factorial(i) for i in range(10)]\n",
    "\n",
    "# Print the list of factorial numbers\n",
    "print(\"List of the first 10 factorial numbers:\", factorial_numbers)"
   ]
  },
  {
   "cell_type": "markdown",
   "id": "5b2c3fc0-d734-4ff7-a215-7df0ce7dc7bb",
   "metadata": {},
   "source": [
    "40.check if two lists have atleast one common element:"
   ]
  },
  {
   "cell_type": "code",
   "execution_count": 23,
   "id": "35c67da4-8dc2-45b8-b5dd-9767959abf0e",
   "metadata": {},
   "outputs": [
    {
     "name": "stdout",
     "output_type": "stream",
     "text": [
      "The lists have at least one common element.\n"
     ]
    }
   ],
   "source": [
    "#Function to check if two lists have at least one element in common\n",
    "def has_common_element(list1, list2):\n",
    "    for item in list1:\n",
    "        if item in list2:\n",
    "            return True\n",
    "    return False\n",
    "\n",
    "# Example lists\n",
    "list1 = [1, 2, 3, 4, 5]\n",
    "list2 = [4, 5, 6, 7, 8]\n",
    "\n",
    "# Check if the two lists have at least one element in common\n",
    "if has_common_element(list1, list2):\n",
    "    print(\"The lists have at least one common element.\")\n",
    "else:\n",
    "    print(\"The lists do not have any common elements.\")"
   ]
  },
  {
   "cell_type": "markdown",
   "id": "67a58f2a-a7a3-4788-8ea1-a9bfac5d4102",
   "metadata": {},
   "source": [
    "41.Remove all elements from a list:"
   ]
  },
  {
   "cell_type": "code",
   "execution_count": 24,
   "id": "8e58a417-fd13-4828-ab21-2f09c943b6c9",
   "metadata": {},
   "outputs": [
    {
     "name": "stdout",
     "output_type": "stream",
     "text": [
      "Empty list: []\n"
     ]
    }
   ],
   "source": [
    "# Example list\n",
    "my_list = [1, 2, 3, 4, 5]\n",
    "\n",
    "# Clear all elements from the list\n",
    "my_list.clear()\n",
    "\n",
    "# Print the empty list\n",
    "print(\"Empty list:\", my_list)"
   ]
  },
  {
   "cell_type": "markdown",
   "id": "ae2aca5a-0a37-4449-a29d-818c8e80c371",
   "metadata": {},
   "source": [
    "42.Replace negative numbers in a list with 0:"
   ]
  },
  {
   "cell_type": "code",
   "execution_count": 25,
   "id": "17d15f7c-7ee3-44f9-9180-d4f170ee7f0c",
   "metadata": {},
   "outputs": [
    {
     "name": "stdout",
     "output_type": "stream",
     "text": [
      "List after replacing negative numbers with 0: [10, 0, 20, 0, 30, 0]\n"
     ]
    }
   ],
   "source": [
    "# Example list\n",
    "my_list = [10, -5, 20, -15, 30, -25]\n",
    "\n",
    "# Step 1: Iterate through the list and replace negative numbers with 0\n",
    "for i in range(len(my_list)):\n",
    "    if my_list[i] < 0:\n",
    "        my_list[i] = 0\n",
    "\n",
    "# Print the list after replacing negative numbers with 0\n",
    "print(\"List after replacing negative numbers with 0:\", my_list)"
   ]
  },
  {
   "cell_type": "markdown",
   "id": "971f1b2c-082a-4d24-b1bf-d239dfb198ef",
   "metadata": {},
   "source": [
    "43.Convert a string into list of words:"
   ]
  },
  {
   "cell_type": "code",
   "execution_count": 26,
   "id": "c6a59ba3-9e16-4322-b95e-158735b3c9a8",
   "metadata": {},
   "outputs": [
    {
     "name": "stdout",
     "output_type": "stream",
     "text": [
      "List of words: ['Hello,', 'this', 'is', 'a', 'sample', 'sentence.']\n"
     ]
    }
   ],
   "source": [
    "# Example string\n",
    "my_string = \"Hello, this is a sample sentence.\"\n",
    "\n",
    "# Convert the string into a list of words\n",
    "word_list = my_string.split()\n",
    "\n",
    "# Print the list of words\n",
    "print(\"List of words:\", word_list)"
   ]
  },
  {
   "cell_type": "markdown",
   "id": "55a5130a-f171-4046-9ddb-98510b4c97e5",
   "metadata": {},
   "source": [
    "44.convert a list of words into string:"
   ]
  },
  {
   "cell_type": "code",
   "execution_count": 27,
   "id": "ea8405c0-a808-4da3-b6af-0f74b12fe4e3",
   "metadata": {},
   "outputs": [
    {
     "name": "stdout",
     "output_type": "stream",
     "text": [
      "Converted string: Hello, this is a sample sentence.\n"
     ]
    }
   ],
   "source": [
    "# Example list of words\n",
    "word_list = [\"Hello,\", \"this\", \"is\", \"a\", \"sample\", \"sentence.\"]\n",
    "\n",
    "# Convert the list of words into a string\n",
    "my_string = \" \".join(word_list)\n",
    "\n",
    "# Print the resulting string\n",
    "print(\"Converted string:\", my_string)"
   ]
  },
  {
   "cell_type": "markdown",
   "id": "d8e6d72c-7f33-4148-b0ce-373debc12d36",
   "metadata": {},
   "source": [
    "45. create a list of first n powers of 2"
   ]
  },
  {
   "cell_type": "code",
   "execution_count": 1,
   "id": "dc69a0b0-7ca2-4930-9c12-8be0f57b8192",
   "metadata": {},
   "outputs": [
    {
     "name": "stdout",
     "output_type": "stream",
     "text": [
      "List of the first 5 powers of 2: [1, 2, 4, 8, 16]\n"
     ]
    }
   ],
   "source": [
    "#Specify the value of n\n",
    "n = 5\n",
    "\n",
    "# Create a list of the first n powers of 2 using a loop\n",
    "power_list = [2 ** i for i in range(n)]\n",
    "\n",
    "# Print the list of powers of 2\n",
    "print(\"List of the first\", n, \"powers of 2:\", power_list) "
   ]
  },
  {
   "cell_type": "markdown",
   "id": "5f19f67a-cffa-40f9-ac11-8d8393a4baec",
   "metadata": {},
   "source": [
    "46.find the longest string in the list of strings:"
   ]
  },
  {
   "cell_type": "code",
   "execution_count": 6,
   "id": "5b16dcfc-9337-480f-a54c-d3bf787f00a9",
   "metadata": {},
   "outputs": [
    {
     "name": "stdout",
     "output_type": "stream",
     "text": [
      "awesome\n"
     ]
    }
   ],
   "source": [
    "# example length of strings:\n",
    "my_list = [\"maa\",\"paa\",\"are\",\"really\",\"awesome\"]\n",
    "#find the longest string:\n",
    "longest_string = \"\"\n",
    "for s in my_list:\n",
    "    if len(s)>len(longest_string):\n",
    "        longest_string = s\n",
    "    \n",
    "    #print the longest string:\n",
    "print(longest_string)"
   ]
  },
  {
   "cell_type": "markdown",
   "id": "59f0f8d2-306f-4db8-9108-765212271b16",
   "metadata": {},
   "source": [
    "47.find the shortest string in a list:"
   ]
  },
  {
   "cell_type": "code",
   "execution_count": 7,
   "id": "ad34ed23-fe48-4b9a-80df-17efd023b3e3",
   "metadata": {},
   "outputs": [
    {
     "name": "stdout",
     "output_type": "stream",
     "text": [
      "Shortest string: date\n"
     ]
    }
   ],
   "source": [
    "# Example list of strings\n",
    "string_list = [\"apple\", \"banana\", \"cherry\", \"date\", \"elderberry\"]\n",
    "\n",
    "# Find the shortest string in the list\n",
    "shortest_string = string_list[0]  # Initialize with the first string\n",
    "for s in string_list:\n",
    "    if len(s) < len(shortest_string):\n",
    "        shortest_string = s\n",
    "\n",
    "# Print the shortest string\n",
    "print(\"Shortest string:\", shortest_string)"
   ]
  },
  {
   "cell_type": "markdown",
   "id": "9439850f-7f5c-4650-9d78-6ac5dbcdfbc9",
   "metadata": {},
   "source": [
    "48:create a list of first n triangular numbers:"
   ]
  },
  {
   "cell_type": "code",
   "execution_count": 8,
   "id": "0a034909-42a3-46aa-8b57-85b32b6f8e95",
   "metadata": {},
   "outputs": [
    {
     "name": "stdout",
     "output_type": "stream",
     "text": [
      "List of the first 5 triangular numbers: [1, 3, 6, 10, 15]\n"
     ]
    }
   ],
   "source": [
    "# Function to calculate triangular numbers\n",
    "def triangular_numbers(n):\n",
    "    return [i * (i + 1) // 2 for i in range(1, n + 1)]\n",
    "\n",
    "# Specify the value of n\n",
    "n = 5\n",
    "\n",
    "# Create a list of the first n triangular numbers\n",
    "triangular_list = triangular_numbers(n)\n",
    "\n",
    "# Print the list of triangular numbers\n",
    "print(\"List of the first\", n, \"triangular numbers:\", triangular_list)"
   ]
  },
  {
   "cell_type": "markdown",
   "id": "9ed06dbf-d004-4f8c-9d56-5bfa07565ad2",
   "metadata": {},
   "source": [
    "49.check if a list contains another list as subsequence:"
   ]
  },
  {
   "cell_type": "code",
   "execution_count": 9,
   "id": "a2df5933-cb6a-4eb8-8849-83419973385c",
   "metadata": {},
   "outputs": [
    {
     "name": "stdout",
     "output_type": "stream",
     "text": [
      "Main list contains the subsequence.\n"
     ]
    }
   ],
   "source": [
    "# Function to check if a list contains another list as a subsequence\n",
    "def is_subsequence(subsequence, main_list):\n",
    "    subseq_index = 0  # Index for the subsequence elements\n",
    "    for element in main_list:\n",
    "        if element == subsequence[subseq_index]:\n",
    "            subseq_index += 1\n",
    "            if subseq_index == len(subsequence):\n",
    "                return True\n",
    "    return False\n",
    "\n",
    "# Example main list and subsequence\n",
    "main_list = [1, 2, 3, 4, 5, 6, 7, 8, 9, 10]\n",
    "subsequence = [3, 5, 8]\n",
    "\n",
    "# Check if the main list contains the subsequence\n",
    "if is_subsequence(subsequence, main_list):\n",
    "    print(\"Main list contains the subsequence.\")\n",
    "else:\n",
    "    print(\"Main list does not contain the subsequence.\")"
   ]
  },
  {
   "cell_type": "markdown",
   "id": "1590f559-c02e-4aa0-9154-84370f24cc0e",
   "metadata": {},
   "source": [
    "50.swap two elements in a list by their indices:"
   ]
  },
  {
   "cell_type": "code",
   "execution_count": 10,
   "id": "a94571f0-d236-4b0d-889a-8c7bed9c1b34",
   "metadata": {},
   "outputs": [
    {
     "name": "stdout",
     "output_type": "stream",
     "text": [
      "List after swapping elements: [1, 4, 3, 2, 5]\n"
     ]
    }
   ],
   "source": [
    "# Example list\n",
    "my_list = [1, 2, 3, 4, 5]\n",
    "\n",
    "# Indices of elements to swap\n",
    "index1 = 1\n",
    "index2 = 3\n",
    "\n",
    "# Swap the elements at the specified indices\n",
    "temp = my_list[index1]\n",
    "my_list[index1] = my_list[index2]\n",
    "my_list[index2] = temp\n",
    "\n",
    "# Print the list after swapping\n",
    "print(\"List after swapping elements:\", my_list)"
   ]
  },
  {
   "cell_type": "markdown",
   "id": "1ce40922-079c-4e90-b47e-0d6582b8573e",
   "metadata": {},
   "source": [
    "#* TUPLE BASED PRACTICE PROBLEMS:"
   ]
  },
  {
   "cell_type": "markdown",
   "id": "6eb34cf0-1ba0-4ae5-a589-69db29091663",
   "metadata": {},
   "source": [
    "Q.1 : create a tuple from integers 1 to 5:"
   ]
  },
  {
   "cell_type": "code",
   "execution_count": 16,
   "id": "3867ad4d-6afc-49bb-8d8a-89072404d490",
   "metadata": {},
   "outputs": [
    {
     "name": "stdout",
     "output_type": "stream",
     "text": [
      "(1, 2, 3, 4, 5)\n"
     ]
    }
   ],
   "source": [
    "#create a list of integers from 1 to 5 using list comprehension:\n",
    "listt = [i for i in range (1,6)]\n",
    "#converting list to tuple,\n",
    "tuple_int = tuple(listt)\n",
    "#print the tuple:\n",
    "print(tuple_int)"
   ]
  },
  {
   "cell_type": "markdown",
   "id": "267be62e-6e04-4921-8168-a5610515a3ff",
   "metadata": {},
   "source": [
    "Q.2: Access the third element of a tuple:"
   ]
  },
  {
   "cell_type": "code",
   "execution_count": 18,
   "id": "2b9e86b3-c63b-4eff-bb8f-dcf0032d6ea7",
   "metadata": {},
   "outputs": [
    {
     "name": "stdout",
     "output_type": "stream",
     "text": [
      "The third element is: 6\n"
     ]
    }
   ],
   "source": [
    "#example tuple:\n",
    "my_tuple = (1,5,6,8,7)\n",
    "#acess the third element:\n",
    "third_el = my_tuple[2]\n",
    "#print the third element:\n",
    "print(\"The third element is:\",third_el)"
   ]
  },
  {
   "cell_type": "markdown",
   "id": "ae8f2fe8-f771-4761-9097-1ae12008e58f",
   "metadata": {},
   "source": [
    "Q.3.Find the length of tuple without using len():"
   ]
  },
  {
   "cell_type": "code",
   "execution_count": 21,
   "id": "f5fbea4a-4517-4920-afb4-b38347c7c4c0",
   "metadata": {},
   "outputs": [
    {
     "name": "stdout",
     "output_type": "stream",
     "text": [
      "5\n"
     ]
    }
   ],
   "source": [
    "#create a tuple:\n",
    "my_tuple = (50,60,52,62,41)\n",
    "#define count:\n",
    "count = 0\n",
    "#iterate through the loop:\n",
    "for i in my_tuple:\n",
    "    count += 1\n",
    "print(count)    "
   ]
  },
  {
   "cell_type": "markdown",
   "id": "700c450c-b187-4b68-b651-b71a9a2306db",
   "metadata": {},
   "source": [
    "Q.4:count the occurences of an element in a tuple:"
   ]
  },
  {
   "cell_type": "code",
   "execution_count": 23,
   "id": "4b9973df-b4ff-4e77-9e68-ff64eb450f71",
   "metadata": {},
   "outputs": [
    {
     "name": "stdout",
     "output_type": "stream",
     "text": [
      "Occurence of 40 in my_tuple is 3 times.\n"
     ]
    }
   ],
   "source": [
    "#example tuple:\n",
    "my_tuple = (20,40,60,40,63,40)\n",
    "element_to_count = 40\n",
    "count = 0\n",
    "for i in my_tuple:\n",
    "    if i == element_to_count:\n",
    "        count += 1\n",
    "print(f\"Occurence of {element_to_count} in my_tuple is {count} times.\")"
   ]
  },
  {
   "cell_type": "markdown",
   "id": "cb1d9d2a-2289-4753-a8af-faf9a6829981",
   "metadata": {},
   "source": [
    "Q.5.Find the index of the first occurence of an element in a tuple:"
   ]
  },
  {
   "cell_type": "code",
   "execution_count": 24,
   "id": "2a036bb6-66cc-4802-b0a2-b9c4fd08471b",
   "metadata": {},
   "outputs": [
    {
     "name": "stdout",
     "output_type": "stream",
     "text": [
      "first occurence of 50 is at 2\n"
     ]
    }
   ],
   "source": [
    "my_tuple = (20,60,50,20,50,20)\n",
    "element_to_find = 50\n",
    "index = -1\n",
    "for i,item in enumerate(my_tuple):\n",
    "    if item == element_to_find:\n",
    "        index = i\n",
    "        break\n",
    "        \n",
    "if index != -1:\n",
    "    print(f\"first occurence of {element_to_find} is at {index}\")\n",
    "else:\n",
    "    print(\"the element not found in tuple\")"
   ]
  },
  {
   "cell_type": "markdown",
   "id": "f0c3c226-0bd2-4b43-a81d-de47c57a7853",
   "metadata": {},
   "source": [
    "Q.6 check if an element exists in a tuple:"
   ]
  },
  {
   "cell_type": "code",
   "execution_count": 27,
   "id": "e4631d57-67bd-4ccb-bb2a-6dd532551483",
   "metadata": {},
   "outputs": [
    {
     "name": "stdout",
     "output_type": "stream",
     "text": [
      "3 is present in t.\n"
     ]
    }
   ],
   "source": [
    "t = (1,2,3,4,5)\n",
    "element_to_check = 3\n",
    "if element_to_check in t:\n",
    "    print(f\"{element_to_check} is present in t.\")"
   ]
  },
  {
   "cell_type": "markdown",
   "id": "1cf9c8e7-5aaa-418f-b4b0-5359d4145dc4",
   "metadata": {},
   "source": [
    "Q.7 convert a tuple into list:"
   ]
  },
  {
   "cell_type": "code",
   "execution_count": 29,
   "id": "2a4c5c50-6729-43df-8466-5262b254b864",
   "metadata": {},
   "outputs": [
    {
     "name": "stdout",
     "output_type": "stream",
     "text": [
      "tuple: (52, 63, 74, 85, 96)\n",
      "list: [52, 63, 74, 85, 96]\n"
     ]
    }
   ],
   "source": [
    "my_tuple = (52,63,74,85,96)\n",
    "tuple_to_list = list(my_tuple)\n",
    "print(\"tuple:\",my_tuple)\n",
    "print(\"list:\",tuple_to_list)"
   ]
  },
  {
   "cell_type": "markdown",
   "id": "e7e0db09-ca30-4084-a275-40ad421970ea",
   "metadata": {},
   "source": [
    "Q.8: convert a list to tuple:"
   ]
  },
  {
   "cell_type": "code",
   "execution_count": 30,
   "id": "29e601f9-8f48-41f7-b53b-2f2713251f6e",
   "metadata": {},
   "outputs": [
    {
     "name": "stdout",
     "output_type": "stream",
     "text": [
      "List: [10, 20, 30, 40, 50]\n",
      "Tuple: (10, 20, 30, 40, 50)\n"
     ]
    }
   ],
   "source": [
    "#Step 1: Create a list\n",
    "my_list = [10, 20, 30, 40, 50]\n",
    "\n",
    "# Step 2: Convert the list to a tuple\n",
    "my_tuple = tuple(my_list)\n",
    "\n",
    "# Step 3: Print the res ulting tuple\n",
    "print(\"List:\", my_list)\n",
    "print(\"Tuple:\", my_tuple)\n"
   ]
  },
  {
   "cell_type": "markdown",
   "id": "174c68b0-af2f-4aa3-baa3-7ad53fb2d4e6",
   "metadata": {},
   "source": [
    "Q.9:unpack the elements of tuple into variables:"
   ]
  },
  {
   "cell_type": "code",
   "execution_count": 31,
   "id": "106e8989-e214-42a7-ac9a-953e0b53fc23",
   "metadata": {},
   "outputs": [
    {
     "name": "stdout",
     "output_type": "stream",
     "text": [
      "var1: 10\n",
      "var2: 20\n",
      "var3: 30\n"
     ]
    }
   ],
   "source": [
    "# Step 1: Create a tuple\n",
    "my_tuple = (10, 20, 30)\n",
    "\n",
    "# Step 2: Unpack the elements of the tuple into variables\n",
    "var1, var2, var3 = my_tuple\n",
    "\n",
    "# Step 3: Print the variables\n",
    "print(\"var1:\", var1)\n",
    "print(\"var2:\", var2)\n",
    "print(\"var3:\", var3)"
   ]
  },
  {
   "cell_type": "markdown",
   "id": "4b36c5f6-1755-4c1c-bf17-744b49ba8879",
   "metadata": {},
   "source": [
    "Q10. Create of tuple of 1 to 10 for even numbers:"
   ]
  },
  {
   "cell_type": "code",
   "execution_count": 32,
   "id": "3bbb7623-f7f1-4377-a981-547495856ace",
   "metadata": {},
   "outputs": [
    {
     "name": "stdout",
     "output_type": "stream",
     "text": [
      "Tuple of even numbers is: (2, 4, 6, 8, 10)\n"
     ]
    }
   ],
   "source": [
    "list_even = [i for i in range(2,11,2)]\n",
    "tuple_even = tuple(list_even)\n",
    "print(\"Tuple of even numbers is:\",tuple_even)"
   ]
  },
  {
   "cell_type": "markdown",
   "id": "d5041268-bc11-445d-acf5-f6b9e19944b8",
   "metadata": {},
   "source": [
    "Q.11. Create a tuple of odd numbers from 1 to 10"
   ]
  },
  {
   "cell_type": "code",
   "execution_count": 34,
   "id": "4e04e354-8184-4c4d-ac3c-d5c63498f2b8",
   "metadata": {},
   "outputs": [
    {
     "name": "stdout",
     "output_type": "stream",
     "text": [
      "tuple of odd numbers is: (1, 3, 5, 7, 9)\n"
     ]
    }
   ],
   "source": [
    "list_odd = [i for i in range(1,10,2)]\n",
    "_tuple = tuple(list_odd)\n",
    "print(\"tuple of odd numbers is:\",_tuple)"
   ]
  },
  {
   "cell_type": "markdown",
   "id": "96d60db3-b41e-47a7-9110-cec1c92298d1",
   "metadata": {},
   "source": [
    "Q.12.Concatenate two tuples:"
   ]
  },
  {
   "cell_type": "code",
   "execution_count": 35,
   "id": "9fcee0e6-7e11-46be-9aea-e27b160e7048",
   "metadata": {},
   "outputs": [
    {
     "name": "stdout",
     "output_type": "stream",
     "text": [
      "Concatenated tuple: (1, 2, 3, 4, 5, 6)\n"
     ]
    }
   ],
   "source": [
    "# Step 1: Create two tuples\n",
    "tuple1 = (1, 2, 3)\n",
    "tuple2 = (4, 5, 6)\n",
    "\n",
    "# Step 2: Concatenate the two tuples\n",
    "concatenated_tuple = tuple1 + tuple2\n",
    "\n",
    "# Step 3: Print the concatenated tuple\n",
    "print(\"Concatenated tuple:\", concatenated_tuple)"
   ]
  },
  {
   "cell_type": "markdown",
   "id": "0c0c6096-5874-478a-80b4-726a4df0edeb",
   "metadata": {},
   "source": [
    "Q.13.Repeat a tuple 3 times"
   ]
  },
  {
   "cell_type": "code",
   "execution_count": 36,
   "id": "2dfc0320-803a-43e2-8aa7-5c63652b5915",
   "metadata": {},
   "outputs": [
    {
     "name": "stdout",
     "output_type": "stream",
     "text": [
      "Repeated tuple: (1, 2, 3, 1, 2, 3, 1, 2, 3)\n"
     ]
    }
   ],
   "source": [
    "# Step 1: Create a tuple\n",
    "original_tuple = (1, 2, 3)\n",
    "\n",
    "# Step 2: Repeat the tuple three times\n",
    "repeated_tuple = original_tuple * 3\n",
    "\n",
    "# Step 3: Print the repeated tuple\n",
    "print(\"Repeated tuple:\", repeated_tuple)"
   ]
  },
  {
   "cell_type": "markdown",
   "id": "9b7a4099-ce73-46c7-b14c-415c8d0c4aed",
   "metadata": {},
   "source": [
    "Q.14.Check if a tuple is empty:"
   ]
  },
  {
   "cell_type": "code",
   "execution_count": 37,
   "id": "4e32484d-62e2-46af-9893-4b67f24b3730",
   "metadata": {},
   "outputs": [
    {
     "name": "stdout",
     "output_type": "stream",
     "text": [
      "The empty_tuple is empty.\n",
      "The non_empty_tuple is not empty.\n"
     ]
    }
   ],
   "source": [
    "#Step 1: Create an empty tuple and a non-empty tuple\n",
    "empty_tuple = ()\n",
    "non_empty_tuple = (1, 2, 3)\n",
    "\n",
    "# Step 2: Check if the tuples are empty\n",
    "if not empty_tuple:\n",
    "    print(\"The empty_tuple is empty.\")\n",
    "else:\n",
    "    print(\"The empty_tuple is not empty.\")\n",
    "\n",
    "if not non_empty_tuple:\n",
    "    print(\"The non_empty_tuple is empty.\")\n",
    "else:\n",
    "    print(\"The non_empty_tuple is not empty.\")"
   ]
  },
  {
   "cell_type": "markdown",
   "id": "8e9b56c0-aba0-4903-9a0d-1ddac6740393",
   "metadata": {},
   "source": [
    "Q.15. create a nested tuple:"
   ]
  },
  {
   "cell_type": "code",
   "execution_count": 38,
   "id": "c46b3d10-f67f-4fd6-9e9d-62d1f9597f39",
   "metadata": {},
   "outputs": [
    {
     "name": "stdout",
     "output_type": "stream",
     "text": [
      "Nested tuple: ((1, 2, 3), ('a', 'b', 'c'), (True, False))\n"
     ]
    }
   ],
   "source": [
    "# Step 1: Create a nested tuple\n",
    "nested_tuple = ((1, 2, 3), ('a', 'b', 'c'), (True, False))\n",
    "\n",
    "# Step 2: Print the nested tuple\n",
    "print(\"Nested tuple:\", nested_tuple)"
   ]
  },
  {
   "cell_type": "markdown",
   "id": "c43583d4-281e-428a-876a-169db4df0ca8",
   "metadata": {},
   "source": [
    "Q.16.Access the first element of the nested tuple:"
   ]
  },
  {
   "cell_type": "code",
   "execution_count": 39,
   "id": "8ffea648-cf26-4e86-b41a-8e4f3cd17043",
   "metadata": {},
   "outputs": [
    {
     "name": "stdout",
     "output_type": "stream",
     "text": [
      "First element of the nested tuple: (1, 2, 3)\n"
     ]
    }
   ],
   "source": [
    "#Step 1: Create a nested tuple\n",
    "nested_tuple = ((1, 2, 3), ('a', 'b', 'c'), (True, False))\n",
    "\n",
    "# Step 2: Access the first element of the nested tuple\n",
    "first_element = nested_tuple[0]\n",
    "\n",
    "# Step 3: Print the first element\n",
    "print(\"First element of the nested tuple:\", first_element)"
   ]
  },
  {
   "cell_type": "markdown",
   "id": "d323b7a1-62f5-41cc-bde8-ec1f7fa87240",
   "metadata": {},
   "source": [
    "Q.17.Create a tuple with a single element:"
   ]
  },
  {
   "cell_type": "code",
   "execution_count": 40,
   "id": "ed239945-088a-4bc0-8c39-b98ceec1be63",
   "metadata": {},
   "outputs": [
    {
     "name": "stdout",
     "output_type": "stream",
     "text": [
      "Single element tuple: (42,)\n"
     ]
    }
   ],
   "source": [
    "# Step 1: Create a tuple with a single element\n",
    "single_element_tuple = (42,)  # Note the trailing comma\n",
    "\n",
    "# Step 2: Print the single element tuple\n",
    "print(\"Single element tuple:\", single_element_tuple)"
   ]
  },
  {
   "cell_type": "markdown",
   "id": "8401fd1a-0be4-4cd2-b986-3f114cbdf99f",
   "metadata": {},
   "source": [
    "Q.18.Compare two tuples:"
   ]
  },
  {
   "cell_type": "code",
   "execution_count": 41,
   "id": "99382016-4d21-47ed-89fb-c1c0a9fad23d",
   "metadata": {},
   "outputs": [
    {
     "name": "stdout",
     "output_type": "stream",
     "text": [
      "tuple1 == tuple2: False\n",
      "tuple1 != tuple2: True\n",
      "tuple1 < tuple2: True\n",
      "tuple1 <= tuple2: True\n",
      "tuple1 > tuple2: False\n",
      "tuple1 >= tuple2: False\n"
     ]
    }
   ],
   "source": [
    "# Step 1: Create two tuples\n",
    "tuple1 = (1, 2, 3)\n",
    "tuple2 = (1, 2, 4)\n",
    "\n",
    "# Step 2: Compare the two tuples using comparison operators\n",
    "print(\"tuple1 == tuple2:\", tuple1 == tuple2)  # Equality check\n",
    "print(\"tuple1 != tuple2:\", tuple1 != tuple2)  # Inequality check\n",
    "print(\"tuple1 < tuple2:\", tuple1 < tuple2)    # Less than check\n",
    "print(\"tuple1 <= tuple2:\", tuple1 <= tuple2)  # Less than or equal to check\n",
    "print(\"tuple1 > tuple2:\", tuple1 > tuple2)    # Greater than check\n",
    "print(\"tuple1 >= tuple2:\", tuple1 >= tuple2)  # Greater than or equal to check"
   ]
  },
  {
   "cell_type": "markdown",
   "id": "669b58f7-23c9-430e-8d83-a359e84bc2fd",
   "metadata": {},
   "source": [
    "Q.19.Delete a tuple:"
   ]
  },
  {
   "cell_type": "code",
   "execution_count": 42,
   "id": "21a8120a-17d7-497d-bf57-55e8bbed5049",
   "metadata": {},
   "outputs": [
    {
     "ename": "NameError",
     "evalue": "name 'my_tuple' is not defined",
     "output_type": "error",
     "traceback": [
      "\u001b[0;31m---------------------------------------------------------------------------\u001b[0m",
      "\u001b[0;31mNameError\u001b[0m                                 Traceback (most recent call last)",
      "Cell \u001b[0;32mIn[42], line 8\u001b[0m\n\u001b[1;32m      5\u001b[0m \u001b[38;5;28;01mdel\u001b[39;00m my_tuple\n\u001b[1;32m      7\u001b[0m \u001b[38;5;66;03m# Step 3: Try to access the tuple (will raise a NameError)\u001b[39;00m\n\u001b[0;32m----> 8\u001b[0m \u001b[38;5;28mprint\u001b[39m(\u001b[43mmy_tuple\u001b[49m)\n",
      "\u001b[0;31mNameError\u001b[0m: name 'my_tuple' is not defined"
     ]
    }
   ],
   "source": [
    "# Step 1: Create a tuple\n",
    "my_tuple = (1, 2, 3, 4, 5)\n",
    "\n",
    "# Step 2: Delete the tuple using the 'del' statement\n",
    "del my_tuple\n",
    "\n",
    "# Step 3: Try to access the tuple (will raise a NameError)\n",
    "print(my_tuple)"
   ]
  },
  {
   "cell_type": "markdown",
   "id": "3ae22803-1496-4612-a32f-bf336a290724",
   "metadata": {},
   "source": [
    "Q.20:Slice a tuple:"
   ]
  },
  {
   "cell_type": "code",
   "execution_count": 43,
   "id": "03dce32c-7ec1-43d1-a11f-5ba95432f4da",
   "metadata": {},
   "outputs": [
    {
     "name": "stdout",
     "output_type": "stream",
     "text": [
      "Sliced tuple: (3, 4, 5, 6)\n"
     ]
    }
   ],
   "source": [
    "#Step 1: Create a tuple\n",
    "my_tuple = (1, 2, 3, 4, 5, 6, 7, 8, 9, 10)\n",
    "\n",
    "# Step 2: Slice the tuple to get a portion of it\n",
    "sliced_tuple = my_tuple[2:6]  # Elements from index 2 to 5 (end index is exclusive)\n",
    "\n",
    "# Step 3: Print the sliced tuple\n",
    "print(\"Sliced tuple:\", sliced_tuple) "
   ]
  },
  {
   "cell_type": "markdown",
   "id": "51fa6db4-6d0b-48f9-85e1-31923916c2ac",
   "metadata": {},
   "source": [
    "Q.21:Find the max value in a tuple:"
   ]
  },
  {
   "cell_type": "code",
   "execution_count": 44,
   "id": "b769504a-15aa-49a4-b0e9-b2ec3cfc525f",
   "metadata": {},
   "outputs": [
    {
     "name": "stdout",
     "output_type": "stream",
     "text": [
      "Maximum value: 45\n"
     ]
    }
   ],
   "source": [
    "# Step 1: Create a tuple\n",
    "my_tuple = (10, 20, 5, 45, 30)\n",
    "\n",
    "# Step 2: Find the maximum value in the tuple using the 'max()' function\n",
    "max_value = max(my_tuple)\n",
    "\n",
    "# Step 3: Print the maximum value\n",
    "print(\"Maximum value:\", max_value)"
   ]
  },
  {
   "cell_type": "markdown",
   "id": "9e54f3dc-64c4-46f2-8207-a7ed8c03c9b2",
   "metadata": {},
   "source": [
    "Q.22.Find the min value of the tuple:"
   ]
  },
  {
   "cell_type": "code",
   "execution_count": 45,
   "id": "fb4b1f0d-511c-4318-935e-798f72a97b32",
   "metadata": {},
   "outputs": [
    {
     "name": "stdout",
     "output_type": "stream",
     "text": [
      "Minimum value: 5\n"
     ]
    }
   ],
   "source": [
    "# Step 1: Create a tuple\n",
    "my_tuple = (10, 20, 5, 45, 30)\n",
    "\n",
    "# Step 2: Find the minimum value in the tuple using the 'min()' function\n",
    "min_value = min(my_tuple)\n",
    "\n",
    "# Step 3: Print the minimum value\n",
    "print(\"Minimum value:\", min_value)"
   ]
  },
  {
   "cell_type": "markdown",
   "id": "e3963cc2-91ca-4da9-9116-98fe8c79bac3",
   "metadata": {},
   "source": [
    "Q.23.Convert a string to tuple of characters:"
   ]
  },
  {
   "cell_type": "code",
   "execution_count": 46,
   "id": "4c8cb777-43c7-4d0f-a7d5-dbd47cacbac6",
   "metadata": {},
   "outputs": [
    {
     "name": "stdout",
     "output_type": "stream",
     "text": [
      "Tuple of characters: ('H', 'e', 'l', 'l', 'o', ',', ' ', 'W', 'o', 'r', 'l', 'd', '!')\n"
     ]
    }
   ],
   "source": [
    "# Step 1: Create a string\n",
    "my_string = \"Hello, World!\"\n",
    "\n",
    "# Step 2: Convert the string to a tuple of characters\n",
    "tuple_of_characters = tuple(my_string)\n",
    "\n",
    "# Step 3: Print the tuple of characters\n",
    "print(\"Tuple of characters:\", tuple_of_characters)"
   ]
  },
  {
   "cell_type": "markdown",
   "id": "2f42e84e-47ce-461c-aa33-05b655187e97",
   "metadata": {},
   "source": [
    "Q.24.Convert a tuple of characters into a string:"
   ]
  },
  {
   "cell_type": "code",
   "execution_count": 47,
   "id": "9fa89777-8aca-48ad-91cc-4803d413df71",
   "metadata": {},
   "outputs": [
    {
     "name": "stdout",
     "output_type": "stream",
     "text": [
      "String from tuple: Hello World!\n"
     ]
    }
   ],
   "source": [
    "#Step 1: Create a tuple of characters\n",
    "tuple_of_characters = ('H', 'e', 'l', 'l', 'o', ' ', 'W', 'o', 'r', 'l', 'd', '!')\n",
    "\n",
    "# Step 2: Convert the tuple of characters to a string using the 'join()' method\n",
    "string_from_tuple = ''.join(tuple_of_characters)\n",
    "\n",
    "# Step 3: Print the resulting string\n",
    "print(\"String from tuple:\", string_from_tuple)"
   ]
  },
  {
   "cell_type": "markdown",
   "id": "1a2a0b92-51d7-4236-a7c0-72d965b648bd",
   "metadata": {},
   "source": [
    "Q.25.Create a tuple from multiple datatypes:"
   ]
  },
  {
   "cell_type": "code",
   "execution_count": 48,
   "id": "b9b8aa7e-ec2f-4d54-8bb4-c36db529719b",
   "metadata": {},
   "outputs": [
    {
     "name": "stdout",
     "output_type": "stream",
     "text": [
      "(1, 'hello', 3.14, True)\n"
     ]
    }
   ],
   "source": [
    "# Creating a tuple with elements of different data types\n",
    "mixed_tuple = (1, \"hello\", 3.14, True)\n",
    "\n",
    "# Printing the tuple\n",
    "print(mixed_tuple)"
   ]
  },
  {
   "cell_type": "markdown",
   "id": "196014c8-b5bf-442b-9b87-afd7a7ec0a39",
   "metadata": {},
   "source": [
    "Q.26:Check if two tuples are identical:"
   ]
  },
  {
   "cell_type": "code",
   "execution_count": 49,
   "id": "9cdacac5-356f-4baa-89eb-ab6899df38ab",
   "metadata": {},
   "outputs": [
    {
     "name": "stdout",
     "output_type": "stream",
     "text": [
      "tuple1 and tuple2 are identical: True\n",
      "tuple1 and tuple3 are identical: False\n"
     ]
    }
   ],
   "source": [
    "#Step 1: Create two tuples\n",
    "tuple1 = (1, 2, 3)\n",
    "tuple2 = (1, 2, 3)\n",
    "tuple3 = (4, 5, 6)\n",
    "\n",
    "# Step 2: Compare the tuples for identity using the equality operator\n",
    "are_identical1 = tuple1 == tuple2\n",
    "are_identical2 = tuple1 == tuple3\n",
    "\n",
    "# Step 3: Print the results\n",
    "print(\"tuple1 and tuple2 are identical:\", are_identical1)\n",
    "print(\"tuple1 and tuple3 are identical:\", are_identical2)"
   ]
  },
  {
   "cell_type": "markdown",
   "id": "523485e5-b308-4c46-953a-df5fd2471cf6",
   "metadata": {},
   "source": [
    "Q.27.Sort a tuple:"
   ]
  },
  {
   "cell_type": "code",
   "execution_count": 50,
   "id": "14727bdb-fd9a-4cfb-823c-68d233ebc4ca",
   "metadata": {},
   "outputs": [
    {
     "name": "stdout",
     "output_type": "stream",
     "text": [
      "Sorted tuple: (1, 2, 3, 5, 8)\n"
     ]
    }
   ],
   "source": [
    "# Step 1: Create a tuple\n",
    "my_tuple = (5, 2, 8, 1, 3)\n",
    "\n",
    "# Step 2: Convert the tuple to a list, sort the list, and convert it back to a tuple\n",
    "sorted_tuple = tuple(sorted(my_tuple))\n",
    "\n",
    "# Step 3: Print the sorted tuple\n",
    "print(\"Sorted tuple:\", sorted_tuple)\n"
   ]
  },
  {
   "cell_type": "markdown",
   "id": "70bc96b7-d019-4a1b-9c0a-e53de3ab295d",
   "metadata": {},
   "source": [
    "Q.28.convert a tuple of integers to a tuple of strings:"
   ]
  },
  {
   "cell_type": "code",
   "execution_count": 51,
   "id": "9d55b10c-2a91-43a9-a41a-b906e1a4c232",
   "metadata": {},
   "outputs": [
    {
     "name": "stdout",
     "output_type": "stream",
     "text": [
      "original tuple: (23, 52, 63, 42, 96)\n",
      "converted tuple: ('23', '52', '63', '42', '96')\n"
     ]
    }
   ],
   "source": [
    "int_tuple = (23,52,63,42,96)\n",
    "string_tuple = tuple(str(i) for i in int_tuple)\n",
    "print(\"original tuple:\",int_tuple)\n",
    "print(\"converted tuple:\",string_tuple)"
   ]
  },
  {
   "cell_type": "markdown",
   "id": "8ebc8a02-2610-4117-84e9-48eb0fc3cd21",
   "metadata": {},
   "source": [
    "Q.29.convert a tuple of strings to a tuple of integers:"
   ]
  },
  {
   "cell_type": "code",
   "execution_count": 52,
   "id": "70f73ef6-e3a0-486c-840d-c6d1ba35041e",
   "metadata": {},
   "outputs": [
    {
     "name": "stdout",
     "output_type": "stream",
     "text": [
      "Tuple of integers: (10, 20, 30, 40, 50)\n"
     ]
    }
   ],
   "source": [
    "# Step 1: Create a tuple of strings\n",
    "tuple_of_strings = ('10', '20', '30', '40', '50')\n",
    "\n",
    "# Step 2: Convert the tuple of strings to a tuple of integers using a list comprehension\n",
    "tuple_of_integers = tuple(int(item) for item in tuple_of_strings)\n",
    "\n",
    "# Step 3: Print the tuple of integers\n",
    "print(\"Tuple of integers:\", tuple_of_integers)"
   ]
  },
  {
   "cell_type": "markdown",
   "id": "b9b0a904-00fc-44d9-b14f-b29e465f3b83",
   "metadata": {},
   "source": [
    "Q.30.Merge two tuples:"
   ]
  },
  {
   "cell_type": "code",
   "execution_count": 53,
   "id": "0550d4df-322f-4da4-8f6d-f8f992084007",
   "metadata": {},
   "outputs": [
    {
     "name": "stdout",
     "output_type": "stream",
     "text": [
      "Merged tuple: (1, 2, 3, 4, 5, 6)\n"
     ]
    }
   ],
   "source": [
    "# Step 1: Create two tuples\n",
    "tuple1 = (1, 2, 3)\n",
    "tuple2 = (4, 5, 6)\n",
    "\n",
    "# Step 2: Merge the two tuples using the '+' operator\n",
    "merged_tuple = tuple1 + tuple2\n",
    "\n",
    "# Step 3: Print the merged tuple\n",
    "print(\"Merged tuple:\", merged_tuple)"
   ]
  },
  {
   "cell_type": "markdown",
   "id": "cece0ee5-96c3-4d0e-acff-9d2caaa9a155",
   "metadata": {},
   "source": [
    "Q.31.Flatten a nested tuple:"
   ]
  },
  {
   "cell_type": "code",
   "execution_count": 54,
   "id": "afc3e436-7ba7-4fa9-9f09-d4b69d908d10",
   "metadata": {},
   "outputs": [
    {
     "name": "stdout",
     "output_type": "stream",
     "text": [
      "Flattened tuple: (1, 2, 3, 4, 5, 6, 7, 8)\n"
     ]
    }
   ],
   "source": [
    "# Recursive function to flatten a nested tuple\n",
    "def flatten_tuple(nested_tuple):\n",
    "    flattened = []\n",
    "    for item in nested_tuple:\n",
    "        if isinstance(item, tuple):\n",
    "            flattened.extend(flatten_tuple(item))\n",
    "        else:\n",
    "            flattened.append(item)\n",
    "    return flattened\n",
    "\n",
    "# Step 1: Create a nested tuple\n",
    "nested_tuple = ((1, 2), (3, 4, 5), (6, (7, 8)))\n",
    "\n",
    "# Step 2: Flatten the nested tuple\n",
    "flattened_tuple = tuple(flatten_tuple(nested_tuple))\n",
    "\n",
    "# Step 3: Print the flattened tuple\n",
    "print(\"Flattened tuple:\", flattened_tuple)"
   ]
  },
  {
   "cell_type": "markdown",
   "id": "925686a9-9bea-4472-9963-5f6818b34a32",
   "metadata": {},
   "source": [
    "Q.32. Create a tuple of first 5 prime numbers:"
   ]
  },
  {
   "cell_type": "code",
   "execution_count": 55,
   "id": "b5e53fab-368e-4193-9355-b9ee04baa5c3",
   "metadata": {},
   "outputs": [
    {
     "name": "stdout",
     "output_type": "stream",
     "text": [
      "Tuple of the first 5 prime numbers: (2, 3, 5, 7, 11)\n"
     ]
    }
   ],
   "source": [
    "# Function to check if a number is prime\n",
    "def is_prime(num):\n",
    "    if num <= 1:\n",
    "        return False\n",
    "    for i in range(2, int(num ** 0.5) + 1):\n",
    "        if num % i == 0:\n",
    "            return False\n",
    "    return True\n",
    "\n",
    "# Generate the first 5 prime numbers\n",
    "prime_numbers_list = [num for num in range(2, 100) if is_prime(num)][:5]\n",
    "\n",
    "# Convert the list to a tuple\n",
    "prime_numbers_tuple = tuple(prime_numbers_list)\n",
    "\n",
    "# Print the tuple of prime numbers\n",
    "print(\"Tuple of the first 5 prime numbers:\", prime_numbers_tuple)"
   ]
  },
  {
   "cell_type": "markdown",
   "id": "36de07d7-5584-43bb-bac9-4097fc857ce3",
   "metadata": {},
   "source": [
    "Q.33.Check if a tuple is palindrome:"
   ]
  },
  {
   "cell_type": "code",
   "execution_count": 56,
   "id": "c43452c4-14a1-4c76-b190-6e501e1644da",
   "metadata": {},
   "outputs": [
    {
     "name": "stdout",
     "output_type": "stream",
     "text": [
      "palindrome_tuple is a palindrome: True\n",
      "non_palindrome_tuple is a palindrome: False\n"
     ]
    }
   ],
   "source": [
    "# Function to check if a tuple is a palindrome\n",
    "def is_palindrome(tup):\n",
    "    return tup == tup[::-1]\n",
    "\n",
    "# Create tuples for testing\n",
    "palindrome_tuple = (1, 2, 3, 2, 1)\n",
    "non_palindrome_tuple = (1, 2, 3, 4, 5)\n",
    "\n",
    "# Check if the tuples are palindromes\n",
    "is_palindrome1 = is_palindrome(palindrome_tuple)\n",
    "is_palindrome2 = is_palindrome(non_palindrome_tuple)\n",
    "\n",
    "# Print the results\n",
    "print(\"palindrome_tuple is a palindrome:\", is_palindrome1)\n",
    "print(\"non_palindrome_tuple is a palindrome:\", is_palindrome2)"
   ]
  },
  {
   "cell_type": "markdown",
   "id": "f6d537f7-4cf4-4117-a0f8-2064387a5352",
   "metadata": {},
   "source": [
    "Q.34.create a tuple of squares of numbers from 1 to 5:"
   ]
  },
  {
   "cell_type": "code",
   "execution_count": 57,
   "id": "4218b8b4-5f2b-45ae-91da-336367d0017b",
   "metadata": {},
   "outputs": [
    {
     "name": "stdout",
     "output_type": "stream",
     "text": [
      "Tuple of squares: (1, 4, 9, 16, 25)\n"
     ]
    }
   ],
   "source": [
    "#Create a tuple of squares using a list comprehension\n",
    "squares_tuple = tuple(x ** 2 for x in range(1, 6))\n",
    "\n",
    "# Print the tuple of squares\n",
    "print(\"Tuple of squares:\", squares_tuple)"
   ]
  },
  {
   "cell_type": "markdown",
   "id": "25de5386-1c1b-494f-a810-bb012a7cf832",
   "metadata": {},
   "source": [
    "Q.35:Filter out all even numbers from a tuple:"
   ]
  },
  {
   "cell_type": "code",
   "execution_count": 58,
   "id": "87d995dc-eb90-459e-a4cb-b3657615ac11",
   "metadata": {},
   "outputs": [
    {
     "name": "stdout",
     "output_type": "stream",
     "text": [
      "Filtered tuple: (1, 3, 5, 7, 9)\n"
     ]
    }
   ],
   "source": [
    "# Create a tuple\n",
    "original_tuple = (1, 2, 3, 4, 5, 6, 7, 8, 9, 10)\n",
    "\n",
    "# Filter out even numbers using a list comprehension\n",
    "filtered_tuple = tuple(num for num in original_tuple if num % 2 != 0)\n",
    "\n",
    "# Print the filtered tuple\n",
    "print(\"Filtered tuple:\", filtered_tuple)"
   ]
  },
  {
   "cell_type": "markdown",
   "id": "6f0f7c2d-e375-4c1c-9f27-53eebf77c891",
   "metadata": {},
   "source": [
    "Q.36.multiply all elements in a tuple by 2"
   ]
  },
  {
   "cell_type": "code",
   "execution_count": 59,
   "id": "3e4a1a32-eeda-46fb-86f3-0e2e7be53000",
   "metadata": {},
   "outputs": [
    {
     "name": "stdout",
     "output_type": "stream",
     "text": [
      "Doubled tuple: (2, 4, 6, 8, 10)\n"
     ]
    }
   ],
   "source": [
    "#Create a tuple\n",
    "original_tuple = (1, 2, 3, 4, 5)\n",
    "\n",
    "# Multiply all elements by 2 using a list comprehension and convert to a tuple\n",
    "doubled_tuple = tuple(num * 2 for num in original_tuple)\n",
    "\n",
    "# Print the doubled tuple\n",
    "print(\"Doubled tuple:\", doubled_tuple)"
   ]
  },
  {
   "cell_type": "markdown",
   "id": "70e56105-86ec-44c8-92e2-c1867771f307",
   "metadata": {},
   "source": [
    "Q.37:Create a tuple of random numbers:"
   ]
  },
  {
   "cell_type": "code",
   "execution_count": 60,
   "id": "7d0bc8cb-56cd-43ac-b560-c53b6d7ba3d6",
   "metadata": {},
   "outputs": [
    {
     "name": "stdout",
     "output_type": "stream",
     "text": [
      "Random tuple: (86, 30, 1, 56, 74, 51, 39, 83, 100, 10)\n"
     ]
    }
   ],
   "source": [
    "import random\n",
    "\n",
    "# Create a tuple of random numbers using a list comprehension\n",
    "random_tuple = tuple(random.randint(1, 100) for _ in range(10))  # Generating 10 random numbers between 1 and 100\n",
    "\n",
    "# Print the tuple of random numbers\n",
    "print(\"Random tuple:\", random_tuple)"
   ]
  },
  {
   "cell_type": "markdown",
   "id": "a8d5b118-03c5-4233-90d7-a59219f9af35",
   "metadata": {},
   "source": [
    "Q.38:Check if a tuple is sorted:"
   ]
  },
  {
   "cell_type": "code",
   "execution_count": 61,
   "id": "cf4ef46d-ca2a-47c0-82b2-5355a42a2969",
   "metadata": {},
   "outputs": [
    {
     "name": "stdout",
     "output_type": "stream",
     "text": [
      "sorted_tuple is sorted: True\n",
      "unsorted_tuple is sorted: False\n"
     ]
    }
   ],
   "source": [
    "#Function to check if a tuple is sorted\n",
    "def is_sorted(tup):\n",
    "    for i in range(len(tup) - 1):\n",
    "        if tup[i] > tup[i + 1]:\n",
    "            return False\n",
    "    return True\n",
    "\n",
    "# Create tuples for testing\n",
    "sorted_tuple = (1, 2, 3, 4, 5)\n",
    "unsorted_tuple = (5, 3, 1, 4, 2)\n",
    "\n",
    "# Check if the tuples are sorted\n",
    "is_sorted1 = is_sorted(sorted_tuple)\n",
    "is_sorted2 = is_sorted(unsorted_tuple)\n",
    "\n",
    "# Print the results\n",
    "print(\"sorted_tuple is sorted:\", is_sorted1)\n",
    "print(\"unsorted_tuple is sorted:\", is_sorted2)"
   ]
  },
  {
   "cell_type": "markdown",
   "id": "3b0290cf-1409-4e89-a013-75e762a5cec6",
   "metadata": {},
   "source": [
    "Q.39:Rotate a tuple to the left by n positions:"
   ]
  },
  {
   "cell_type": "code",
   "execution_count": 62,
   "id": "d9eead17-7606-486f-aa91-548679bb8b39",
   "metadata": {},
   "outputs": [
    {
     "name": "stdout",
     "output_type": "stream",
     "text": [
      "(3, 4, 5, 1, 2)\n"
     ]
    }
   ],
   "source": [
    "def rotate_tuple_left(tup, n):\n",
    "    n = n % len(tup)  # Ensure n is within the range of tuple length\n",
    "    rotated_tuple = tup[n:] + tup[:n]  # Rotate the tuple\n",
    "    return rotated_tuple\n",
    "\n",
    "# Example tuple\n",
    "my_tuple = (1, 2, 3, 4, 5)\n",
    "n_positions = 2\n",
    "result = rotate_tuple_left(my_tuple, n_positions)\n",
    "print(result)"
   ]
  },
  {
   "cell_type": "markdown",
   "id": "fc417db4-dba4-4b14-9d93-8215bea55d3b",
   "metadata": {},
   "source": [
    "Q.40.Rotate a tuple to the right by n positions:"
   ]
  },
  {
   "cell_type": "code",
   "execution_count": 63,
   "id": "02946487-af18-46bb-9495-a815d19b34c1",
   "metadata": {},
   "outputs": [
    {
     "name": "stdout",
     "output_type": "stream",
     "text": [
      "(4, 5, 1, 2, 3)\n"
     ]
    }
   ],
   "source": [
    "def rotate_tuple_right(tup, n):\n",
    "    n = n % len(tup)  # Ensure n is within the range of tuple length\n",
    "    rotated_tuple = tup[-n:] + tup[:-n]  # Rotate the tuple\n",
    "    return rotated_tuple\n",
    "\n",
    "# Example tuple\n",
    "my_tuple = (1, 2, 3, 4, 5)\n",
    "n_positions = 2\n",
    "result = rotate_tuple_right(my_tuple, n_positions)\n",
    "print(result)"
   ]
  },
  {
   "cell_type": "markdown",
   "id": "836c2a1a-7dec-4409-9e81-69d8131bbb41",
   "metadata": {},
   "source": [
    "Q.41.Create a tuple of first five fabonacci numbers:"
   ]
  },
  {
   "cell_type": "code",
   "execution_count": 64,
   "id": "df4af740-ed99-47fc-a81f-01b9335ea04f",
   "metadata": {},
   "outputs": [
    {
     "name": "stdout",
     "output_type": "stream",
     "text": [
      "(0, 1, 1, 2, 3)\n"
     ]
    }
   ],
   "source": [
    "# Define a function to generate the first n Fibonacci numbers\n",
    "def generate_fibonacci(n):\n",
    "    fibonacci = [0, 1]  # Initialize the list with the first two Fibonacci numbers\n",
    "    while len(fibonacci) < n:  # Continue generating Fibonacci numbers until the list has n elements\n",
    "        next_number = fibonacci[-1] + fibonacci[-2]  # Calculate the next Fibonacci number\n",
    "        fibonacci.append(next_number)  # Add the next Fibonacci number to the list\n",
    "    return tuple(fibonacci)  # Convert the list to a tuple and return it\n",
    "\n",
    "# Call the generate_fibonacci function to create a tuple of the first 5 Fibonacci numbers\n",
    "fibonacci_tuple = generate_fibonacci(5)\n",
    "\n",
    "# Print the resulting tuple\n",
    "print(fibonacci_tuple)"
   ]
  },
  {
   "cell_type": "markdown",
   "id": "95236319-6db6-4449-8a15-aff05caa1245",
   "metadata": {},
   "source": [
    "Q.42. Create a tuple from user input:"
   ]
  },
  {
   "cell_type": "code",
   "execution_count": 65,
   "id": "4dff3fce-25b2-4df2-8de0-cbd36c93e788",
   "metadata": {},
   "outputs": [
    {
     "name": "stdin",
     "output_type": "stream",
     "text": [
      "Enter elements separated by commas:  v,a,n,s,h,i\n"
     ]
    },
    {
     "name": "stdout",
     "output_type": "stream",
     "text": [
      "User input tuple: ('v', 'a', 'n', 's', 'h', 'i')\n"
     ]
    }
   ],
   "source": [
    "# Taking user input for creating a tuple\n",
    "input_str = input(\"Enter elements separated by commas: \")\n",
    "\n",
    "# Splitting the input string into a list of strings\n",
    "input_list = input_str.split(',')\n",
    "\n",
    "# Converting the list of strings to a tuple\n",
    "user_tuple = tuple(input_list)\n",
    "\n",
    "# Printing the created tuple\n",
    "print(\"User input tuple:\", user_tuple)"
   ]
  },
  {
   "cell_type": "markdown",
   "id": "17f6938d-5766-4f65-81fb-1fa0f2c0fa39",
   "metadata": {},
   "source": [
    "Q.43.Swap two elements in a tuple:"
   ]
  },
  {
   "cell_type": "code",
   "execution_count": 66,
   "id": "49a57bd4-14e8-4823-9e37-cb439d6e639c",
   "metadata": {},
   "outputs": [
    {
     "name": "stdout",
     "output_type": "stream",
     "text": [
      "Swapped tuple: (1, 4, 3, 2, 5)\n"
     ]
    }
   ],
   "source": [
    "# Create a tuple\n",
    "my_tuple = (1, 2, 3, 4, 5)\n",
    "\n",
    "# Swap elements at indices 1 and 3\n",
    "index1 = 1\n",
    "index2 = 3\n",
    "swapped_tuple = tuple(\n",
    "    my_tuple[i] if i not in (index1, index2) else\n",
    "    my_tuple[index2] if i == index1 else\n",
    "    my_tuple[index1]\n",
    "    for i in range(len(my_tuple))\n",
    ")\n",
    "\n",
    "# Print the swapped tuple\n",
    "print(\"Swapped tuple:\", swapped_tuple)"
   ]
  },
  {
   "cell_type": "markdown",
   "id": "b5bbcdf1-1a74-4a1e-b7a0-e90cc96e956f",
   "metadata": {},
   "source": [
    "Q.44.Reverse the elements of a tuple:"
   ]
  },
  {
   "cell_type": "code",
   "execution_count": 67,
   "id": "38bcf48c-899a-4ace-8e9e-d9509a204fd7",
   "metadata": {},
   "outputs": [
    {
     "name": "stdout",
     "output_type": "stream",
     "text": [
      "Reversed tuple: (5, 4, 3, 2, 1)\n"
     ]
    }
   ],
   "source": [
    "# Create a tuple\n",
    "my_tuple = (1, 2, 3, 4, 5)\n",
    "\n",
    "# Reverse the elements using slicing\n",
    "reversed_tuple = my_tuple[::-1]\n",
    "\n",
    "# Print the reversed tuple\n",
    "print(\"Reversed tuple:\", reversed_tuple)"
   ]
  },
  {
   "cell_type": "markdown",
   "id": "982ad6c6-09ba-4f13-ae90-2e0dd94b088e",
   "metadata": {},
   "source": [
    "Q.45.Create a tuple of first n powers of 2:"
   ]
  },
  {
   "cell_type": "code",
   "execution_count": 68,
   "id": "72028e97-d9a9-4e53-9749-2c3f052cb25b",
   "metadata": {},
   "outputs": [
    {
     "name": "stdout",
     "output_type": "stream",
     "text": [
      "Tuple of the first 5 powers of 2: (1, 2, 4, 8, 16)\n"
     ]
    }
   ],
   "source": [
    "# Define the value of n\n",
    "n = 5\n",
    "\n",
    "# Create a tuple of the first n powers of 2 using a list comprehension\n",
    "powers_of_2_tuple = tuple(2 ** i for i in range(n))\n",
    "\n",
    "# Print the tuple of powers of 2\n",
    "print(\"Tuple of the first\", n, \"powers of 2:\", powers_of_2_tuple)"
   ]
  },
  {
   "cell_type": "markdown",
   "id": "cf42fe1d-cafe-4368-aa4d-1d3c48c1de25",
   "metadata": {},
   "source": [
    "Q.46.Find the longest string in the tuple of strings:"
   ]
  },
  {
   "cell_type": "code",
   "execution_count": 69,
   "id": "faa9d7dc-aa9a-4a56-b7cf-60dae7ffaf7f",
   "metadata": {},
   "outputs": [
    {
     "name": "stdout",
     "output_type": "stream",
     "text": [
      "Longest string: watermelon\n"
     ]
    }
   ],
   "source": [
    "# Create a tuple of strings\n",
    "string_tuple = (\"apple\", \"banana\", \"grape\", \"kiwi\", \"watermelon\")\n",
    "\n",
    "# Find the longest string in the tuple\n",
    "longest_string = max(string_tuple, key=len)\n",
    "\n",
    "# Print the longest string\n",
    "print(\"Longest string:\", longest_string)"
   ]
  },
  {
   "cell_type": "markdown",
   "id": "12dbda02-3c12-4a7d-85ec-29a4ca93260f",
   "metadata": {},
   "source": [
    "Q.47.Find the shortest string in a tuple of strings:"
   ]
  },
  {
   "cell_type": "code",
   "execution_count": 72,
   "id": "207c07b5-f428-4c07-8f00-082c47cc4e3e",
   "metadata": {},
   "outputs": [
    {
     "name": "stdout",
     "output_type": "stream",
     "text": [
      "shortest string: kiwi\n"
     ]
    }
   ],
   "source": [
    "string_tuple = (\"apple\", \"banana\", \"grape\", \"kiwi\", \"watermelon\")\n",
    "shortest_string = min(string_tuple,key=len)\n",
    "print(\"shortest string:\",shortest_string)"
   ]
  },
  {
   "cell_type": "markdown",
   "id": "5d444f11-42d1-4464-82cf-f12dbb3678ac",
   "metadata": {},
   "source": [
    "Q.48.create a tuple of first n triangular numbers:"
   ]
  },
  {
   "cell_type": "code",
   "execution_count": 73,
   "id": "c71f7e44-c9c1-44fe-a9bf-08bf1d19df36",
   "metadata": {},
   "outputs": [
    {
     "name": "stdout",
     "output_type": "stream",
     "text": [
      "Tuple of the first 5 triangular numbers: (1, 3, 6, 10, 15)\n"
     ]
    }
   ],
   "source": [
    "# Define the value of n\n",
    "n = 5\n",
    "\n",
    "# Create a tuple of the first n triangular numbers using a list comprehension\n",
    "triangular_numbers_tuple = tuple((i * (i + 1)) // 2 for i in range(1, n + 1))\n",
    "\n",
    "# Print the tuple of triangular numbers\n",
    "print(\"Tuple of the first\", n, \"triangular numbers:\", triangular_numbers_tuple)"
   ]
  },
  {
   "cell_type": "markdown",
   "id": "671745c0-9db7-49f8-860c-0539818e9827",
   "metadata": {},
   "source": [
    "Q.49.Check if a tuple contains another tuple as subsequence:"
   ]
  },
  {
   "cell_type": "code",
   "execution_count": 74,
   "id": "a432811f-b6c3-4900-9260-c5264d9b9082",
   "metadata": {},
   "outputs": [
    {
     "name": "stdout",
     "output_type": "stream",
     "text": [
      "Main tuple contains subsequence tuple: True\n"
     ]
    }
   ],
   "source": [
    "# Function to check if a tuple contains another tuple as a subsequence\n",
    "def contains_subsequence(main_tuple, sub_tuple):\n",
    "    sub_length = len(sub_tuple)\n",
    "    for i in range(len(main_tuple) - sub_length + 1):\n",
    "        if main_tuple[i:i+sub_length] == sub_tuple:\n",
    "            return True\n",
    "    return False\n",
    "\n",
    "# Main tuple\n",
    "main_tuple = (1, 2, 3, 4, 5, 6, 7, 8, 9)\n",
    "\n",
    "# Subsequence tuple\n",
    "sub_tuple = (3, 4, 5)\n",
    "\n",
    "# Check if the main tuple contains the subsequence tuple\n",
    "contains_subseq = contains_subsequence(main_tuple, sub_tuple)\n",
    "\n",
    "# Print the result\n",
    "print(\"Main tuple contains subsequence tuple:\", contains_subseq)"
   ]
  },
  {
   "cell_type": "markdown",
   "id": "8a6fcf64-51d0-4885-a7a7-6861bee56157",
   "metadata": {},
   "source": [
    "Q.50.create a tuple of alternating 1s and 0s:"
   ]
  },
  {
   "cell_type": "code",
   "execution_count": 75,
   "id": "2da268d9-4a1d-49a0-903a-5ce156f6f7d7",
   "metadata": {},
   "outputs": [
    {
     "name": "stdout",
     "output_type": "stream",
     "text": [
      "Tuple of alternating 1s and 0s: (0, 1, 0, 1, 0, 1, 0, 1, 0, 1)\n"
     ]
    }
   ],
   "source": [
    "# Define the value of n\n",
    "n = 10\n",
    "\n",
    "# Create a tuple of alternating 1s and 0s using a list comprehension\n",
    "alternating_tuple = tuple(i % 2 for i in range(n))\n",
    "\n",
    "# Print the tuple of alternating 1s and 0s\n",
    "print(\"Tuple of alternating 1s and 0s:\", alternating_tuple)"
   ]
  },
  {
   "cell_type": "code",
   "execution_count": 77,
   "id": "56ba7cac-a283-4169-91dc-c1e18dfdb674",
   "metadata": {},
   "outputs": [
    {
     "name": "stdout",
     "output_type": "stream",
     "text": [
      "{0, 1, 2, 3, 4}\n"
     ]
    }
   ],
   "source": [
    "s = set(i for i in range(5))\n",
    "print(s)"
   ]
  },
  {
   "cell_type": "code",
   "execution_count": null,
   "id": "5a2441d5-6890-4186-a203-fd114fd34493",
   "metadata": {},
   "outputs": [],
   "source": []
  },
  {
   "cell_type": "markdown",
   "id": "f74c0cb3-5d53-4d3a-92a6-d3518b5bcbe4",
   "metadata": {},
   "source": [
    "##SET BASED PROBLEMS:"
   ]
  },
  {
   "cell_type": "markdown",
   "id": "790cdcfc-0847-4bdf-bbc0-e3b6529bef41",
   "metadata": {},
   "source": [
    "Q.1.create a set with integers 1 to 5:"
   ]
  },
  {
   "cell_type": "code",
   "execution_count": 78,
   "id": "0a0011b8-b576-4848-b4f8-f69fb94b2533",
   "metadata": {},
   "outputs": [
    {
     "name": "stdout",
     "output_type": "stream",
     "text": [
      "The required set is: {1, 2, 3, 4, 5}\n"
     ]
    }
   ],
   "source": [
    "#create a set:\n",
    "my_set = set(i for i in range(1,6))\n",
    "#print the set:\n",
    "print(\"The required set is:\",my_set)"
   ]
  },
  {
   "cell_type": "markdown",
   "id": "4f72a427-905e-4ebd-9823-46d8ca0e93da",
   "metadata": {},
   "source": [
    "Q.2.Add an element to the set:"
   ]
  },
  {
   "cell_type": "code",
   "execution_count": 86,
   "id": "1b3ba7d3-8216-466b-9cd5-b14bf1625dd9",
   "metadata": {},
   "outputs": [
    {
     "name": "stdout",
     "output_type": "stream",
     "text": [
      "original set: {1, 2, 3, 4}\n",
      "Modified set: {1, 2, 3, 4, 6}\n"
     ]
    }
   ],
   "source": [
    "#example set:\n",
    "original_set = {1,2,3,4}\n",
    "#print the original:\n",
    "print(\"original set:\",original_set)\n",
    "#Add an element using add function:\n",
    "\n",
    "modified = original_set.add(6)\n",
    "#print the modified:\n",
    "print(\"Modified set:\",original_set)\n"
   ]
  },
  {
   "cell_type": "code",
   "execution_count": null,
   "id": "3729ff53-f114-4609-930d-cfb302bba233",
   "metadata": {},
   "outputs": [],
   "source": [
    "Q.3.Remove an element from the set:"
   ]
  },
  {
   "cell_type": "code",
   "execution_count": 1,
   "id": "fe6ca904-3ed8-4256-90d2-699f2e4a1c93",
   "metadata": {},
   "outputs": [
    {
     "name": "stdout",
     "output_type": "stream",
     "text": [
      "original set: {1, 2, 3, 4, 5}\n",
      "Modified set: {1, 2, 3, 5}\n"
     ]
    }
   ],
   "source": [
    "#Example set:\n",
    "my_set = {1,2,3,4,5}\n",
    "print(\"original set:\",my_set)\n",
    "modified = my_set.remove(4)\n",
    "print(\"Modified set:\",my_set)"
   ]
  },
  {
   "cell_type": "markdown",
   "id": "c865b7cf-d3f8-417e-96bd-e6451c678078",
   "metadata": {},
   "source": [
    "Q.4.Check if an element exists in a set:"
   ]
  },
  {
   "cell_type": "code",
   "execution_count": 2,
   "id": "f3088fb9-28ee-4f4b-bb89-187a24ba1ac9",
   "metadata": {},
   "outputs": [
    {
     "name": "stdin",
     "output_type": "stream",
     "text": [
      "Enter the element to check:  7\n"
     ]
    },
    {
     "name": "stdout",
     "output_type": "stream",
     "text": [
      "7 exists in the set.\n"
     ]
    }
   ],
   "source": [
    "# Step 1: Create a set with some elements\n",
    "my_set = {1, 3, 5, 7, 9}\n",
    "\n",
    "# Step 2: Ask the user for the element they want to check\n",
    "element_to_check = int(input(\"Enter the element to check: \"))\n",
    "\n",
    "# Step 3: Use the \"in\" keyword to check if the element exists in the set\n",
    "if element_to_check in my_set:\n",
    "    # Step 4: If the element exists in the set, print a message\n",
    "    print(f\"{element_to_check} exists in the set.\")\n",
    "else:\n",
    "    # Step 5: If the element does not exist in the set, print a message\n",
    "    print(f\"{element_to_check} does not exist in the set.\")"
   ]
  },
  {
   "cell_type": "markdown",
   "id": "137c9691-0cdc-4125-8163-de0a25c2e973",
   "metadata": {},
   "source": [
    "Q.5.find the length of the set without using len() function:"
   ]
  },
  {
   "cell_type": "code",
   "execution_count": 3,
   "id": "b80c6081-e538-438d-bd72-acf44533b6fd",
   "metadata": {},
   "outputs": [
    {
     "name": "stdout",
     "output_type": "stream",
     "text": [
      "Length of the set: 5\n"
     ]
    }
   ],
   "source": [
    "# Create a set with some elements\n",
    "my_set = {1, 2, 3, 4, 5}\n",
    "\n",
    "# Initialize a variable to count the elements in the set\n",
    "count = 0\n",
    "\n",
    "# Iterate through each element in the set\n",
    "for _ in my_set:\n",
    "    # Increase the count by 1 for each element\n",
    "    count += 1\n",
    "\n",
    "# Print the count, which is the length of the set\n",
    "print(\"Length of the set:\", count)"
   ]
  },
  {
   "cell_type": "markdown",
   "id": "4e6c3238-3ad4-40f1-aa06-263fcd5406c4",
   "metadata": {},
   "source": [
    "Q.6.Clear all elements from a set:"
   ]
  },
  {
   "cell_type": "code",
   "execution_count": 4,
   "id": "824b9e94-fbc4-4875-af7e-cbe8a943da2f",
   "metadata": {},
   "outputs": [
    {
     "name": "stdout",
     "output_type": "stream",
     "text": [
      "Original set: {1, 2, 3, 4, 5}\n",
      "Set after clearing: set()\n"
     ]
    }
   ],
   "source": [
    "# Step 1: Create a set with some elements\n",
    "my_set = {1, 2, 3, 4, 5}\n",
    "\n",
    "# Step 2: Display the original set\n",
    "print(\"Original set:\", my_set)\n",
    "\n",
    "# Step 3: Clear all elements from the set using the clear() method\n",
    "my_set.clear()\n",
    "\n",
    "# Step 4: Display the set after clearing\n",
    "print(\"Set after clearing:\", my_set)\n"
   ]
  },
  {
   "cell_type": "markdown",
   "id": "46ca034f-aa52-4bc2-9c46-5d058320b3e5",
   "metadata": {},
   "source": [
    "Q.7.Create a set of even numbers from 1 to 10:"
   ]
  },
  {
   "cell_type": "code",
   "execution_count": 5,
   "id": "112f50c6-6f83-4bda-8cdf-80df6ceb7f17",
   "metadata": {},
   "outputs": [
    {
     "name": "stdout",
     "output_type": "stream",
     "text": [
      "{2, 4, 6, 8, 10}\n"
     ]
    }
   ],
   "source": [
    "# Step 1: Initialize an empty set\n",
    "even_numbers_set = set()\n",
    "\n",
    "# Step 2: Iterate through numbers from 1 to 10\n",
    "for num in range(1, 11):\n",
    "    # Step 3: Check if the number is even\n",
    "    if num % 2 == 0:\n",
    "        # Step 4: Add the even number to the set\n",
    "        even_numbers_set.add(num)\n",
    "\n",
    "# Step 5: Print the set of even numbers\n",
    "print(even_numbers_set)"
   ]
  },
  {
   "cell_type": "markdown",
   "id": "00e5c9fe-e62a-4687-aea4-b1fdf5120bef",
   "metadata": {},
   "source": [
    "Q.8.Create a set of odd numbers from 1 to 10:"
   ]
  },
  {
   "cell_type": "code",
   "execution_count": 6,
   "id": "af453f58-4ec5-4f4f-a47d-6ca45fe70ad3",
   "metadata": {},
   "outputs": [
    {
     "name": "stdout",
     "output_type": "stream",
     "text": [
      "{1, 3, 5, 7, 9}\n"
     ]
    }
   ],
   "source": [
    "# Step 1: Initialize an empty set to store odd numbers.\n",
    "odd_numbers_set = set()\n",
    "\n",
    "# Step 2: Iterate through numbers from 1 to 10.\n",
    "for num in range(1, 11):\n",
    "    # Step 3: Check if the current number is odd.\n",
    "    if num % 2 != 0:\n",
    "        # Step 4: If the number is odd, add it to the set.\n",
    "        odd_numbers_set.add(num)\n",
    "\n",
    "# Step 5: Print the final set of odd numbers.\n",
    "print(odd_numbers_set)"
   ]
  },
  {
   "cell_type": "markdown",
   "id": "e1e11421-15fd-46cb-afb4-a2b12adebdce",
   "metadata": {},
   "source": [
    "Q.9.Find the union of two sets:"
   ]
  },
  {
   "cell_type": "code",
   "execution_count": 7,
   "id": "52de4688-bb50-4070-804a-e3e3eb473e9c",
   "metadata": {},
   "outputs": [
    {
     "name": "stdout",
     "output_type": "stream",
     "text": [
      "Set 1: {1, 2, 3, 4, 5}\n",
      "Set 2: {4, 5, 6, 7, 8}\n",
      "Union of Set 1 and Set 2: {1, 2, 3, 4, 5, 6, 7, 8}\n"
     ]
    }
   ],
   "source": [
    "# Define two sets\n",
    "set1 = {1, 2, 3, 4, 5}\n",
    "set2 = {4, 5, 6, 7, 8}\n",
    "\n",
    "# Find the union of the two sets using the `union()` method\n",
    "union_result = set1.union(set2)\n",
    "\n",
    "# Print the original sets and their union\n",
    "print(\"Set 1:\", set1)\n",
    "print(\"Set 2:\", set2)\n",
    "print(\"Union of Set 1 and Set 2:\", union_result)"
   ]
  },
  {
   "cell_type": "markdown",
   "id": "1be54bd5-8f5c-4f26-8f17-68f8f2d19801",
   "metadata": {},
   "source": [
    "Q.10. Find the intersection of two sets:"
   ]
  },
  {
   "cell_type": "code",
   "execution_count": 8,
   "id": "12a81c14-7aea-4e46-8229-c6d5bddc7540",
   "metadata": {},
   "outputs": [
    {
     "name": "stdout",
     "output_type": "stream",
     "text": [
      "Set 1: {1, 2, 3, 4, 5}\n",
      "Set 2: {3, 4, 5, 6, 7}\n",
      "Intersection: {3, 4, 5}\n"
     ]
    }
   ],
   "source": [
    "# Create two sets\n",
    "set1 = {1, 2, 3, 4, 5}\n",
    "set2 = {3, 4, 5, 6, 7}\n",
    "\n",
    "# Find the intersection using the intersection() method\n",
    "intersection_result = set1.intersection(set2)\n",
    "\n",
    "# Print the original sets and the intersection\n",
    "print(\"Set 1:\", set1)\n",
    "print(\"Set 2:\", set2)\n",
    "print(\"Intersection:\", intersection_result)"
   ]
  },
  {
   "cell_type": "markdown",
   "id": "d7d1674c-96c7-4e42-b11e-8b172c42627d",
   "metadata": {},
   "source": [
    "Q.11.Find the difference between two sets:"
   ]
  },
  {
   "cell_type": "code",
   "execution_count": 9,
   "id": "fbf9eb60-d0e3-458b-877f-f97361bd5a52",
   "metadata": {},
   "outputs": [
    {
     "name": "stdout",
     "output_type": "stream",
     "text": [
      "Set 1: {1, 2, 3, 4, 5}\n",
      "Set 2: {3, 4, 5, 6, 7}\n",
      "Difference: {1, 2}\n"
     ]
    }
   ],
   "source": [
    "# Create two sets\n",
    "set1 = {1, 2, 3, 4, 5}\n",
    "set2 = {3, 4, 5, 6, 7}\n",
    "\n",
    "# Find the difference between the sets using the difference() method\n",
    "difference_set = set1.difference(set2)\n",
    "\n",
    "# Print the original sets and the difference set\n",
    "print(\"Set 1:\", set1)\n",
    "print(\"Set 2:\", set2)\n",
    "print(\"Difference:\", difference_set)"
   ]
  },
  {
   "cell_type": "markdown",
   "id": "3694cc7a-f56f-4a0e-9908-84ca9fcaf2dd",
   "metadata": {},
   "source": [
    "Q.12.check if a set is subset of another set:"
   ]
  },
  {
   "cell_type": "code",
   "execution_count": 10,
   "id": "8c21253c-4f1d-48e8-8e8f-f626b8c6b64e",
   "metadata": {},
   "outputs": [
    {
     "name": "stdout",
     "output_type": "stream",
     "text": [
      "Is set1 a subset of set2: True\n"
     ]
    }
   ],
   "source": [
    "# Define the two sets\n",
    "set1 = {1, 2, 3}\n",
    "set2 = {1, 2, 3, 4, 5}\n",
    "\n",
    "# Use the \"issubset()\" method to check if set1 is a subset of set2\n",
    "is_subset = set1.issubset(set2)\n",
    "\n",
    "# Print the result\n",
    "print(\"Is set1 a subset of set2:\", is_subset)"
   ]
  },
  {
   "cell_type": "markdown",
   "id": "19717561-ba73-4a68-9f00-f9ff1fb74d10",
   "metadata": {},
   "source": [
    "Q.13.check if a set is a superset of another set: "
   ]
  },
  {
   "cell_type": "code",
   "execution_count": 11,
   "id": "036269ad-0267-4805-9a88-d196722bec0e",
   "metadata": {},
   "outputs": [
    {
     "name": "stdout",
     "output_type": "stream",
     "text": [
      "set1 is a superset of set2\n"
     ]
    }
   ],
   "source": [
    "# Create two sets\n",
    "set1 = {1, 2, 3, 4, 5, 6}\n",
    "set2 = {3, 4}\n",
    "\n",
    "# Check if set1 is a superset of set2\n",
    "is_superset = set1.issuperset(set2)\n",
    "\n",
    "# Print the result\n",
    "if is_superset:\n",
    "    print(\"set1 is a superset of set2\")\n",
    "else:\n",
    "    print(\"set1 is not a superset of set2\")"
   ]
  },
  {
   "cell_type": "markdown",
   "id": "72632264-7249-4518-89d9-a85db565663e",
   "metadata": {},
   "source": [
    "Q.14.create a set from a list:"
   ]
  },
  {
   "cell_type": "code",
   "execution_count": 12,
   "id": "22dccea0-ee52-490d-892d-22077a24fdad",
   "metadata": {},
   "outputs": [
    {
     "name": "stdout",
     "output_type": "stream",
     "text": [
      "Original List: [2, 4, 1, 4, 3, 2, 5]\n",
      "Set from List: {1, 2, 3, 4, 5}\n"
     ]
    }
   ],
   "source": [
    "#Step 1: Create a list of elements\n",
    "my_list = [2, 4, 1, 4, 3, 2, 5]\n",
    "\n",
    "# Step 2: Use the set() constructor to convert the list into a set\n",
    "# This automatically removes duplicates and creates a set with unique elements\n",
    "my_set = set(my_list)\n",
    "\n",
    "# Step 3: Print the original list and the resulting set\n",
    "print(\"Original List:\", my_list)\n",
    "print(\"Set from List:\", my_set)"
   ]
  },
  {
   "cell_type": "markdown",
   "id": "6115db0f-ed20-4f25-8592-119dddb25897",
   "metadata": {},
   "source": [
    "Q.15.convert a set to a list:"
   ]
  },
  {
   "cell_type": "code",
   "execution_count": 13,
   "id": "3996b7d2-f593-468e-8d6d-f9e4180ad683",
   "metadata": {},
   "outputs": [
    {
     "name": "stdout",
     "output_type": "stream",
     "text": [
      "Original Set: {1, 2, 3, 4, 5, 6, 9}\n",
      "Converted List: [1, 2, 3, 4, 5, 6, 9]\n"
     ]
    }
   ],
   "source": [
    "# Step 1: Create a set with some elements\n",
    "my_set = {3, 1, 4, 1, 5, 9, 2, 6, 5}\n",
    "\n",
    "# Step 2: Convert the set to a list using the list() function\n",
    "my_list = list(my_set)\n",
    "\n",
    "# Now, my_list contains the elements from my_set in list format\n",
    "\n",
    "# Step 3: Print the original set and the converted list\n",
    "print(\"Original Set:\", my_set)\n",
    "print(\"Converted List:\", my_list)"
   ]
  },
  {
   "cell_type": "markdown",
   "id": "8b9e23eb-0f2f-4bf0-b061-7f485b0eaad9",
   "metadata": {},
   "source": [
    "Q.16.Remove a random element from a set:"
   ]
  },
  {
   "cell_type": "code",
   "execution_count": 15,
   "id": "dcc808ba-6fb9-4f59-bb14-960efdcf6ec1",
   "metadata": {},
   "outputs": [
    {
     "name": "stdout",
     "output_type": "stream",
     "text": [
      "Original set: {1, 2, 3, 4, 5}\n",
      "Updated set after removing 3 : {1, 2, 4, 5}\n"
     ]
    }
   ],
   "source": [
    "import random  # Import the random module\n",
    "\n",
    "# Create a set with some elements\n",
    "my_set = {1, 2, 3, 4, 5}\n",
    "\n",
    "# Display the original set\n",
    "print(\"Original set:\", my_set)\n",
    "\n",
    "# Choose a random element from the set using the random.choice() function\n",
    "random_element = random.choice(list(my_set))\n",
    "\n",
    "# Remove the chosen random element from the set using the remove() method\n",
    "my_set.remove(random_element)\n",
    "\n",
    "# Display the updated set after removing the random element\n",
    "print(\"Updated set after removing\", random_element, \":\", my_set)"
   ]
  },
  {
   "cell_type": "markdown",
   "id": "622e87b4-0cea-4b82-a841-7ab57216e0e7",
   "metadata": {},
   "source": [
    "Q.17.Pop an element from a set:"
   ]
  },
  {
   "cell_type": "code",
   "execution_count": 16,
   "id": "c0c17e53-687b-44c6-ad59-a5cd6b1d7002",
   "metadata": {},
   "outputs": [
    {
     "name": "stdout",
     "output_type": "stream",
     "text": [
      "Original set: {1, 2, 3, 4, 5}\n",
      "Popped element: 1\n",
      "Set after popping: {2, 3, 4, 5}\n"
     ]
    }
   ],
   "source": [
    "# Create a set with some elements\n",
    "my_set = {1, 2, 3, 4, 5}\n",
    "\n",
    "# Print the original set\n",
    "print(\"Original set:\", my_set)\n",
    "\n",
    "# Pop an element from the set using the pop() method\n",
    "popped_element = my_set.pop()\n",
    "\n",
    "# Print the element that was popped\n",
    "print(\"Popped element:\", popped_element)\n",
    "\n",
    "# Print the set after popping an element\n",
    "print(\"Set after popping:\", my_set)"
   ]
  },
  {
   "cell_type": "markdown",
   "id": "f8a4b357-465a-4821-9db9-dc1cec623897",
   "metadata": {},
   "source": [
    "Q.18.check if two sets have no elements in common:"
   ]
  },
  {
   "cell_type": "code",
   "execution_count": 17,
   "id": "4e8640d6-4f2c-472f-bc2e-5204b014d3dc",
   "metadata": {},
   "outputs": [
    {
     "name": "stdout",
     "output_type": "stream",
     "text": [
      "The two sets have no elements in common.\n"
     ]
    }
   ],
   "source": [
    "# Step 1: Define two sets\n",
    "set1 = {1, 2, 3, 4}\n",
    "set2 = {5, 6, 7, 8}\n",
    "\n",
    "# Step 2: Check if the intersection of the two sets is empty\n",
    "# The intersection is the set of elements that are common to both sets\n",
    "common_elements = set1.intersection(set2)\n",
    "\n",
    "# Step 3: Check if the common_elements set is empty\n",
    "if not common_elements:\n",
    "    print(\"The two sets have no elements in common.\")\n",
    "else:\n",
    "    print(\"The two sets have common elements:\", common_elements)"
   ]
  },
  {
   "cell_type": "markdown",
   "id": "b5fdbfe8-81e7-4c9b-816c-3c8b56db528a",
   "metadata": {},
   "source": [
    "Q.19.Find the symmetric difference between two sets:"
   ]
  },
  {
   "cell_type": "code",
   "execution_count": 18,
   "id": "966c7cf6-9615-40db-8c3d-d382788f0c4a",
   "metadata": {},
   "outputs": [
    {
     "name": "stdout",
     "output_type": "stream",
     "text": [
      "Symmetric Difference: {1, 2, 3, 6, 7, 8}\n"
     ]
    }
   ],
   "source": [
    "# Define two sets\n",
    "set1 = {1, 2, 3, 4, 5}\n",
    "set2 = {4, 5, 6, 7, 8}\n",
    "\n",
    "# Calculate the symmetric difference using the ^ operator\n",
    "symmetric_difference = set1 ^ set2\n",
    "\n",
    "# Print the symmetric difference\n",
    "print(\"Symmetric Difference:\", symmetric_difference)"
   ]
  },
  {
   "cell_type": "markdown",
   "id": "f9e64eed-dfe0-40fb-aa6d-76b6c0e57691",
   "metadata": {},
   "source": [
    "Q.20.Update a set with elememts from another:"
   ]
  },
  {
   "cell_type": "code",
   "execution_count": 19,
   "id": "2415f47a-00bd-4bf5-9095-2d07c79aa203",
   "metadata": {},
   "outputs": [
    {
     "name": "stdout",
     "output_type": "stream",
     "text": [
      "Set 1: {1, 2, 3}\n",
      "Set 2: {3, 4, 5}\n",
      "Updated Set 1: {1, 2, 3, 4, 5}\n"
     ]
    }
   ],
   "source": [
    "# Create the first set\n",
    "set1 = {1, 2, 3}\n",
    "print(\"Set 1:\", set1)\n",
    "\n",
    "# Create the second set\n",
    "set2 = {3, 4, 5}\n",
    "print(\"Set 2:\", set2)\n",
    "\n",
    "# Update set1 with elements from set2\n",
    "set1.update(set2)\n",
    "print(\"Updated Set 1:\", set1)"
   ]
  },
  {
   "cell_type": "markdown",
   "id": "0b703708-3552-4462-87a3-896b23396dc2",
   "metadata": {},
   "source": [
    "Q.21.create a set of first 5 prime numbers:"
   ]
  },
  {
   "cell_type": "code",
   "execution_count": 20,
   "id": "7d695b2f-ed4a-4ffc-be6b-ac69c2fd4c7d",
   "metadata": {},
   "outputs": [
    {
     "name": "stdout",
     "output_type": "stream",
     "text": [
      "Set of the first 5 prime numbers: {2, 3, 5, 7, 11}\n"
     ]
    }
   ],
   "source": [
    "# Function to check if a number is prime\n",
    "def is_prime(num):\n",
    "    if num <= 1:\n",
    "        return False\n",
    "    for i in range(2, int(num ** 0.5) + 1):\n",
    "        if num % i == 0:\n",
    "            return False\n",
    "    return True\n",
    "\n",
    "# Create an empty set to store the prime numbers\n",
    "prime_set = set()\n",
    "\n",
    "# Initialize the number to start checking for primes\n",
    "num = 2\n",
    "\n",
    "# Loop until we have found the first 5 prime numbers\n",
    "while len(prime_set) < 5:\n",
    "    # Check if the current number is prime using the is_prime function\n",
    "    if is_prime(num):\n",
    "        # If the number is prime, add it to the prime_set\n",
    "        prime_set.add(num)\n",
    "\n",
    "    # Move on to the next number for the next iteration\n",
    "    num += 1\n",
    "\n",
    "# Print the set of prime numbers\n",
    "print(\"Set of the first 5 prime numbers:\", prime_set)"
   ]
  },
  {
   "cell_type": "markdown",
   "id": "6d2d9d73-59f5-47a7-8da5-acd31d09b86f",
   "metadata": {},
   "source": [
    "Q.22. Check if two sets are identical:"
   ]
  },
  {
   "cell_type": "code",
   "execution_count": 21,
   "id": "b332c84d-c98e-423c-9732-6a40250ce3bc",
   "metadata": {},
   "outputs": [
    {
     "name": "stdout",
     "output_type": "stream",
     "text": [
      "The sets are identical.\n"
     ]
    }
   ],
   "source": [
    "# Step 1: Define two sets\n",
    "set1 = {1, 2, 3, 4, 5}\n",
    "set2 = {3, 1, 5, 2, 4}  # The order of elements doesn't matter in sets\n",
    "\n",
    "# Step 2: Check if the sets are identical using the `==` operator\n",
    "# Sets are unordered collections, so the order of elements doesn't matter.\n",
    "# The `==` operator compares the content of the sets.\n",
    "if set1 == set2:\n",
    "    print(\"The sets are identical.\")\n",
    "else:\n",
    "    print(\"The sets are not identical.\")"
   ]
  },
  {
   "cell_type": "markdown",
   "id": "2f70f2ad-f525-45d9-887b-7a51da5186da",
   "metadata": {},
   "source": [
    "Q.23.Create a frozenset:"
   ]
  },
  {
   "cell_type": "code",
   "execution_count": 22,
   "id": "82ea1282-5acc-43d6-805d-ed9c6be0e0f4",
   "metadata": {},
   "outputs": [
    {
     "name": "stdout",
     "output_type": "stream",
     "text": [
      "Frozen Set: frozenset({1, 2, 3, 4, 5})\n"
     ]
    }
   ],
   "source": [
    "# Step 2: Define a list of elements that you want to include in the frozen set\n",
    "elements = [1, 2, 3, 4, 5]\n",
    "\n",
    "# Step 3: Create a frozen set using the 'frozenset' constructor and passing the list of elements\n",
    "my_frozen_set = frozenset(elements)\n",
    "\n",
    "# Step 4: Print the frozen set\n",
    "print(\"Frozen Set:\", my_frozen_set)"
   ]
  },
  {
   "cell_type": "markdown",
   "id": "fab510b5-df9d-4494-af01-51040512b902",
   "metadata": {},
   "source": [
    "Q.24. Check if a set is disjoint with another set:"
   ]
  },
  {
   "cell_type": "code",
   "execution_count": 23,
   "id": "8508d9c9-bf02-4920-8590-42c5c8b05ee9",
   "metadata": {},
   "outputs": [
    {
     "name": "stdout",
     "output_type": "stream",
     "text": [
      "Are the sets disjoint? True\n"
     ]
    }
   ],
   "source": [
    "# Step 1: Define the two sets you want to check for disjointness\n",
    "set1 = {1, 2, 3, 4}\n",
    "set2 = {5, 6, 7, 8}\n",
    "\n",
    "# Step 2: Use the `isdisjoint()` method to check if the sets are disjoint\n",
    "# The `isdisjoint()` method returns True if the sets have no common elements,\n",
    "# and False if they have at least one common element.\n",
    "disjoint_status = set1.isdisjoint(set2)\n",
    "\n",
    "# Step 3: Print the result\n",
    "print(\"Are the sets disjoint?\", disjoint_status)"
   ]
  },
  {
   "cell_type": "markdown",
   "id": "76faadce-f427-4032-80cc-944182f6e4ee",
   "metadata": {},
   "source": [
    "Q.25.Create a set of squares from 1 to 5:"
   ]
  },
  {
   "cell_type": "code",
   "execution_count": 26,
   "id": "6a6ec4fe-9d8b-4f64-b79b-4faf2d979acc",
   "metadata": {},
   "outputs": [
    {
     "name": "stdout",
     "output_type": "stream",
     "text": [
      "The set of squares is: {1, 4, 9, 16, 25}\n"
     ]
    }
   ],
   "source": [
    "#Use a set comprehension to describe a set:\n",
    "square_set = set(i**2 for i in range(1,6))\n",
    "\n",
    "#print the set of squares:\n",
    "print(\"The set of squares is:\",square_set)"
   ]
  },
  {
   "cell_type": "markdown",
   "id": "4eb3399e-30bb-44c1-ae32-d3f2493919c7",
   "metadata": {},
   "source": [
    "Q.26:Filter out all even numbers from a set:"
   ]
  },
  {
   "cell_type": "code",
   "execution_count": 27,
   "id": "6cb58d5f-7729-4297-ab6b-883fc750ad8c",
   "metadata": {},
   "outputs": [
    {
     "name": "stdout",
     "output_type": "stream",
     "text": [
      "Original Set: {1, 2, 3, 4, 5}\n",
      "Even Numbers Set: {2, 4}\n"
     ]
    }
   ],
   "source": [
    "# Step 1: Create a set with integers from 1 to 5\n",
    "original_set = {1, 2, 3, 4, 5}\n",
    "\n",
    "# Step 2: Initialize an empty set to store the filtered even numbers\n",
    "even_numbers_set = set()\n",
    "\n",
    "# Step 3: Iterate through each element in the original set\n",
    "for num in original_set:\n",
    "    # Step 4: Check if the current number is even (divisible by 2)\n",
    "    if num % 2 == 0:\n",
    "        # Step 5: If even, add it to the even_numbers_set\n",
    "        even_numbers_set.add(num)\n",
    "\n",
    "# Step 6: Print the original set and the set containing even numbers\n",
    "print(\"Original Set:\", original_set)\n",
    "print(\"Even Numbers Set:\", even_numbers_set)"
   ]
  },
  {
   "cell_type": "markdown",
   "id": "49eec829-a316-4252-bc0d-c80ee474fce8",
   "metadata": {},
   "source": [
    "Q.27.Multiply all elements in a set by 2:"
   ]
  },
  {
   "cell_type": "code",
   "execution_count": 30,
   "id": "1b51502f-3555-436b-8134-4578e86597f6",
   "metadata": {},
   "outputs": [
    {
     "name": "stdout",
     "output_type": "stream",
     "text": [
      "Original Set: {1, 2, 3, 4, 5}\n",
      "Multiplied Set: {2, 4, 6, 8, 10}\n"
     ]
    }
   ],
   "source": [
    "# Create a set with integers from 1 to 5\n",
    "original_set = {1, 2, 3, 4, 5}\n",
    "\n",
    "# Initialize an empty set to store the multiplied elements\n",
    "multiplied_set = set()\n",
    "\n",
    "# Loop through each element in the original set\n",
    "for num in original_set:\n",
    "    # Multiply the current element by 2\n",
    "    multiplied_num = num * 2\n",
    "\n",
    "    # Add the multiplied element to the multiplied_set\n",
    "    multiplied_set.add(multiplied_num)\n",
    "\n",
    "# The original_set remains unchanged\n",
    "print(\"Original Set:\", original_set)\n",
    "\n",
    "# Display the set with elements multiplied by 2\n",
    "print(\"Multiplied Set:\", multiplied_set)"
   ]
  },
  {
   "cell_type": "markdown",
   "id": "1be946bc-9f88-4c78-bbe8-f6744287f388",
   "metadata": {},
   "source": [
    "Q.28: Create a set of random numbers:"
   ]
  },
  {
   "cell_type": "code",
   "execution_count": 35,
   "id": "dc68bade-6195-49f2-a525-4625c2c7d98f",
   "metadata": {},
   "outputs": [
    {
     "name": "stdout",
     "output_type": "stream",
     "text": [
      "Generated set of random numbers: {96, 68, 75, 15, 49}\n"
     ]
    }
   ],
   "source": [
    "#Step 1: Import the `random` module to generate random numbers\n",
    "import random\n",
    "\n",
    "# Step 2: Define the number of random numbers you want in the set\n",
    "num_random_numbers = 5\n",
    "\n",
    "# Step 3: Initialize an empty set to store the random numbers\n",
    "random_number_set = set()\n",
    "\n",
    "# Step 4: Use a loop to generate random numbers and add them to the set\n",
    "for _ in range(num_random_numbers):\n",
    "    # Generate a random integer using the `randint` function from the `random` module\n",
    "    random_num = random.randint(1, 100)  # Generate a random number between 1 and 100\n",
    "    # Add the random number to the set\n",
    "    random_number_set.add(random_num)\n",
    "\n",
    "# Step 5: Print the generated set of random numbers\n",
    "print(\"Generated set of random numbers:\", random_number_set)"
   ]
  },
  {
   "cell_type": "markdown",
   "id": "90e16084-d197-4512-b158-6d44a5e851a6",
   "metadata": {},
   "source": [
    "Q.29.Check if a set is empty:"
   ]
  },
  {
   "cell_type": "code",
   "execution_count": 36,
   "id": "3bbac6a1-5883-45b7-bfc8-f5c59b1741f2",
   "metadata": {},
   "outputs": [
    {
     "name": "stdout",
     "output_type": "stream",
     "text": [
      "The set is empty.\n"
     ]
    }
   ],
   "source": [
    "# Step 1: Create a set (you can replace this with your own set)\n",
    "my_set = set()\n",
    "\n",
    "# Step 2: Check if the set is empty using the 'if' statement\n",
    "if not my_set:\n",
    "    print(\"The set is empty.\")\n",
    "else:\n",
    "    print(\"The set is not empty.\")"
   ]
  },
  {
   "cell_type": "markdown",
   "id": "22c2ef44-1548-4fd0-af38-ca2469bc658d",
   "metadata": {},
   "source": [
    "Q.30. Create a nested set:"
   ]
  },
  {
   "cell_type": "code",
   "execution_count": 37,
   "id": "83475fc1-38df-4b5d-9d0e-cea7c0078c77",
   "metadata": {},
   "outputs": [
    {
     "name": "stdout",
     "output_type": "stream",
     "text": [
      "Nested Set: {frozenset({1, 2, 3, 4, 5}), frozenset({6, 7, 8, 9, 10})}\n"
     ]
    }
   ],
   "source": [
    "# Step 1: Create the inner sets\n",
    "set1 = {1, 2, 3, 4, 5}\n",
    "set2 = {6, 7, 8, 9, 10}\n",
    "\n",
    "# Step 2: Create frozensets from the inner sets\n",
    "frozen_set1 = frozenset(set1)\n",
    "frozen_set2 = frozenset(set2)\n",
    "\n",
    "# Step 3: Create the nested set using the frozensets\n",
    "nested_set = {frozen_set1, frozen_set2}\n",
    "\n",
    "# Print the nested set\n",
    "print(\"Nested Set:\", nested_set)"
   ]
  },
  {
   "cell_type": "markdown",
   "id": "69361e20-a8a2-40ab-a349-7db225ecc195",
   "metadata": {},
   "source": [
    "Q.31. Remove an element from a set using discard method:"
   ]
  },
  {
   "cell_type": "code",
   "execution_count": 38,
   "id": "6182da13-d125-4361-b8cd-a4d81ff095f3",
   "metadata": {},
   "outputs": [
    {
     "name": "stdout",
     "output_type": "stream",
     "text": [
      "Initial set: {1, 2, 3, 4, 5}\n",
      "Set after removing 3 : {1, 2, 4, 5}\n"
     ]
    }
   ],
   "source": [
    "# Create a set with some elements\n",
    "my_set = {1, 2, 3, 4, 5}\n",
    "\n",
    "# Display the initial set\n",
    "print(\"Initial set:\", my_set)\n",
    "\n",
    "# Define the element to be removed\n",
    "element_to_remove = 3\n",
    "\n",
    "# Use the discard() method to remove the element from the set\n",
    "# If the element is not present in the set, discard() won't raise an error\n",
    "my_set.discard(element_to_remove)\n",
    "\n",
    "# Display the set after removing the element\n",
    "print(\"Set after removing\", element_to_remove, \":\", my_set)"
   ]
  },
  {
   "cell_type": "markdown",
   "id": "604e7747-f8f4-4135-830d-554e2e8501d6",
   "metadata": {},
   "source": [
    "Q.32: Compare two sets:"
   ]
  },
  {
   "cell_type": "code",
   "execution_count": 39,
   "id": "0e1dfc09-9314-4fd4-aa8a-eb10752a0da5",
   "metadata": {},
   "outputs": [
    {
     "name": "stdout",
     "output_type": "stream",
     "text": [
      "Set 1: {1, 2, 3, 4, 5}\n",
      "Set 2: {4, 5, 6, 7, 8}\n",
      "Is set1 a subset of set2? False\n",
      "Is set2 a subset of set1? False\n",
      "Intersection: {4, 5}\n",
      "Union: {1, 2, 3, 4, 5, 6, 7, 8}\n",
      "Elements in set1 but not in set2: {1, 2, 3}\n",
      "Elements in set2 but not in set1: {8, 6, 7}\n"
     ]
    }
   ],
   "source": [
    "#Step 1: Define two sets\n",
    "set1 = {1, 2, 3, 4, 5}\n",
    "set2 = {4, 5, 6, 7, 8}\n",
    "\n",
    "# Step 2: Use set operations to compare the sets\n",
    "# Check if set1 is a subset of set2\n",
    "is_subset = set1.issubset(set2)\n",
    "\n",
    "# Check if set2 is a subset of set1\n",
    "is_superset = set1.issuperset(set2)\n",
    "\n",
    "# Find the intersection of the sets\n",
    "intersection = set1.intersection(set2)\n",
    "\n",
    "# Find the union of the sets\n",
    "union = set1.union(set2)\n",
    "\n",
    "# Find the elements that are in set1 but not in set2\n",
    "difference1 = set1.difference(set2)\n",
    "\n",
    "# Find the elements that are in set2 but not in set1\n",
    "difference2 = set2.difference(set1)\n",
    "\n",
    "# Step 3: Print the results\n",
    "print(\"Set 1:\", set1)\n",
    "print(\"Set 2:\", set2)\n",
    "print(\"Is set1 a subset of set2?\", is_subset)\n",
    "print(\"Is set2 a subset of set1?\", is_superset)\n",
    "print(\"Intersection:\", intersection)\n",
    "print(\"Union:\", union)\n",
    "print(\"Elements in set1 but not in set2:\", difference1)\n",
    "print(\"Elements in set2 but not in set1:\", difference2)"
   ]
  },
  {
   "cell_type": "markdown",
   "id": "d82b1854-0470-45cc-a6ac-b7e4366dc51e",
   "metadata": {},
   "source": [
    "Q.33.Create a set from a string:"
   ]
  },
  {
   "cell_type": "code",
   "execution_count": 40,
   "id": "2926f081-8d51-4d57-86b6-1e8929c2e3fe",
   "metadata": {},
   "outputs": [
    {
     "name": "stdout",
     "output_type": "stream",
     "text": [
      "{'l', 'e', 'o', 'h'}\n"
     ]
    }
   ],
   "source": [
    "# Step 1: Define the input string\n",
    "input_string = \"hello\"\n",
    "\n",
    "# Step 2: Use the set() constructor to create a set from the characters in the string\n",
    "char_set = set(input_string)\n",
    "\n",
    "# Step 3: Print the resulting set\n",
    "print(char_set)"
   ]
  },
  {
   "cell_type": "markdown",
   "id": "da0d0888-63b5-44e6-bf85-13b36e7f7d72",
   "metadata": {},
   "source": [
    "Q.34. Convert a set of strings to a set of integers:"
   ]
  },
  {
   "cell_type": "code",
   "execution_count": 41,
   "id": "6b3b7ed3-5cc7-4d75-be3b-7a3fabe987f0",
   "metadata": {},
   "outputs": [
    {
     "name": "stdout",
     "output_type": "stream",
     "text": [
      "Original String Set: {'789', '123', '456'}\n",
      "Converted Integer Set: {456, 123, 789}\n"
     ]
    }
   ],
   "source": [
    "# Step 1: Create a set of strings\n",
    "string_set = {\"123\", \"456\", \"789\"}\n",
    "\n",
    "# Step 2: Initialize an empty set to store integers\n",
    "integer_set = set()\n",
    "\n",
    "# Step 3: Iterate through each string in the string set\n",
    "for string in string_set:\n",
    "    # Step 4: Convert the string to an integer using the int() function\n",
    "    integer_value = int(string)\n",
    "\n",
    "    # Step 5: Add the integer to the integer set\n",
    "    integer_set.add(integer_value)\n",
    "\n",
    "# Step 6: Print the original string set and the converted integer set\n",
    "print(\"Original String Set:\", string_set)\n",
    "print(\"Converted Integer Set:\", integer_set)"
   ]
  },
  {
   "cell_type": "markdown",
   "id": "c4ab2fca-a688-42f4-b4d6-349358dd5e19",
   "metadata": {},
   "source": [
    "Q.35. Convert a set of integers to a set of strings:"
   ]
  },
  {
   "cell_type": "code",
   "execution_count": 42,
   "id": "fb639437-197a-4fc0-9a39-a1c39cec49a2",
   "metadata": {},
   "outputs": [
    {
     "name": "stdout",
     "output_type": "stream",
     "text": [
      "Original integers_set: {1, 2, 3, 4, 5}\n",
      "Converted strings_set: {'5', '2', '1', '4', '3'}\n"
     ]
    }
   ],
   "source": [
    "# Step 1: Create a set of integers\n",
    "integers_set = {1, 2, 3, 4, 5}\n",
    "\n",
    "# Step 2: Initialize an empty set to store the strings\n",
    "strings_set = set()\n",
    "\n",
    "# Step 3: Iterate through each integer in the integers_set\n",
    "for num in integers_set:\n",
    "    # Step 4: Convert the integer to a string using the str() function\n",
    "    num_str = str(num)\n",
    "\n",
    "    # Step 5: Add the string representation to the strings_set\n",
    "    strings_set.add(num_str)\n",
    "\n",
    "# Step 6: Print the original integers_set and the converted strings_set\n",
    "print(\"Original integers_set:\", integers_set)\n",
    "print(\"Converted strings_set:\", strings_set)"
   ]
  },
  {
   "cell_type": "markdown",
   "id": "703bd3e1-71f3-42b9-a608-eab457e15ceb",
   "metadata": {},
   "source": [
    "Q.36:create a set from a tuple:"
   ]
  },
  {
   "cell_type": "code",
   "execution_count": 43,
   "id": "9f0c4250-6602-4d11-8f1f-09637c78edd0",
   "metadata": {},
   "outputs": [
    {
     "name": "stdout",
     "output_type": "stream",
     "text": [
      "{1, 2, 3, 4, 5}\n"
     ]
    }
   ],
   "source": [
    "#Given tuple\n",
    "input_tuple = (1, 2, 3, 2, 4, 5, 1)\n",
    "\n",
    "# Step 1: Convert the tuple to a set\n",
    "output_set = set(input_tuple)\n",
    "# At this point, the set() function is used to convert the elements of the tuple into a set.\n",
    "# Since sets only contain unique elements, duplicate values are automatically removed.\n",
    "\n",
    "# Step 2: Print the resulting set\n",
    "print(output_set)\n",
    "# The set is now printed, and it will only contain the unique elements from the original tuple."
   ]
  },
  {
   "cell_type": "markdown",
   "id": "1a1a9b2a-102b-4acd-a91b-9e7832205621",
   "metadata": {},
   "source": [
    "Q.37. convert a set to a tuple:"
   ]
  },
  {
   "cell_type": "code",
   "execution_count": 44,
   "id": "1b5180ca-d016-4d70-a7a0-ad7866a7d6b0",
   "metadata": {},
   "outputs": [
    {
     "name": "stdout",
     "output_type": "stream",
     "text": [
      "Original set: {1, 2, 3, 4, 5}\n",
      "Converted tuple: (1, 2, 3, 4, 5)\n"
     ]
    }
   ],
   "source": [
    " # Step 1: Create a set\n",
    "input_set = {1, 2, 3, 4, 5}\n",
    "\n",
    "# Step 2: Convert the set to a tuple\n",
    "output_tuple = tuple(input_set)\n",
    "\n",
    "# Step 3: Print the original set and the converted tuple\n",
    "print(\"Original set:\", input_set)\n",
    "print(\"Converted tuple:\", output_tuple)"
   ]
  },
  {
   "cell_type": "markdown",
   "id": "561df1d2-6710-42d4-8e07-37a10b99aa40",
   "metadata": {},
   "source": [
    "Q.38. Find the maximum value in a set:"
   ]
  },
  {
   "cell_type": "code",
   "execution_count": 45,
   "id": "3b0fa4fa-ec0c-4ea4-a0d5-c686b75a69bb",
   "metadata": {},
   "outputs": [
    {
     "name": "stdout",
     "output_type": "stream",
     "text": [
      "Maximum value: 22\n"
     ]
    }
   ],
   "source": [
    "# Define a set with some values\n",
    "my_set = {15, 7, 22, 13, 8}\n",
    "\n",
    "# Initialize a variable to store the maximum value\n",
    "max_value = None\n",
    "\n",
    "# Iterate through each element in the set\n",
    "for num in my_set:\n",
    "    # Check if max_value is None (first iteration) or if the current number is greater than max_value\n",
    "    if max_value is None or num > max_value:\n",
    "        max_value = num  # Update max_value with the current number if it's greater\n",
    "\n",
    "# Print the maximum value\n",
    "print(\"Maximum value:\", max_value)"
   ]
  },
  {
   "cell_type": "markdown",
   "id": "99b16f65-c00f-40df-a1ea-fe85ffd63c7c",
   "metadata": {},
   "source": [
    "Q.39.Find the minimum value in a set:"
   ]
  },
  {
   "cell_type": "code",
   "execution_count": 46,
   "id": "0410ebf6-1c95-42df-a0a2-8cb1a9ae9742",
   "metadata": {},
   "outputs": [
    {
     "name": "stdout",
     "output_type": "stream",
     "text": [
      "The minimum value in the set is: 4\n"
     ]
    }
   ],
   "source": [
    "# Create a sample set of numbers\n",
    "number_set = {15, 8, 23, 4, 42, 11}\n",
    "\n",
    "# Initialize a variable to store the minimum value\n",
    "min_value = None\n",
    "\n",
    "# Iterate through each element in the set\n",
    "for num in number_set:\n",
    "    # Check if min_value is None (first iteration) or if num is smaller than the current min_value\n",
    "    if min_value is None or num < min_value:\n",
    "        # Update min_value to the current num since it's smaller\n",
    "        min_value = num\n",
    "\n",
    "# Print the minimum value found in the set\n",
    "print(\"The minimum value in the set is:\", min_value)"
   ]
  },
  {
   "cell_type": "markdown",
   "id": "e361875a-db13-48ef-b099-6e26e7345a45",
   "metadata": {},
   "source": [
    "Q.40: Create a set from user input:"
   ]
  },
  {
   "cell_type": "code",
   "execution_count": 48,
   "id": "323764f8-5059-4da7-a50c-215c00ef0187",
   "metadata": {},
   "outputs": [
    {
     "name": "stdout",
     "output_type": "stream",
     "text": [
      "Enter elements for the set (type 'done' to finish):\n"
     ]
    },
    {
     "name": "stdin",
     "output_type": "stream",
     "text": [
      ">  oreo, hide $ seek\n",
      ">  done\n"
     ]
    },
    {
     "name": "stdout",
     "output_type": "stream",
     "text": [
      "Final set: {'oreo, hide $ seek'}\n"
     ]
    }
   ],
   "source": [
    "# Step 1: Initialize an empty set\n",
    "user_set = set()\n",
    "\n",
    "# Step 2: Get input from the user\n",
    "print(\"Enter elements for the set (type 'done' to finish):\")\n",
    "while True:\n",
    "    user_input = input(\"> \")  # Get input from the user\n",
    "\n",
    "    if user_input.lower() == 'done':\n",
    "        break  # Exit the loop if the user enters 'done'\n",
    "\n",
    "    # Step 3: Add the user input to the set\n",
    "    user_set.add(user_input)\n",
    "\n",
    "# Step 4: Display the final set created from user input\n",
    "print(\"Final set:\", user_set)"
   ]
  },
  {
   "cell_type": "markdown",
   "id": "52efe5aa-94ba-4e22-9d05-bad09dd3a9ed",
   "metadata": {},
   "source": [
    "Q.41: Check if the intersection of two sets is empty:"
   ]
  },
  {
   "cell_type": "code",
   "execution_count": 49,
   "id": "e3914b9b-2d5a-4b3d-a2e2-918cc55dfeaa",
   "metadata": {},
   "outputs": [
    {
     "name": "stdout",
     "output_type": "stream",
     "text": [
      "The intersection of the two sets is not empty.\n"
     ]
    }
   ],
   "source": [
    "# Step 1: Define two sets\n",
    "set1 = {1, 2, 3, 4, 5}\n",
    "set2 = {4, 5, 6, 7, 8}\n",
    "\n",
    "# Step 2: Find the intersection of the two sets using the `intersection()` method\n",
    "intersection_result = set1.intersection(set2)\n",
    "\n",
    "# Step 3: Check if the intersection result is empty\n",
    "if not intersection_result:\n",
    "    print(\"The intersection of the two sets is empty.\")\n",
    "else:\n",
    "    print(\"The intersection of the two sets is not empty.\")"
   ]
  },
  {
   "cell_type": "markdown",
   "id": "f66a755f-f7fa-47d6-a379-fa7daf9b3f6a",
   "metadata": {},
   "source": [
    "Q.42: Create a set of first five fibonacci numbers:"
   ]
  },
  {
   "cell_type": "code",
   "execution_count": 50,
   "id": "7dcfadf9-0290-4339-8639-4f529892feb7",
   "metadata": {},
   "outputs": [
    {
     "name": "stdout",
     "output_type": "stream",
     "text": [
      "Set of the first 5 Fibonacci numbers: {0, 1, 2, 3, 5}\n"
     ]
    }
   ],
   "source": [
    "#Create a set to store the first 5 Fibonacci numbers\n",
    "fibonacci_set = set()\n",
    "\n",
    "# Initialize the first two Fibonacci numbers\n",
    "a, b = 0, 1\n",
    "\n",
    "# Loop to generate the first 5 Fibonacci numbers\n",
    "for _ in range(6):\n",
    "    # Add the current Fibonacci number to the set\n",
    "    fibonacci_set.add(a)\n",
    "\n",
    "    # Calculate the next Fibonacci number\n",
    "    a, b = b, a + b\n",
    "\n",
    "# Print the set of Fibonacci numbers\n",
    "print(\"Set of the first 5 Fibonacci numbers:\", fibonacci_set) "
   ]
  },
  {
   "cell_type": "markdown",
   "id": "ce2031a1-397d-4894-9cd1-31473915a04e",
   "metadata": {},
   "source": [
    "Q.43: Remove duplicates from a list using sets:"
   ]
  },
  {
   "cell_type": "code",
   "execution_count": 51,
   "id": "fe830c8a-f712-4ed3-8687-5e5faea690fc",
   "metadata": {},
   "outputs": [
    {
     "name": "stdout",
     "output_type": "stream",
     "text": [
      "Original List: [2, 4, 6, 8, 4, 10, 6, 12, 14, 8]\n",
      "List with Duplicates Removed: [2, 4, 6, 8, 10, 12, 14]\n"
     ]
    }
   ],
   "source": [
    "# Step 1: Define a list with duplicates\n",
    "original_list = [2, 4, 6, 8, 4, 10, 6, 12, 14, 8]\n",
    "\n",
    "# Step 2: Convert the list to a set\n",
    "unique_set = set(original_list)\n",
    "# Now, 'unique_set' contains only unique elements from 'original_list'\n",
    "\n",
    "# Step 3: Convert the set back to a list\n",
    "unique_list = list(unique_set)\n",
    "# Now, 'unique_list' is a list containing only unique elements\n",
    "\n",
    "# Step 4: Print the original list and the list with duplicates removed\n",
    "print(\"Original List:\", original_list)\n",
    "print(\"List with Duplicates Removed:\", unique_list)"
   ]
  },
  {
   "cell_type": "markdown",
   "id": "ac81e4e7-645c-4efa-83e7-6d1d71e521bd",
   "metadata": {},
   "source": [
    "Q.44: Check if two sets have same elements regardless of their count:"
   ]
  },
  {
   "cell_type": "code",
   "execution_count": 52,
   "id": "227f62b9-1056-4e78-8044-ee1556cc8ed4",
   "metadata": {},
   "outputs": [
    {
     "name": "stdout",
     "output_type": "stream",
     "text": [
      "The sets have the same elements.\n"
     ]
    }
   ],
   "source": [
    "def have_same_elements(set1, set2):\n",
    "    # Convert the sets to lists and sort them\n",
    "    sorted_list1 = sorted(list(set1))\n",
    "    sorted_list2 = sorted(list(set2))\n",
    "\n",
    "    # Compare the sorted lists to check if they are equal\n",
    "    return sorted_list1 == sorted_list2\n",
    "\n",
    "# Example sets\n",
    "set1 = {1, 2, 3, 2, 1}\n",
    "set2 = {3, 1, 2}\n",
    "\n",
    "# Check if the sets have the same elements\n",
    "result = have_same_elements(set1, set2)\n",
    "\n",
    "# Print the result\n",
    "if result:\n",
    "    print(\"The sets have the same elements.\")\n",
    "else:\n",
    "    print(\"The sets do not have the same elements.\")"
   ]
  },
  {
   "cell_type": "markdown",
   "id": "a1101144-789d-4dab-b22e-e3b7041d3fdc",
   "metadata": {},
   "source": [
    "Q.45:Create a set of first n powers of 2:"
   ]
  },
  {
   "cell_type": "code",
   "execution_count": 53,
   "id": "c5bd333f-2cb9-4b22-8604-11a1e1452272",
   "metadata": {},
   "outputs": [
    {
     "name": "stdout",
     "output_type": "stream",
     "text": [
      "{1, 2, 4, 8, 16}\n"
     ]
    }
   ],
   "source": [
    "def generate_powers_of_2(n):\n",
    "    # Initialize an empty set to store the powers of 2\n",
    "    powers_of_2 = set()\n",
    "\n",
    "    # Loop from 0 to n-1\n",
    "    for i in range(n):\n",
    "        # Calculate the current power of 2 using the exponentiation operator **\n",
    "        power = 2 ** i\n",
    "\n",
    "        # Add the current power of 2 to the set\n",
    "        powers_of_2.add(power)\n",
    "\n",
    "    # Return the set of powers of 2\n",
    "    return powers_of_2\n",
    "\n",
    "# Define the value of n\n",
    "n = 5\n",
    "\n",
    "# Call the function to generate the set of powers of 2\n",
    "powers_set = generate_powers_of_2(n)\n",
    "\n",
    "# Print the resulting set\n",
    "print(powers_set)"
   ]
  },
  {
   "cell_type": "markdown",
   "id": "2078ad38-5e18-40bd-94a4-e12c8fa47468",
   "metadata": {},
   "source": [
    "Q.46. Find the common elements between a set and a list:"
   ]
  },
  {
   "cell_type": "code",
   "execution_count": 54,
   "id": "2217c1f4-adfa-4d23-8d56-beda505387dc",
   "metadata": {},
   "outputs": [
    {
     "name": "stdout",
     "output_type": "stream",
     "text": [
      "Common elements: [7, 9, 12]\n"
     ]
    }
   ],
   "source": [
    "# Step 1: Define a set and a list\n",
    "my_set = {3, 7, 9, 12, 15}\n",
    "my_list = [7, 12, 5, 9]\n",
    "\n",
    "# Step 2: Convert the list to a set for efficient comparison\n",
    "list_to_set = set(my_list)\n",
    "\n",
    "# Step 3: Initialize an empty list to store common elements\n",
    "common_elements = []\n",
    "\n",
    "# Step 4: Iterate through the elements in the set\n",
    "for element in my_set:\n",
    "    # Step 5: Check if the element is present in the converted set (list_to_set)\n",
    "    if element in list_to_set:\n",
    "        # Step 6: If the element is present in both the set and the list, add it to the common_elements list\n",
    "        common_elements.append(element)\n",
    "\n",
    "# Step 7: Print the common elements\n",
    "print(\"Common elements:\", common_elements)"
   ]
  },
  {
   "cell_type": "markdown",
   "id": "c833e2e8-489d-4353-b991-406a1bdc0669",
   "metadata": {},
   "source": [
    "Q.47: create a set of first n triangular numbers"
   ]
  },
  {
   "cell_type": "code",
   "execution_count": 55,
   "id": "26f39672-9a81-4d7a-a257-d341a9122271",
   "metadata": {},
   "outputs": [
    {
     "name": "stdin",
     "output_type": "stream",
     "text": [
      "Enter the value of n:  5\n"
     ]
    },
    {
     "name": "stdout",
     "output_type": "stream",
     "text": [
      "The set of the first 5 triangular numbers is: {1, 3, 6, 10, 15}\n"
     ]
    }
   ],
   "source": [
    "def generate_triangular_numbers(n):\n",
    "    triangular_numbers = set()  # Create an empty set to store the triangular numbers\n",
    "    for i in range(1, n + 1):\n",
    "        triangular_number = i * (i + 1) // 2  # Calculate the ith triangular number using the formula\n",
    "        triangular_numbers.add(triangular_number)  # Add the calculated triangular number to the set\n",
    "    return triangular_numbers\n",
    "\n",
    "# Input the value of 'n'\n",
    "n = int(input(\"Enter the value of n: \"))\n",
    "\n",
    "# Call the function to generate the set of first 'n' triangular numbers\n",
    "triangular_set = generate_triangular_numbers(n)\n",
    "\n",
    "# Display the set of triangular numbers\n",
    "print(f\"The set of the first {n} triangular numbers is:\", triangular_set)"
   ]
  },
  {
   "cell_type": "markdown",
   "id": "0b36a05d-af08-4aa7-b10f-bc0863bf3d95",
   "metadata": {},
   "source": [
    "Q.48:Check if a set contains anther set as subset:"
   ]
  },
  {
   "cell_type": "code",
   "execution_count": 1,
   "id": "fdf6dd44-bb16-4799-bd88-910586156a5e",
   "metadata": {},
   "outputs": [
    {
     "name": "stdout",
     "output_type": "stream",
     "text": [
      "set2 is a subset of set1\n"
     ]
    }
   ],
   "source": [
    "#Define two sets\n",
    "set1 = {1, 2, 3, 4, 5}\n",
    "set2 = {3, 4}\n",
    "\n",
    "# Check if set2 is a subset of set1\n",
    "is_subset = set2.issubset(set1)\n",
    "\n",
    "# Print the result\n",
    "if is_subset:\n",
    "    print(\"set2 is a subset of set1\")\n",
    "else:\n",
    "    print(\"set2 is not a subset of set1 \")"
   ]
  },
  {
   "cell_type": "markdown",
   "id": "e4c75c0f-04e8-4548-81cf-da2fb02d93ed",
   "metadata": {},
   "source": [
    "Q.49:Create a set of alternating 0s and 1s:"
   ]
  },
  {
   "cell_type": "code",
   "execution_count": 2,
   "id": "537bcf46-4a38-4bb5-acb9-5fcff983adf5",
   "metadata": {},
   "outputs": [
    {
     "name": "stdout",
     "output_type": "stream",
     "text": [
      "{0, 1}\n"
     ]
    }
   ],
   "source": [
    "def create_alternating_set(n):\n",
    "    # Initialize an empty set to store the alternating sequence.\n",
    "    alternating_set = set()\n",
    "\n",
    "    # Loop to generate alternating 1s and 0s.\n",
    "    for i in range(n):\n",
    "        # Alternate between adding 1 and 0 to the set based on whether i is even or odd.\n",
    "        if i % 2 == 0:\n",
    "            alternating_set.add(1)  # Add 1 if i is even.\n",
    "        else:\n",
    "            alternating_set.add(0)  # Add 0 if i is odd.\n",
    "\n",
    "    return alternating_set\n",
    "\n",
    "# Define the desired length of the alternating set.\n",
    "length_n = 10\n",
    "\n",
    "# Call the function to create the alternating set of length 'length_n'.\n",
    "result = create_alternating_set(length_n)\n",
    "\n",
    "# Print the resulting set.\n",
    "print(result)"
   ]
  },
  {
   "cell_type": "markdown",
   "id": "7f0da35a-e114-4b81-b2b5-21b2e2b9ebbe",
   "metadata": {},
   "source": [
    "Q.50: Merge multiple sets into one:"
   ]
  },
  {
   "cell_type": "code",
   "execution_count": 3,
   "id": "d25de16f-8257-4045-bb46-fede5e86109e",
   "metadata": {},
   "outputs": [
    {
     "name": "stdout",
     "output_type": "stream",
     "text": [
      "Merged Set: {1, 2, 3, 4, 5, 6, 7}\n"
     ]
    }
   ],
   "source": [
    "# Step 1: Create multiple sets\n",
    "set1 = {1, 2, 3}\n",
    "set2 = {3, 4, 5}\n",
    "set3 = {5, 6, 7}\n",
    "\n",
    "# Step 2: Use the union() method to merge sets\n",
    "merged_set = set1.union(set2, set3)\n",
    "\n",
    "# Alternatively, you can use the | operator\n",
    "# merged_set = set1 | set2 | set3\n",
    "\n",
    "# Step 3: Print the merged set\n",
    "print(\"Merged Set:\", merged_set)"
   ]
  },
  {
   "cell_type": "code",
   "execution_count": null,
   "id": "f485daa2-b89c-4a3d-b5e6-8d38ef0aa262",
   "metadata": {},
   "outputs": [],
   "source": []
  },
  {
   "cell_type": "code",
   "execution_count": null,
   "id": "11f5fba7-addc-415b-8c1e-95cf72a32463",
   "metadata": {},
   "outputs": [],
   "source": []
  },
  {
   "cell_type": "code",
   "execution_count": null,
   "id": "4e00a49a-365a-4a9a-9e78-96b353a0be58",
   "metadata": {},
   "outputs": [],
   "source": []
  },
  {
   "cell_type": "code",
   "execution_count": null,
   "id": "4f9dbdcb-fae2-423a-bb45-26366041e7f1",
   "metadata": {},
   "outputs": [],
   "source": []
  },
  {
   "cell_type": "code",
   "execution_count": null,
   "id": "d9b9fcba-16b6-4223-9ceb-24da74d48a97",
   "metadata": {},
   "outputs": [],
   "source": []
  },
  {
   "cell_type": "code",
   "execution_count": null,
   "id": "9fd09513-f5e6-4cbb-9e39-0f7693772212",
   "metadata": {},
   "outputs": [],
   "source": []
  },
  {
   "cell_type": "code",
   "execution_count": null,
   "id": "74969265-dd0b-48fd-ada8-bbf8358797be",
   "metadata": {},
   "outputs": [],
   "source": []
  },
  {
   "cell_type": "code",
   "execution_count": null,
   "id": "5164c649-2017-4adf-97b4-de4ea3fde7b6",
   "metadata": {},
   "outputs": [],
   "source": []
  },
  {
   "cell_type": "code",
   "execution_count": null,
   "id": "39f9522d-15ed-4dbe-9fc0-3679a56d0d64",
   "metadata": {},
   "outputs": [],
   "source": []
  },
  {
   "cell_type": "code",
   "execution_count": null,
   "id": "f7bdb20d-6964-4798-88df-e670cf9c597c",
   "metadata": {},
   "outputs": [],
   "source": []
  },
  {
   "cell_type": "code",
   "execution_count": null,
   "id": "f53ef671-bf05-4b98-b25d-ac765ffa4939",
   "metadata": {},
   "outputs": [],
   "source": []
  },
  {
   "cell_type": "code",
   "execution_count": null,
   "id": "2bbfc1e8-5352-40b1-8f9c-3e8171de4ddc",
   "metadata": {},
   "outputs": [],
   "source": []
  },
  {
   "cell_type": "code",
   "execution_count": null,
   "id": "3cd32a54-2e7c-4c91-bb4a-7010f8709dd7",
   "metadata": {},
   "outputs": [],
   "source": []
  },
  {
   "cell_type": "code",
   "execution_count": null,
   "id": "fd8f73d4-8037-45e1-be78-173d0992c4e2",
   "metadata": {},
   "outputs": [],
   "source": []
  },
  {
   "cell_type": "code",
   "execution_count": null,
   "id": "99f1dd38-0b2c-45b5-bb1c-465e78e8fb8a",
   "metadata": {},
   "outputs": [],
   "source": []
  },
  {
   "cell_type": "code",
   "execution_count": null,
   "id": "9605fabb-fbe9-4655-90ce-72be16f031f8",
   "metadata": {},
   "outputs": [],
   "source": [
    "25."
   ]
  }
 ],
 "metadata": {
  "kernelspec": {
   "display_name": "Python 3 (ipykernel)",
   "language": "python",
   "name": "python3"
  },
  "language_info": {
   "codemirror_mode": {
    "name": "ipython",
    "version": 3
   },
   "file_extension": ".py",
   "mimetype": "text/x-python",
   "name": "python",
   "nbconvert_exporter": "python",
   "pygments_lexer": "ipython3",
   "version": "3.10.8"
  }
 },
 "nbformat": 4,
 "nbformat_minor": 5
}
